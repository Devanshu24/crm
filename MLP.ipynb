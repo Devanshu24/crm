{
 "cells": [
  {
   "cell_type": "code",
   "execution_count": 87,
   "id": "e66ffa0e-85b4-41b2-a355-6a9c3115cc12",
   "metadata": {},
   "outputs": [],
   "source": [
    "import argparse\n",
    "import sys\n",
    "\n",
    "import torch\n",
    "import torch.nn as nn\n",
    "import torch.nn.functional as F\n",
    "from tqdm.auto import trange, tqdm\n",
    "from crm.core import Network\n",
    "from crm.utils import get_explanations, get_metrics, make_dataset_cli, train, seed_all\n",
    "import matplotlib.pyplot as plt"
   ]
  },
  {
   "cell_type": "code",
   "execution_count": 88,
   "id": "e35f96c1-8617-423e-a3d1-3bb45aa5e4e0",
   "metadata": {},
   "outputs": [],
   "source": [
    "seed_all(24)"
   ]
  },
  {
   "cell_type": "code",
   "execution_count": 89,
   "id": "a83ab4bb-0d00-4c16-b00b-703ca954a488",
   "metadata": {},
   "outputs": [],
   "source": [
    "file_name = \"./chess1.in\"\n",
    "with open(file_name, \"r\") as f:\n",
    "    graph_file = f.readline()[:-1]\n",
    "    train_file = f.readline()[:-1]\n",
    "    test_files = f.readline()[:-1].split()\n",
    "X_train, y_train, test_dataset, adj_list = make_dataset_cli(\n",
    "    graph_file, train_file, test_files\n",
    ")"
   ]
  },
  {
   "cell_type": "code",
   "execution_count": 90,
   "id": "82d1c892-0843-4fad-964f-fa221dd84d09",
   "metadata": {},
   "outputs": [],
   "source": [
    "class MLP(nn.Module):\n",
    "    def __init__(self, in_dim, out_dim):\n",
    "        super(MLP, self).__init__()\n",
    "        self.mlp = nn.Sequential(nn.Linear(in_dim, 128), nn.ReLU(), nn.Dropout(0.2), nn.Linear(128, 256),nn.ReLU(), nn.Linear(256, 128), nn.ReLU(), nn.Linear(128, 16), nn.ReLU(), nn.Linear(16, 2))\n",
    "        \n",
    "    def forward(self, x):\n",
    "        return self.mlp(x)\n",
    "    def reset(self):\n",
    "        pass"
   ]
  },
  {
   "cell_type": "code",
   "execution_count": 91,
   "id": "6daf255b-c48a-4a53-b84d-548c54c49c6f",
   "metadata": {},
   "outputs": [],
   "source": [
    "mlp = MLP(23, 2)"
   ]
  },
  {
   "cell_type": "code",
   "execution_count": 92,
   "id": "4dfa9c98-23c8-4d7d-8ed8-ecac3ba13294",
   "metadata": {},
   "outputs": [],
   "source": [
    "idx = torch.randperm(X_train.shape[0])\n",
    "X_train = X_train[idx]\n",
    "y_train = y_train[idx]\n",
    "\n",
    "X_train = X_train[:, :23].float()"
   ]
  },
  {
   "cell_type": "code",
   "execution_count": 93,
   "id": "fcdda15a-33e2-4613-ac60-3cde456b5f10",
   "metadata": {},
   "outputs": [
    {
     "data": {
      "text/plain": [
       "torch.float32"
      ]
     },
     "execution_count": 93,
     "metadata": {},
     "output_type": "execute_result"
    }
   ],
   "source": [
    "X_train.float().dtype"
   ]
  },
  {
   "cell_type": "code",
   "execution_count": 100,
   "id": "df588365-af66-4135-b5e7-60879ef5664a",
   "metadata": {},
   "outputs": [],
   "source": [
    "def train(\n",
    "    n: Network,\n",
    "    X_train,\n",
    "    y_train,\n",
    "    num_epochs: int,\n",
    "    optimizer: torch.optim.Optimizer,\n",
    "    criterion,\n",
    "    X_val=None,\n",
    "    y_val=None,\n",
    "    verbose: bool = False,\n",
    "):\n",
    "    mlp.train()\n",
    "    train_losses = []\n",
    "    val_losses = []\n",
    "    train_accs = []\n",
    "    val_accs = []\n",
    "    for e in trange(num_epochs):\n",
    "        idx = torch.randperm(X_train.shape[0])\n",
    "        X_train = X_train[idx]\n",
    "        y_train = y_train[idx]\n",
    "        local_train_losses = []\n",
    "        f_mapper = X_train\n",
    "        out = n.forward(f_mapper)\n",
    "        loss = criterion(out, y_train)\n",
    "        local_train_losses.append(loss.item())\n",
    "        loss.backward()\n",
    "        optimizer.step()\n",
    "        optimizer.zero_grad()\n",
    "        with torch.no_grad():\n",
    "            train_losses.append(sum(local_train_losses) / len(local_train_losses))\n",
    "            train_accs.append(\n",
    "                get_metrics(n, X_train, y_train, output_dict=True)[\"accuracy\"]\n",
    "            )\n",
    "            if X_val is not None and y_val is not None:\n",
    "                local_val_losses = []\n",
    "                for j in range(len(X_val)):\n",
    "                    out = n.forward(X_val).reshape(1, -1)\n",
    "                    loss = criterion(out, y_val[j].reshape(1))\n",
    "                    local_val_losses.append(loss.item())\n",
    "                    n.reset()\n",
    "                val_losses.append(sum(local_val_losses) / len(local_val_losses))\n",
    "                val_accs.append(\n",
    "                    get_metrics(n, X_val, y_val, output_dict=True)[\"accuracy\"]\n",
    "                )\n",
    "        if verbose:\n",
    "            tqdm.write(f\"Epoch {e}\")\n",
    "            tqdm.write(f\"Train loss: {train_losses[-1]}\")\n",
    "            tqdm.write(f\"Train acc: {train_accs[-1]}\")\n",
    "            if X_val is not None and y_val is not None:\n",
    "                tqdm.write(f\"Val loss: {val_losses[-1]}\")\n",
    "                tqdm.write(f\"Val acc: {val_accs[-1]}\")\n",
    "            tqdm.write(\"##############################\")\n",
    "    return (\n",
    "        (train_losses, train_accs, val_losses, val_accs)\n",
    "        if X_val is not None and y_val is not None\n",
    "        else (train_losses, train_accs)\n",
    "    )"
   ]
  },
  {
   "cell_type": "code",
   "execution_count": 95,
   "id": "a1c2a51a-9820-470f-9838-c817261e1c59",
   "metadata": {},
   "outputs": [],
   "source": [
    "from sklearn.metrics import classification_report"
   ]
  },
  {
   "cell_type": "code",
   "execution_count": 106,
   "id": "5ce4201e-3bc9-481d-9dfd-0e0af0d164ea",
   "metadata": {},
   "outputs": [],
   "source": [
    "def get_metrics(n, X_test, y_test, output_dict=False):\n",
    "    y_pred = []\n",
    "    for inp in X_test:\n",
    "        y_pred.append(torch.argmax(n.forward(inp)))\n",
    "        n.reset()\n",
    "    cm = confusion_matrix(y_test.numpy(), torch.tensor(y_pred).numpy())\n",
    "    disp = ConfusionMatrixDisplay(confusion_matrix=cm)\n",
    "    disp.plot()\n",
    "    plt.show()\n",
    "    return classification_report(\n",
    "        (y_test).numpy(),\n",
    "        torch.tensor(y_pred).numpy(),\n",
    "        digits=4,\n",
    "        output_dict=output_dict,\n",
    "        zero_division=1,\n",
    "    )"
   ]
  },
  {
   "cell_type": "code",
   "execution_count": 97,
   "id": "47213e0a-d3f2-4ae8-86c7-96bbb115ac2a",
   "metadata": {},
   "outputs": [
    {
     "data": {
      "application/vnd.jupyter.widget-view+json": {
       "model_id": "f5be02e2719b4ebdb422f9017255f1a6",
       "version_major": 2,
       "version_minor": 0
      },
      "text/plain": [
       "  0%|          | 0/80 [00:00<?, ?it/s]"
      ]
     },
     "metadata": {},
     "output_type": "display_data"
    },
    {
     "name": "stdout",
     "output_type": "stream",
     "text": [
      "Epoch 0\n",
      "Train loss: 0.7117759585380554\n",
      "Train acc: 0.324\n",
      "##############################\n",
      "Epoch 1\n",
      "Train loss: 0.7044101357460022\n",
      "Train acc: 0.3291\n",
      "##############################\n",
      "Epoch 2\n",
      "Train loss: 0.6970650553703308\n",
      "Train acc: 0.6571\n",
      "##############################\n",
      "Epoch 3\n",
      "Train loss: 0.6899891495704651\n",
      "Train acc: 0.676\n",
      "##############################\n",
      "Epoch 4\n",
      "Train loss: 0.6821126937866211\n",
      "Train acc: 0.676\n",
      "##############################\n",
      "Epoch 5\n",
      "Train loss: 0.6729483604431152\n",
      "Train acc: 0.676\n",
      "##############################\n",
      "Epoch 6\n",
      "Train loss: 0.6629332304000854\n",
      "Train acc: 0.676\n",
      "##############################\n",
      "Epoch 7\n",
      "Train loss: 0.6522711515426636\n",
      "Train acc: 0.676\n",
      "##############################\n",
      "Epoch 8\n",
      "Train loss: 0.641025185585022\n",
      "Train acc: 0.676\n",
      "##############################\n",
      "Epoch 9\n",
      "Train loss: 0.6313424110412598\n",
      "Train acc: 0.676\n",
      "##############################\n",
      "Epoch 10\n",
      "Train loss: 0.6229174137115479\n",
      "Train acc: 0.676\n",
      "##############################\n",
      "Epoch 11\n",
      "Train loss: 0.6184666752815247\n",
      "Train acc: 0.676\n",
      "##############################\n",
      "Epoch 12\n",
      "Train loss: 0.617250382900238\n",
      "Train acc: 0.676\n",
      "##############################\n",
      "Epoch 13\n",
      "Train loss: 0.6144487261772156\n",
      "Train acc: 0.676\n",
      "##############################\n",
      "Epoch 14\n",
      "Train loss: 0.6093408465385437\n",
      "Train acc: 0.676\n",
      "##############################\n",
      "Epoch 15\n",
      "Train loss: 0.6009472608566284\n",
      "Train acc: 0.676\n",
      "##############################\n",
      "Epoch 16\n",
      "Train loss: 0.5917853116989136\n",
      "Train acc: 0.676\n",
      "##############################\n",
      "Epoch 17\n",
      "Train loss: 0.5842622518539429\n",
      "Train acc: 0.6761\n",
      "##############################\n",
      "Epoch 18\n",
      "Train loss: 0.5768198370933533\n",
      "Train acc: 0.6772\n",
      "##############################\n",
      "Epoch 19\n",
      "Train loss: 0.568935215473175\n",
      "Train acc: 0.6809\n",
      "##############################\n",
      "Epoch 20\n",
      "Train loss: 0.5604149103164673\n",
      "Train acc: 0.6878\n",
      "##############################\n",
      "Epoch 21\n",
      "Train loss: 0.5516610145568848\n",
      "Train acc: 0.6958\n",
      "##############################\n",
      "Epoch 22\n",
      "Train loss: 0.5410374999046326\n",
      "Train acc: 0.7071\n",
      "##############################\n",
      "Epoch 23\n",
      "Train loss: 0.5288397073745728\n",
      "Train acc: 0.7182\n",
      "##############################\n",
      "Epoch 24\n",
      "Train loss: 0.518213152885437\n",
      "Train acc: 0.7324\n",
      "##############################\n",
      "Epoch 25\n",
      "Train loss: 0.5079777240753174\n",
      "Train acc: 0.7451\n",
      "##############################\n",
      "Epoch 26\n",
      "Train loss: 0.49550268054008484\n",
      "Train acc: 0.7591\n",
      "##############################\n",
      "Epoch 27\n",
      "Train loss: 0.48625776171684265\n",
      "Train acc: 0.7748\n",
      "##############################\n",
      "Epoch 28\n",
      "Train loss: 0.47655776143074036\n",
      "Train acc: 0.7886\n",
      "##############################\n",
      "Epoch 29\n",
      "Train loss: 0.4684959948062897\n",
      "Train acc: 0.8038\n",
      "##############################\n",
      "Epoch 30\n",
      "Train loss: 0.4593488276004791\n",
      "Train acc: 0.8113\n",
      "##############################\n",
      "Epoch 31\n",
      "Train loss: 0.4509068429470062\n",
      "Train acc: 0.8154\n",
      "##############################\n",
      "Epoch 32\n",
      "Train loss: 0.44579705595970154\n",
      "Train acc: 0.8184\n",
      "##############################\n",
      "Epoch 33\n",
      "Train loss: 0.43678197264671326\n",
      "Train acc: 0.8206\n",
      "##############################\n",
      "Epoch 34\n",
      "Train loss: 0.4291176199913025\n",
      "Train acc: 0.8233\n",
      "##############################\n",
      "Epoch 35\n",
      "Train loss: 0.4253389239311218\n",
      "Train acc: 0.8265\n",
      "##############################\n",
      "Epoch 36\n",
      "Train loss: 0.4188239276409149\n",
      "Train acc: 0.8307\n",
      "##############################\n",
      "Epoch 37\n",
      "Train loss: 0.4127219319343567\n",
      "Train acc: 0.8335\n",
      "##############################\n",
      "Epoch 38\n",
      "Train loss: 0.4062255620956421\n",
      "Train acc: 0.8345\n",
      "##############################\n",
      "Epoch 39\n",
      "Train loss: 0.40206411480903625\n",
      "Train acc: 0.8329\n",
      "##############################\n",
      "Epoch 40\n",
      "Train loss: 0.3968261778354645\n",
      "Train acc: 0.8357\n",
      "##############################\n",
      "Epoch 41\n",
      "Train loss: 0.3887515962123871\n",
      "Train acc: 0.8362\n",
      "##############################\n",
      "Epoch 42\n",
      "Train loss: 0.3851446211338043\n",
      "Train acc: 0.8419\n",
      "##############################\n",
      "Epoch 43\n",
      "Train loss: 0.3783108592033386\n",
      "Train acc: 0.8424\n",
      "##############################\n",
      "Epoch 44\n",
      "Train loss: 0.37384092807769775\n",
      "Train acc: 0.8484\n",
      "##############################\n",
      "Epoch 45\n",
      "Train loss: 0.3663719594478607\n",
      "Train acc: 0.8552\n",
      "##############################\n",
      "Epoch 46\n",
      "Train loss: 0.35847628116607666\n",
      "Train acc: 0.8559\n",
      "##############################\n",
      "Epoch 47\n",
      "Train loss: 0.35228151082992554\n",
      "Train acc: 0.859\n",
      "##############################\n",
      "Epoch 48\n",
      "Train loss: 0.3477332890033722\n",
      "Train acc: 0.8615\n",
      "##############################\n",
      "Epoch 49\n",
      "Train loss: 0.3399287760257721\n",
      "Train acc: 0.8731\n",
      "##############################\n",
      "Epoch 50\n",
      "Train loss: 0.3298603296279907\n",
      "Train acc: 0.8768\n",
      "##############################\n",
      "Epoch 51\n",
      "Train loss: 0.32767796516418457\n",
      "Train acc: 0.8801\n",
      "##############################\n",
      "Epoch 52\n",
      "Train loss: 0.3147227168083191\n",
      "Train acc: 0.8865\n",
      "##############################\n",
      "Epoch 53\n",
      "Train loss: 0.3104231059551239\n",
      "Train acc: 0.8921\n",
      "##############################\n",
      "Epoch 54\n",
      "Train loss: 0.303237646818161\n",
      "Train acc: 0.8928\n",
      "##############################\n",
      "Epoch 55\n",
      "Train loss: 0.29264339804649353\n",
      "Train acc: 0.8966\n",
      "##############################\n",
      "Epoch 56\n",
      "Train loss: 0.2861967980861664\n",
      "Train acc: 0.8997\n",
      "##############################\n",
      "Epoch 57\n",
      "Train loss: 0.2809390723705292\n",
      "Train acc: 0.9025\n",
      "##############################\n",
      "Epoch 58\n",
      "Train loss: 0.2682152986526489\n",
      "Train acc: 0.9014\n",
      "##############################\n",
      "Epoch 59\n",
      "Train loss: 0.26189735531806946\n",
      "Train acc: 0.9048\n",
      "##############################\n",
      "Epoch 60\n",
      "Train loss: 0.2519577145576477\n",
      "Train acc: 0.9056\n",
      "##############################\n",
      "Epoch 61\n",
      "Train loss: 0.24774667620658875\n",
      "Train acc: 0.9091\n",
      "##############################\n",
      "Epoch 62\n",
      "Train loss: 0.24200373888015747\n",
      "Train acc: 0.9093\n",
      "##############################\n",
      "Epoch 63\n",
      "Train loss: 0.23223203420639038\n",
      "Train acc: 0.9084\n",
      "##############################\n",
      "Epoch 64\n",
      "Train loss: 0.22170083224773407\n",
      "Train acc: 0.9103\n",
      "##############################\n",
      "Epoch 65\n",
      "Train loss: 0.21232348680496216\n",
      "Train acc: 0.9165\n",
      "##############################\n",
      "Epoch 66\n",
      "Train loss: 0.20751911401748657\n",
      "Train acc: 0.9182\n",
      "##############################\n",
      "Epoch 67\n",
      "Train loss: 0.2017938792705536\n",
      "Train acc: 0.9181\n",
      "##############################\n",
      "Epoch 68\n",
      "Train loss: 0.19220122694969177\n",
      "Train acc: 0.9151\n",
      "##############################\n",
      "Epoch 69\n",
      "Train loss: 0.18714043498039246\n",
      "Train acc: 0.9225\n",
      "##############################\n",
      "Epoch 70\n",
      "Train loss: 0.1805892437696457\n",
      "Train acc: 0.9227\n",
      "##############################\n",
      "Epoch 71\n",
      "Train loss: 0.17974531650543213\n",
      "Train acc: 0.9241\n",
      "##############################\n",
      "Epoch 72\n",
      "Train loss: 0.17358899116516113\n",
      "Train acc: 0.9255\n",
      "##############################\n",
      "Epoch 73\n",
      "Train loss: 0.17037376761436462\n",
      "Train acc: 0.9287\n",
      "##############################\n",
      "Epoch 74\n",
      "Train loss: 0.16418470442295074\n",
      "Train acc: 0.9275\n",
      "##############################\n",
      "Epoch 75\n",
      "Train loss: 0.1576731652021408\n",
      "Train acc: 0.93\n",
      "##############################\n",
      "Epoch 76\n",
      "Train loss: 0.16106083989143372\n",
      "Train acc: 0.9345\n",
      "##############################\n",
      "Epoch 77\n",
      "Train loss: 0.1539739966392517\n",
      "Train acc: 0.9281\n",
      "##############################\n",
      "Epoch 78\n",
      "Train loss: 0.15272553265094757\n",
      "Train acc: 0.9276\n",
      "##############################\n",
      "Epoch 79\n",
      "Train loss: 0.14769849181175232\n",
      "Train acc: 0.9354\n",
      "##############################\n"
     ]
    }
   ],
   "source": [
    "train_losses, train_accs = train(mlp, X_train, y_train, 80, torch.optim.Adam(mlp.parameters(), lr=1e-3), F.cross_entropy, verbose=True)"
   ]
  },
  {
   "cell_type": "code",
   "execution_count": 98,
   "id": "26782f28-137f-4bd8-aa64-924e2aaec3b2",
   "metadata": {},
   "outputs": [
    {
     "data": {
      "text/plain": [
       "[<matplotlib.lines.Line2D at 0x7f70b0eadf70>]"
      ]
     },
     "execution_count": 98,
     "metadata": {},
     "output_type": "execute_result"
    },
    {
     "data": {
      "image/png": "[encoded data removed]",
      "text/plain": [
       "<Figure size 432x288 with 1 Axes>"
      ]
     },
     "metadata": {
      "needs_background": "light"
     },
     "output_type": "display_data"
    }
   ],
   "source": [
    "plt.plot(train_losses)"
   ]
  },
  {
   "cell_type": "code",
   "execution_count": 107,
   "id": "976877c9-660b-4f33-95c4-610939179ea7",
   "metadata": {},
   "outputs": [],
   "source": [
    "from sklearn.metrics import confusion_matrix, ConfusionMatrixDisplay"
   ]
  },
  {
   "cell_type": "code",
   "execution_count": 112,
   "id": "f11c49b4-ecb9-4d2a-af55-45881f42222d",
   "metadata": {},
   "outputs": [
    {
     "data": {
      "image/png": "[encoded data removed]",
      "text/plain": [
       "<Figure size 432x288 with 2 Axes>"
      ]
     },
     "metadata": {
      "needs_background": "light"
     },
     "output_type": "display_data"
    },
    {
     "name": "stdout",
     "output_type": "stream",
     "text": [
      "              precision    recall  f1-score   support\n",
      "\n",
      "           0     0.9577    0.9601    0.9589      6760\n",
      "           1     0.9162    0.9114    0.9138      3240\n",
      "\n",
      "    accuracy                         0.9443     10000\n",
      "   macro avg     0.9369    0.9357    0.9363     10000\n",
      "weighted avg     0.9442    0.9443    0.9443     10000\n",
      "\n"
     ]
    }
   ],
   "source": [
    "mlp.eval()\n",
    "print(get_metrics(mlp, X_train, y_train))"
   ]
  },
  {
   "cell_type": "code",
   "execution_count": 108,
   "id": "af30068b-9bea-4c33-bf22-1335484c3eec",
   "metadata": {},
   "outputs": [
    {
     "data": {
      "image/png": "[encoded data removed]",
      "text/plain": [
       "<Figure size 432x288 with 2 Axes>"
      ]
     },
     "metadata": {
      "needs_background": "light"
     },
     "output_type": "display_data"
    },
    {
     "name": "stdout",
     "output_type": "stream",
     "text": [
      "              precision    recall  f1-score   support\n",
      "\n",
      "           0     0.0238    0.4444    0.0452        18\n",
      "           1     0.9896    0.7438    0.8492      1280\n",
      "\n",
      "    accuracy                         0.7396      1298\n",
      "   macro avg     0.5067    0.5941    0.4472      1298\n",
      "weighted avg     0.9762    0.7396    0.8381      1298\n",
      "\n"
     ]
    }
   ],
   "source": [
    "mlp.eval()\n",
    "print(get_metrics(mlp, test_dataset[0][0][:, :23].float(), test_dataset[0][1]))"
   ]
  },
  {
   "cell_type": "code",
   "execution_count": 2,
   "id": "ae78129c-659d-499a-be81-64b387664e41",
   "metadata": {},
   "outputs": [],
   "source": [
    "# TP:1280\n",
    "# FP:18\n",
    "# TN:0\n",
    "# FN:0"
   ]
  },
  {
   "cell_type": "code",
   "execution_count": 109,
   "id": "be6e9ba8-1f02-4dcb-ba96-c84984abad8c",
   "metadata": {},
   "outputs": [
    {
     "data": {
      "image/png": "[encoded data removed]",
      "text/plain": [
       "<Figure size 432x288 with 2 Axes>"
      ]
     },
     "metadata": {
      "needs_background": "light"
     },
     "output_type": "display_data"
    },
    {
     "name": "stdout",
     "output_type": "stream",
     "text": [
      "              precision    recall  f1-score   support\n",
      "\n",
      "           0     1.0000    0.0000    0.0000        14\n",
      "           1     0.9883    1.0000    0.9941      1185\n",
      "\n",
      "    accuracy                         0.9883      1199\n",
      "   macro avg     0.9942    0.5000    0.4971      1199\n",
      "weighted avg     0.9885    0.9883    0.9825      1199\n",
      "\n"
     ]
    }
   ],
   "source": [
    "mlp.eval()\n",
    "print(get_metrics(mlp, test_dataset[1][0][:, :23].float(), test_dataset[1][1]))"
   ]
  },
  {
   "cell_type": "code",
   "execution_count": 110,
   "id": "53da6d29-81c2-4d36-8a6a-b6aee1805c78",
   "metadata": {},
   "outputs": [
    {
     "data": {
      "image/png": "[encoded data removed]",
      "text/plain": [
       "<Figure size 432x288 with 2 Axes>"
      ]
     },
     "metadata": {
      "needs_background": "light"
     },
     "output_type": "display_data"
    },
    {
     "name": "stdout",
     "output_type": "stream",
     "text": [
      "              precision    recall  f1-score   support\n",
      "\n",
      "           1     1.0000    1.0000    1.0000      1259\n",
      "\n",
      "    accuracy                         1.0000      1259\n",
      "   macro avg     1.0000    1.0000    1.0000      1259\n",
      "weighted avg     1.0000    1.0000    1.0000      1259\n",
      "\n"
     ]
    }
   ],
   "source": [
    "mlp.eval()\n",
    "print(get_metrics(mlp, test_dataset[2][0][:, :23].float(), test_dataset[2][1]))"
   ]
  },
  {
   "cell_type": "code",
   "execution_count": null,
   "id": "ba8cfc14-0855-43c5-b6e9-f2345ef4f93c",
   "metadata": {},
   "outputs": [],
   "source": []
  }
 ],
 "metadata": {
  "kernelspec": {
   "display_name": "Python 3 (ipykernel)",
   "language": "python",
   "name": "python3"
  },
  "language_info": {
   "codemirror_mode": {
    "name": "ipython",
    "version": 3
   },
   "file_extension": ".py",
   "mimetype": "text/x-python",
   "name": "python",
   "nbconvert_exporter": "python",
   "pygments_lexer": "ipython3",
   "version": "3.8.12"
  }
 },
 "nbformat": 4,
 "nbformat_minor": 5
}
