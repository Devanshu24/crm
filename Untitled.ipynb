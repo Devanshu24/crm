{
 "cells": [
  {
   "cell_type": "code",
   "execution_count": 1,
   "id": "ec18afae-e1b1-435d-bd51-d1bf7d1164ca",
   "metadata": {},
   "outputs": [],
   "source": [
    "from crm.core import Network"
   ]
  },
  {
   "cell_type": "code",
   "execution_count": 21,
   "id": "b250c6d8-e353-46bb-9fd2-65aefa922cba",
   "metadata": {},
   "outputs": [
    {
     "name": "stdout",
     "output_type": "stream",
     "text": [
      "func(f(935),[type=complex,def=(train(_131555):-has_car(_131555,_131561),shape(_131561,rectangle),has_car(_131555,_131573),closed(_131573),has_car(_131555,_131584),short(_131584))]).\n",
      "\n",
      "func(f(849),[type=complex,def=(train(_131555):-has_car(_131555,_131561),short(_131561),has_car(_131555,_131572),double(_131572),has_car(_131555,_131583),closed(_131583))]).\n",
      "\n",
      "func(f(787),[type=complex,def=(train(_131555):-has_car(_131555,_131561),closed(_131561),has_car(_131555,_131572),shape(_131572,u_shaped),has_car(_131555,_131584),short(_131584))]).\n",
      "\n",
      "func(f(641),[type=complex,def=(train(_131555):-has_car(_131555,_131561),open_car(_131561),has_car(_131555,_131572),closed(_131572),has_car(_131555,_131583),short(_131583))]).\n",
      "\n",
      "func(f(633),[type=complex,def=(train(_131555):-has_car(_131555,_131561),closed(_131561),has_car(_131555,_131572),short(_131572),_131572\\=_131561)]).\n",
      "\n",
      "func(f(511),[type=complex,def=(train(_131555):-has_car(_131555,_131561),short(_131561),has_car(_131555,_131572),load(_131572,circle,2),has_car(_131555,_131585),closed(_131585))]).\n",
      "\n",
      "func(f(467),[type=complex,def=(train(_131555):-has_car(_131555,_131561),load(_131561,circle,1),has_car(_131555,_131574),closed(_131574),has_car(_131555,_131585),short(_131585))]).\n",
      "\n",
      "func(f(371),[type=complex,def=(train(_131555):-has_car(_131555,_131561),closed(_131561),has_car(_131555,_131572),short(_131572),_131561\\=_131572)]).\n",
      "\n",
      "func(f(327),[type=complex,def=(train(_131555):-has_car(_131555,_131561),closed(_131561),has_car(_131555,_131572),short(_131572),_131561=_131572)]).\n",
      "\n",
      "func(f(266),[type=complex,def=(train(_131555):-has_car(_131555,_131561),closed(_131561),has_car(_131555,_131572),double(_131572),has_car(_131555,_131583),short(_131583))]).\n",
      "\n",
      "func(f(127),[type=complex,def=(train(_131555):-has_car(_131555,_131561),closed(_131561),has_car(_131555,_131572),short(_131572))]).\n",
      "\n"
     ]
    }
   ],
   "source": [
    "with open(\"./data/sample5/raw/rand_crm_1np.pl\") as f:\n",
    "    get = True\n",
    "    count=0\n",
    "    while get:\n",
    "        get = f.readline()\n",
    "        count+=1\n",
    "        if (\"short\" in get) and (\"closed\" in get):\n",
    "            print(get)\n",
    "        # break"
   ]
  },
  {
   "cell_type": "code",
   "execution_count": null,
   "id": "e5194442-8723-4809-803e-2ee99ffa6049",
   "metadata": {},
   "outputs": [],
   "source": [
    "\"\"\"\n",
    "func(f(327),[type=complex,def=(train(_131555):-has_car(_131555,_131561),closed(_131561),has_car(_131555,_131572),short(_131572),_131561=_131572)]).\n",
    "\"\"\""
   ]
  },
  {
   "cell_type": "code",
   "execution_count": 17,
   "id": "62b96922-7677-4a48-9d2b-13e468d3f5db",
   "metadata": {},
   "outputs": [
    {
     "data": {
      "text/plain": [
       "'\\nfunc(f(960),[type=complex,def=(train(_157323):-has_car(_157323,_157329),closed(_157329),has_car(_157323,_157340),short(_157340),_157329=_157340)]).\\nfunc(f(908),[type=complex,def=(train(_157323):-has_car(_157323,_157329),closed(_157329),has_car(_157323,_157340),short(_157340),_157329=_157340)]).\\nfunc(f(877),[type=complex,def=(train(_157323):-has_car(_157323,_157329),closed(_157329),has_car(_157323,_157340),short(_157340),_157329=_157340)]).\\nfunc(f(846),[type=complex,def=(train(_157323):-has_car(_157323,_157329),closed(_157329),has_car(_157323,_157340),short(_157340),_157329=_157340)]).\\nfunc(f(827),[type=complex,def=(train(_157323):-has_car(_157323,_157329),closed(_157329),has_car(_157323,_157340),short(_157340),_157329=_157340)]).\\nfunc(f(800),[type=complex,def=(train(_157323):-has_car(_157323,_157329),closed(_157329),has_car(_157323,_157340),short(_157340),_157329=_157340)]).\\nfunc(f(768),[type=complex,def=(train(_157323):-has_car(_157323,_157329),closed(_157329),has_car(_157323,_157340),short(_157340),_157329=_157340)]).\\nfunc(f(710),[type=complex,def=(train(_157323):-has_car(_157323,_157329),closed(_157329),has_car(_157323,_157340),short(_157340),_157329=_157340)]).\\nfunc(f(684),[type=complex,def=(train(_157323):-has_car(_157323,_157329),closed(_157329),has_car(_157323,_157340),short(_157340),_157329=_157340)]).\\nfunc(f(595),[type=complex,def=(train(_157323):-has_car(_157323,_157329),closed(_157329),has_car(_157323,_157340),short(_157340),_157329=_157340)]).\\nfunc(f(574),[type=complex,def=(train(_157323):-has_car(_157323,_157329),closed(_157329),has_car(_157323,_157340),short(_157340),_157329=_157340)]).\\nfunc(f(532),[type=complex,def=(train(_157323):-has_car(_157323,_157329),closed(_157329),has_car(_157323,_157340),short(_157340),_157329=_157340)]).\\nfunc(f(484),[type=complex,def=(train(_157323):-has_car(_157323,_157329),closed(_157329),has_car(_157323,_157340),short(_157340),_157329=_157340)]).\\nfunc(f(430),[type=complex,def=(train(_157323):-has_car(_157323,_157329),closed(_157329),has_car(_157323,_157340),short(_157340),_157329=_157340)]).\\nfunc(f(408),[type=complex,def=(train(_157323):-has_car(_157323,_157329),closed(_157329),has_car(_157323,_157340),short(_157340),_157329=_157340)]).\\n'"
      ]
     },
     "execution_count": 17,
     "metadata": {},
     "output_type": "execute_result"
    }
   ],
   "source": [
    "\"\"\"\n",
    "func(f(960),[type=complex,def=(train(_157323):-has_car(_157323,_157329),closed(_157329),has_car(_157323,_157340),short(_157340),_157329=_157340)]).\n",
    "func(f(908),[type=complex,def=(train(_157323):-has_car(_157323,_157329),closed(_157329),has_car(_157323,_157340),short(_157340),_157329=_157340)]).\n",
    "func(f(877),[type=complex,def=(train(_157323):-has_car(_157323,_157329),closed(_157329),has_car(_157323,_157340),short(_157340),_157329=_157340)]).\n",
    "func(f(846),[type=complex,def=(train(_157323):-has_car(_157323,_157329),closed(_157329),has_car(_157323,_157340),short(_157340),_157329=_157340)]).\n",
    "func(f(827),[type=complex,def=(train(_157323):-has_car(_157323,_157329),closed(_157329),has_car(_157323,_157340),short(_157340),_157329=_157340)]).\n",
    "func(f(800),[type=complex,def=(train(_157323):-has_car(_157323,_157329),closed(_157329),has_car(_157323,_157340),short(_157340),_157329=_157340)]).\n",
    "func(f(768),[type=complex,def=(train(_157323):-has_car(_157323,_157329),closed(_157329),has_car(_157323,_157340),short(_157340),_157329=_157340)]).\n",
    "func(f(710),[type=complex,def=(train(_157323):-has_car(_157323,_157329),closed(_157329),has_car(_157323,_157340),short(_157340),_157329=_157340)]).\n",
    "func(f(684),[type=complex,def=(train(_157323):-has_car(_157323,_157329),closed(_157329),has_car(_157323,_157340),short(_157340),_157329=_157340)]).\n",
    "func(f(595),[type=complex,def=(train(_157323):-has_car(_157323,_157329),closed(_157329),has_car(_157323,_157340),short(_157340),_157329=_157340)]).\n",
    "func(f(574),[type=complex,def=(train(_157323):-has_car(_157323,_157329),closed(_157329),has_car(_157323,_157340),short(_157340),_157329=_157340)]).\n",
    "func(f(532),[type=complex,def=(train(_157323):-has_car(_157323,_157329),closed(_157329),has_car(_157323,_157340),short(_157340),_157329=_157340)]).\n",
    "func(f(484),[type=complex,def=(train(_157323):-has_car(_157323,_157329),closed(_157329),has_car(_157323,_157340),short(_157340),_157329=_157340)]).\n",
    "func(f(430),[type=complex,def=(train(_157323):-has_car(_157323,_157329),closed(_157329),has_car(_157323,_157340),short(_157340),_157329=_157340)]).\n",
    "func(f(408),[type=complex,def=(train(_157323):-has_car(_157323,_157329),closed(_157329),has_car(_157323,_157340),short(_157340),_157329=_157340)]).\n",
    "\"\"\""
   ]
  },
  {
   "cell_type": "code",
   "execution_count": null,
   "id": "d4e82b7c-486e-4152-aa3f-965654f33ed0",
   "metadata": {},
   "outputs": [],
   "source": []
  },
  {
   "cell_type": "code",
   "execution_count": null,
   "id": "7fc50924-6c04-4fee-9dd5-b4b9b434e66a",
   "metadata": {},
   "outputs": [],
   "source": []
  },
  {
   "cell_type": "code",
   "execution_count": null,
   "id": "bd30a405-43f4-441f-9668-17f7ab173d34",
   "metadata": {},
   "outputs": [],
   "source": []
  },
  {
   "cell_type": "code",
   "execution_count": 5,
   "id": "82194db6-a993-45aa-8307-34dd22f3d781",
   "metadata": {},
   "outputs": [
    {
     "ename": "AttributeError",
     "evalue": "module 'ray.tune' has no attribute 'reporting'",
     "output_type": "error",
     "traceback": [
      "\u001b[0;31m---------------------------------------------------------------------------\u001b[0m",
      "\u001b[0;31mAttributeError\u001b[0m                            Traceback (most recent call last)",
      "\u001b[0;32m/tmp/ipykernel_16311/341600571.py\u001b[0m in \u001b[0;36m<module>\u001b[0;34m\u001b[0m\n\u001b[1;32m     42\u001b[0m         \u001b[0mlocal_dir\u001b[0m\u001b[0;34m=\u001b[0m\u001b[0;34m\"./\"\u001b[0m\u001b[0;34m,\u001b[0m\u001b[0;34m\u001b[0m\u001b[0;34m\u001b[0m\u001b[0m\n\u001b[1;32m     43\u001b[0m         \u001b[0mverbose\u001b[0m\u001b[0;34m=\u001b[0m\u001b[0;36m1\u001b[0m\u001b[0;34m,\u001b[0m\u001b[0;34m\u001b[0m\u001b[0;34m\u001b[0m\u001b[0m\n\u001b[0;32m---> 44\u001b[0;31m         progress_reporter=tune.reporting.JsonReporter(\n\u001b[0m\u001b[1;32m     45\u001b[0m             \u001b[0moutput_path\u001b[0m\u001b[0;34m=\u001b[0m\u001b[0;34m\"./\"\u001b[0m\u001b[0;34m,\u001b[0m\u001b[0;34m\u001b[0m\u001b[0;34m\u001b[0m\u001b[0m\n\u001b[1;32m     46\u001b[0m             \u001b[0mexperiment_tag\u001b[0m\u001b[0;34m=\u001b[0m\u001b[0;34m\"train_tune\"\u001b[0m\u001b[0;34m,\u001b[0m\u001b[0;34m\u001b[0m\u001b[0;34m\u001b[0m\u001b[0m\n",
      "\u001b[0;31mAttributeError\u001b[0m: module 'ray.tune' has no attribute 'reporting'"
     ]
    }
   ],
   "source": [
    "import torch\n",
    "import torch.optim as optim\n",
    "from ray.tune.examples.mnist_pytorch import get_data_loaders, ConvNet, train, test\n",
    "from ray import tune\n",
    "from ray.tune.suggest.optuna import OptunaSearch\n",
    "import optuna\n",
    "\n",
    "def train_mnist(config):\n",
    "   use_cuda = torch.cuda.is_available()\n",
    "   device = torch.device(\"cuda\" if use_cuda else \"cpu\")\n",
    "   train_loader, test_loader = get_data_loaders()\n",
    "   model = ConvNet().to(device)\n",
    "\n",
    "   optimizer = optim.SGD(\n",
    "       model.parameters(), lr=config[\"lr\"], momentum=config[\"momentum\"])\n",
    "\n",
    "   for i in range(20):\n",
    "       train(model, optimizer, train_loader, device)\n",
    "       acc = test(model, test_loader, device)\n",
    "       tune.report(mean_accuracy=acc)\n",
    "\n",
    "\n",
    "import time\n",
    "start = time.time()\n",
    "# analysis = tune.run(\n",
    "#    train_mnist,\n",
    "#    config={\n",
    "#        \"lr\": tune.loguniform(1e-4, 1e-2),\n",
    "#        \"momentum\": tune.uniform(0.1, 0.9),\n",
    "#    },\n",
    "#    metric=\"mean_accuracy\",\n",
    "#    mode=\"max\",\n",
    "#    search_alg=OptunaSearch(),\n",
    "#    num_samples=10\n",
    "# )\n",
    "analysis = tune.run(\n",
    "        train_mnist,\n",
    "        name=\"train_tune\",\n",
    "        search_alg=OptunaSearch(),\n",
    "        resources_per_trial={\"cpu\": 1, \"gpu\": 0.5},\n",
    "        config={\"lr\": tune.loguniform(1e-4, 1e-2),\"momentum\": tune.uniform(0.1, 0.9),},\n",
    "        local_dir=\"./\",\n",
    "        verbose=1,\n",
    "        progress_reporter=tune.reporting.JsonReporter(\n",
    "            output_path=\"./\",\n",
    "            experiment_tag=\"train_tune\",\n",
    "            upload_url=\"http://localhost:8081\",\n",
    "        ),\n",
    "    )\n",
    "taken = time.time() - start\n",
    "print(f\"Time taken: {taken:.2f} seconds.\")\n",
    "print(f\"Best config: {analysis.best_config}\")"
   ]
  },
  {
   "cell_type": "code",
   "execution_count": 1,
   "id": "0db8804d-81e9-4da5-aac6-5de97c4817da",
   "metadata": {},
   "outputs": [
    {
     "name": "stderr",
     "output_type": "stream",
     "text": [
      "2022-03-18 14:24:55,589\tWARNING function_runner.py:561 -- Function checkpointing is disabled. This may result in unexpected behavior when using checkpointing features or certain schedulers. To enable, set the train function arguments to be `func(config, checkpoint_dir=None)`.\n",
      "2022-03-18 14:24:56,013\tWARNING tune.py:583 -- Tune detects GPUs, but no trials are using GPUs. To enable trials to use GPUs, set tune.run(resources_per_trial={'gpu': 1}...) which allows Tune to expose 1 GPU to each trial. You can also override `Trainable.default_resource_request` if using the Trainable API.\n"
     ]
    },
    {
     "data": {
      "text/html": [
       "== Status ==<br>Current time: 2022-03-18 14:24:56 (running for 00:00:00.55)<br>Memory usage on this node: 4.5/62.8 GiB<br>Using FIFO scheduling algorithm.<br>Resources requested: 1.0/16 CPUs, 0/2 GPUs, 0.0/35.98 GiB heap, 0.0/17.99 GiB objects (0.0/1.0 accelerator_type:P4000)<br>Result logdir: /home/dell7810/ray_results/objective_2022-03-18_14-24-55<br>Number of trials: 4/4 (3 PENDING, 1 RUNNING)<br><table>\n",
       "<thead>\n",
       "<tr><th>Trial name           </th><th>status  </th><th>loc            </th><th style=\"text-align: right;\">    a</th><th style=\"text-align: right;\">  b</th></tr>\n",
       "</thead>\n",
       "<tbody>\n",
       "<tr><td>objective_151ca_00000</td><td>RUNNING </td><td>10.1.19.26:1367</td><td style=\"text-align: right;\">0.001</td><td style=\"text-align: right;\">  2</td></tr>\n",
       "<tr><td>objective_151ca_00001</td><td>PENDING </td><td>               </td><td style=\"text-align: right;\">0.01 </td><td style=\"text-align: right;\">  3</td></tr>\n",
       "<tr><td>objective_151ca_00002</td><td>PENDING </td><td>               </td><td style=\"text-align: right;\">0.1  </td><td style=\"text-align: right;\">  3</td></tr>\n",
       "<tr><td>objective_151ca_00003</td><td>PENDING </td><td>               </td><td style=\"text-align: right;\">1    </td><td style=\"text-align: right;\">  2</td></tr>\n",
       "</tbody>\n",
       "</table><br><br>"
      ],
      "text/plain": [
       "<IPython.core.display.HTML object>"
      ]
     },
     "metadata": {},
     "output_type": "display_data"
    },
    {
     "name": "stdout",
     "output_type": "stream",
     "text": [
      "Result for objective_151ca_00000:\n",
      "  date: 2022-03-18_14-24-56\n",
      "  done: false\n",
      "  experiment_id: 0c05befb460041fe865ad04e32608c3d\n",
      "  hostname: dell7810\n",
      "  iterations_since_restore: 1\n",
      "  node_ip: 10.1.19.26\n",
      "  pid: 1367\n",
      "  score: 102.000001\n",
      "  time_since_restore: 0.00021386146545410156\n",
      "  time_this_iter_s: 0.00021386146545410156\n",
      "  time_total_s: 0.00021386146545410156\n",
      "  timestamp: 1647593696\n",
      "  timesteps_since_restore: 0\n",
      "  training_iteration: 1\n",
      "  trial_id: 151ca_00000\n",
      "  \n",
      "Result for objective_151ca_00000:\n",
      "  date: 2022-03-18_14-24-56\n",
      "  done: true\n",
      "  experiment_id: 0c05befb460041fe865ad04e32608c3d\n",
      "  experiment_tag: 0_a=0.001,b=2\n",
      "  hostname: dell7810\n",
      "  iterations_since_restore: 1\n",
      "  node_ip: 10.1.19.26\n",
      "  pid: 1367\n",
      "  score: 102.000001\n",
      "  time_since_restore: 0.00021386146545410156\n",
      "  time_this_iter_s: 0.00021386146545410156\n",
      "  time_total_s: 0.00021386146545410156\n",
      "  timestamp: 1647593696\n",
      "  timesteps_since_restore: 0\n",
      "  training_iteration: 1\n",
      "  trial_id: 151ca_00000\n",
      "  \n",
      "Result for objective_151ca_00001:\n",
      "  date: 2022-03-18_14-24-57\n",
      "  done: false\n",
      "  experiment_id: ae0e9428e6644190b291dff0e13db5a4\n",
      "  hostname: dell7810\n",
      "  iterations_since_restore: 1\n",
      "  node_ip: 10.1.19.26\n",
      "  pid: 1368\n",
      "  score: 103.0001\n",
      "  time_since_restore: 0.0002560615539550781\n",
      "  time_this_iter_s: 0.0002560615539550781\n",
      "  time_total_s: 0.0002560615539550781\n",
      "  timestamp: 1647593697\n",
      "  timesteps_since_restore: 0\n",
      "  training_iteration: 1\n",
      "  trial_id: 151ca_00001\n",
      "  \n",
      "Result for objective_151ca_00001:\n",
      "  date: 2022-03-18_14-24-57\n",
      "  done: true\n",
      "  experiment_id: ae0e9428e6644190b291dff0e13db5a4\n",
      "  experiment_tag: 1_a=0.01,b=3\n",
      "  hostname: dell7810\n",
      "  iterations_since_restore: 1\n",
      "  node_ip: 10.1.19.26\n",
      "  pid: 1368\n",
      "  score: 103.0001\n",
      "  time_since_restore: 0.0002560615539550781\n",
      "  time_this_iter_s: 0.0002560615539550781\n",
      "  time_total_s: 0.0002560615539550781\n",
      "  timestamp: 1647593697\n",
      "  timesteps_since_restore: 0\n",
      "  training_iteration: 1\n",
      "  trial_id: 151ca_00001\n",
      "  \n",
      "Result for objective_151ca_00003:\n",
      "  date: 2022-03-18_14-24-57\n",
      "  done: false\n",
      "  experiment_id: aa739232c4ad4655a494ff4cbc8a7d53\n",
      "  hostname: dell7810\n",
      "  iterations_since_restore: 1\n",
      "  node_ip: 10.1.19.26\n",
      "  pid: 1366\n",
      "  score: 103.0\n",
      "  time_since_restore: 0.00018787384033203125\n",
      "  time_this_iter_s: 0.00018787384033203125\n",
      "  time_total_s: 0.00018787384033203125\n",
      "  timestamp: 1647593697\n",
      "  timesteps_since_restore: 0\n",
      "  training_iteration: 1\n",
      "  trial_id: 151ca_00003\n",
      "  \n",
      "Result for objective_151ca_00002:\n",
      "  date: 2022-03-18_14-24-57\n",
      "  done: false\n",
      "  experiment_id: 27e3165128ed4e358a143990330d0e3d\n",
      "  hostname: dell7810\n",
      "  iterations_since_restore: 1\n",
      "  node_ip: 10.1.19.26\n",
      "  pid: 1354\n",
      "  score: 103.01\n",
      "  time_since_restore: 0.0002079010009765625\n",
      "  time_this_iter_s: 0.0002079010009765625\n",
      "  time_total_s: 0.0002079010009765625\n",
      "  timestamp: 1647593697\n",
      "  timesteps_since_restore: 0\n",
      "  training_iteration: 1\n",
      "  trial_id: 151ca_00002\n",
      "  \n",
      "Result for objective_151ca_00003:\n",
      "  date: 2022-03-18_14-24-57\n",
      "  done: true\n",
      "  experiment_id: aa739232c4ad4655a494ff4cbc8a7d53\n",
      "  experiment_tag: 3_a=1.0,b=2\n",
      "  hostname: dell7810\n",
      "  iterations_since_restore: 1\n",
      "  node_ip: 10.1.19.26\n",
      "  pid: 1366\n",
      "  score: 103.0\n",
      "  time_since_restore: 0.00018787384033203125\n",
      "  time_this_iter_s: 0.00018787384033203125\n",
      "  time_total_s: 0.00018787384033203125\n",
      "  timestamp: 1647593697\n",
      "  timesteps_since_restore: 0\n",
      "  training_iteration: 1\n",
      "  trial_id: 151ca_00003\n",
      "  \n",
      "Result for objective_151ca_00002:\n",
      "  date: 2022-03-18_14-24-57\n",
      "  done: true\n",
      "  experiment_id: 27e3165128ed4e358a143990330d0e3d\n",
      "  experiment_tag: 2_a=0.1,b=3\n",
      "  hostname: dell7810\n",
      "  iterations_since_restore: 1\n",
      "  node_ip: 10.1.19.26\n",
      "  pid: 1354\n",
      "  score: 103.01\n",
      "  time_since_restore: 0.0002079010009765625\n",
      "  time_this_iter_s: 0.0002079010009765625\n",
      "  time_total_s: 0.0002079010009765625\n",
      "  timestamp: 1647593697\n",
      "  timesteps_since_restore: 0\n",
      "  training_iteration: 1\n",
      "  trial_id: 151ca_00002\n",
      "  \n"
     ]
    },
    {
     "data": {
      "text/html": [
       "== Status ==<br>Current time: 2022-03-18 14:24:57 (running for 00:00:01.05)<br>Memory usage on this node: 4.3/62.8 GiB<br>Using FIFO scheduling algorithm.<br>Resources requested: 0/16 CPUs, 0/2 GPUs, 0.0/35.98 GiB heap, 0.0/17.99 GiB objects (0.0/1.0 accelerator_type:P4000)<br>Result logdir: /home/dell7810/ray_results/objective_2022-03-18_14-24-55<br>Number of trials: 4/4 (4 TERMINATED)<br><table>\n",
       "<thead>\n",
       "<tr><th>Trial name           </th><th>status    </th><th>loc            </th><th style=\"text-align: right;\">    a</th><th style=\"text-align: right;\">  b</th><th style=\"text-align: right;\">  iter</th><th style=\"text-align: right;\">  total time (s)</th><th style=\"text-align: right;\">  score</th></tr>\n",
       "</thead>\n",
       "<tbody>\n",
       "<tr><td>objective_151ca_00000</td><td>TERMINATED</td><td>10.1.19.26:1367</td><td style=\"text-align: right;\">0.001</td><td style=\"text-align: right;\">  2</td><td style=\"text-align: right;\">     1</td><td style=\"text-align: right;\">     0.000213861</td><td style=\"text-align: right;\"> 102   </td></tr>\n",
       "<tr><td>objective_151ca_00001</td><td>TERMINATED</td><td>10.1.19.26:1368</td><td style=\"text-align: right;\">0.01 </td><td style=\"text-align: right;\">  3</td><td style=\"text-align: right;\">     1</td><td style=\"text-align: right;\">     0.000256062</td><td style=\"text-align: right;\"> 103   </td></tr>\n",
       "<tr><td>objective_151ca_00002</td><td>TERMINATED</td><td>10.1.19.26:1354</td><td style=\"text-align: right;\">0.1  </td><td style=\"text-align: right;\">  3</td><td style=\"text-align: right;\">     1</td><td style=\"text-align: right;\">     0.000207901</td><td style=\"text-align: right;\"> 103.01</td></tr>\n",
       "<tr><td>objective_151ca_00003</td><td>TERMINATED</td><td>10.1.19.26:1366</td><td style=\"text-align: right;\">1    </td><td style=\"text-align: right;\">  2</td><td style=\"text-align: right;\">     1</td><td style=\"text-align: right;\">     0.000187874</td><td style=\"text-align: right;\"> 103   </td></tr>\n",
       "</tbody>\n",
       "</table><br><br>"
      ],
      "text/plain": [
       "<IPython.core.display.HTML object>"
      ]
     },
     "metadata": {},
     "output_type": "display_data"
    },
    {
     "name": "stderr",
     "output_type": "stream",
     "text": [
      "2022-03-18 14:24:57,177\tINFO tune.py:639 -- Total run time: 1.59 seconds (1.05 seconds for the tuning loop).\n"
     ]
    },
    {
     "name": "stdout",
     "output_type": "stream",
     "text": [
      "{'a': 0.001, 'b': 2, 'val': 100}\n"
     ]
    }
   ],
   "source": [
    "from ray import tune\n",
    "\n",
    "\n",
    "# 1. Define an objective function.\n",
    "def objective(config):\n",
    "    score = config[\"val\"] + config[\"a\"]**2 + config[\"b\"]\n",
    "    return {\"score\": score}\n",
    "\n",
    "\n",
    "# 2. Define a search space.\n",
    "search_space = {\n",
    "    \"a\": tune.grid_search([0.001, 0.01, 0.1, 1.0]),\n",
    "    \"b\": tune.choice([1, 2, 3]),\n",
    "    \"val\": 100,\n",
    "}\n",
    "\n",
    "# 3. Start a Tune run and print the best result.\n",
    "analysis = tune.run(objective, config=search_space)\n",
    "print(analysis.get_best_config(metric=\"score\", mode=\"min\"))\n"
   ]
  },
  {
   "cell_type": "code",
   "execution_count": null,
   "id": "7a802a9f-946d-4fc1-add4-e34164e6b00d",
   "metadata": {},
   "outputs": [],
   "source": []
  },
  {
   "cell_type": "code",
   "execution_count": null,
   "id": "39f7e280-6329-4d0a-8f77-718d0b3bf0f3",
   "metadata": {},
   "outputs": [],
   "source": []
  },
  {
   "cell_type": "code",
   "execution_count": null,
   "id": "13a2c658-5c2c-43a0-9d95-4396a5e74193",
   "metadata": {},
   "outputs": [],
   "source": []
  },
  {
   "cell_type": "code",
   "execution_count": null,
   "id": "a8cfdf23-8340-4dc4-903e-f6b68125f6f5",
   "metadata": {},
   "outputs": [],
   "source": []
  }
 ],
 "metadata": {
  "kernelspec": {
   "display_name": "Python 3 (ipykernel)",
   "language": "python",
   "name": "python3"
  },
  "language_info": {
   "codemirror_mode": {
    "name": "ipython",
    "version": 3
   },
   "file_extension": ".py",
   "mimetype": "text/x-python",
   "name": "python",
   "nbconvert_exporter": "python",
   "pygments_lexer": "ipython3",
   "version": "3.8.12"
  }
 },
 "nbformat": 4,
 "nbformat_minor": 5
}
