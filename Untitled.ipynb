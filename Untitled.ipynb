{
 "cells": [
  {
   "cell_type": "code",
   "execution_count": 1,
   "id": "ec18afae-e1b1-435d-bd51-d1bf7d1164ca",
   "metadata": {},
   "outputs": [],
   "source": [
    "from crm.core import Network"
   ]
  },
  {
   "cell_type": "code",
   "execution_count": 21,
   "id": "b250c6d8-e353-46bb-9fd2-65aefa922cba",
   "metadata": {},
   "outputs": [
    {
     "name": "stdout",
     "output_type": "stream",
     "text": [
      "func(f(935),[type=complex,def=(train(_131555):-has_car(_131555,_131561),shape(_131561,rectangle),has_car(_131555,_131573),closed(_131573),has_car(_131555,_131584),short(_131584))]).\n",
      "\n",
      "func(f(849),[type=complex,def=(train(_131555):-has_car(_131555,_131561),short(_131561),has_car(_131555,_131572),double(_131572),has_car(_131555,_131583),closed(_131583))]).\n",
      "\n",
      "func(f(787),[type=complex,def=(train(_131555):-has_car(_131555,_131561),closed(_131561),has_car(_131555,_131572),shape(_131572,u_shaped),has_car(_131555,_131584),short(_131584))]).\n",
      "\n",
      "func(f(641),[type=complex,def=(train(_131555):-has_car(_131555,_131561),open_car(_131561),has_car(_131555,_131572),closed(_131572),has_car(_131555,_131583),short(_131583))]).\n",
      "\n",
      "func(f(633),[type=complex,def=(train(_131555):-has_car(_131555,_131561),closed(_131561),has_car(_131555,_131572),short(_131572),_131572\\=_131561)]).\n",
      "\n",
      "func(f(511),[type=complex,def=(train(_131555):-has_car(_131555,_131561),short(_131561),has_car(_131555,_131572),load(_131572,circle,2),has_car(_131555,_131585),closed(_131585))]).\n",
      "\n",
      "func(f(467),[type=complex,def=(train(_131555):-has_car(_131555,_131561),load(_131561,circle,1),has_car(_131555,_131574),closed(_131574),has_car(_131555,_131585),short(_131585))]).\n",
      "\n",
      "func(f(371),[type=complex,def=(train(_131555):-has_car(_131555,_131561),closed(_131561),has_car(_131555,_131572),short(_131572),_131561\\=_131572)]).\n",
      "\n",
      "func(f(327),[type=complex,def=(train(_131555):-has_car(_131555,_131561),closed(_131561),has_car(_131555,_131572),short(_131572),_131561=_131572)]).\n",
      "\n",
      "func(f(266),[type=complex,def=(train(_131555):-has_car(_131555,_131561),closed(_131561),has_car(_131555,_131572),double(_131572),has_car(_131555,_131583),short(_131583))]).\n",
      "\n",
      "func(f(127),[type=complex,def=(train(_131555):-has_car(_131555,_131561),closed(_131561),has_car(_131555,_131572),short(_131572))]).\n",
      "\n"
     ]
    }
   ],
   "source": [
    "with open(\"./data/sample5/raw/rand_crm_1np.pl\") as f:\n",
    "    get = True\n",
    "    count=0\n",
    "    while get:\n",
    "        get = f.readline()\n",
    "        count+=1\n",
    "        if (\"short\" in get) and (\"closed\" in get):\n",
    "            print(get)\n",
    "        # break"
   ]
  },
  {
   "cell_type": "code",
   "execution_count": null,
   "id": "e5194442-8723-4809-803e-2ee99ffa6049",
   "metadata": {},
   "outputs": [],
   "source": [
    "\"\"\"\n",
    "func(f(327),[type=complex,def=(train(_131555):-has_car(_131555,_131561),closed(_131561),has_car(_131555,_131572),short(_131572),_131561=_131572)]).\n",
    "\"\"\""
   ]
  },
  {
   "cell_type": "code",
   "execution_count": 17,
   "id": "62b96922-7677-4a48-9d2b-13e468d3f5db",
   "metadata": {},
   "outputs": [
    {
     "data": {
      "text/plain": [
       "'\\nfunc(f(960),[type=complex,def=(train(_157323):-has_car(_157323,_157329),closed(_157329),has_car(_157323,_157340),short(_157340),_157329=_157340)]).\\nfunc(f(908),[type=complex,def=(train(_157323):-has_car(_157323,_157329),closed(_157329),has_car(_157323,_157340),short(_157340),_157329=_157340)]).\\nfunc(f(877),[type=complex,def=(train(_157323):-has_car(_157323,_157329),closed(_157329),has_car(_157323,_157340),short(_157340),_157329=_157340)]).\\nfunc(f(846),[type=complex,def=(train(_157323):-has_car(_157323,_157329),closed(_157329),has_car(_157323,_157340),short(_157340),_157329=_157340)]).\\nfunc(f(827),[type=complex,def=(train(_157323):-has_car(_157323,_157329),closed(_157329),has_car(_157323,_157340),short(_157340),_157329=_157340)]).\\nfunc(f(800),[type=complex,def=(train(_157323):-has_car(_157323,_157329),closed(_157329),has_car(_157323,_157340),short(_157340),_157329=_157340)]).\\nfunc(f(768),[type=complex,def=(train(_157323):-has_car(_157323,_157329),closed(_157329),has_car(_157323,_157340),short(_157340),_157329=_157340)]).\\nfunc(f(710),[type=complex,def=(train(_157323):-has_car(_157323,_157329),closed(_157329),has_car(_157323,_157340),short(_157340),_157329=_157340)]).\\nfunc(f(684),[type=complex,def=(train(_157323):-has_car(_157323,_157329),closed(_157329),has_car(_157323,_157340),short(_157340),_157329=_157340)]).\\nfunc(f(595),[type=complex,def=(train(_157323):-has_car(_157323,_157329),closed(_157329),has_car(_157323,_157340),short(_157340),_157329=_157340)]).\\nfunc(f(574),[type=complex,def=(train(_157323):-has_car(_157323,_157329),closed(_157329),has_car(_157323,_157340),short(_157340),_157329=_157340)]).\\nfunc(f(532),[type=complex,def=(train(_157323):-has_car(_157323,_157329),closed(_157329),has_car(_157323,_157340),short(_157340),_157329=_157340)]).\\nfunc(f(484),[type=complex,def=(train(_157323):-has_car(_157323,_157329),closed(_157329),has_car(_157323,_157340),short(_157340),_157329=_157340)]).\\nfunc(f(430),[type=complex,def=(train(_157323):-has_car(_157323,_157329),closed(_157329),has_car(_157323,_157340),short(_157340),_157329=_157340)]).\\nfunc(f(408),[type=complex,def=(train(_157323):-has_car(_157323,_157329),closed(_157329),has_car(_157323,_157340),short(_157340),_157329=_157340)]).\\n'"
      ]
     },
     "execution_count": 17,
     "metadata": {},
     "output_type": "execute_result"
    }
   ],
   "source": [
    "\"\"\"\n",
    "func(f(960),[type=complex,def=(train(_157323):-has_car(_157323,_157329),closed(_157329),has_car(_157323,_157340),short(_157340),_157329=_157340)]).\n",
    "func(f(908),[type=complex,def=(train(_157323):-has_car(_157323,_157329),closed(_157329),has_car(_157323,_157340),short(_157340),_157329=_157340)]).\n",
    "func(f(877),[type=complex,def=(train(_157323):-has_car(_157323,_157329),closed(_157329),has_car(_157323,_157340),short(_157340),_157329=_157340)]).\n",
    "func(f(846),[type=complex,def=(train(_157323):-has_car(_157323,_157329),closed(_157329),has_car(_157323,_157340),short(_157340),_157329=_157340)]).\n",
    "func(f(827),[type=complex,def=(train(_157323):-has_car(_157323,_157329),closed(_157329),has_car(_157323,_157340),short(_157340),_157329=_157340)]).\n",
    "func(f(800),[type=complex,def=(train(_157323):-has_car(_157323,_157329),closed(_157329),has_car(_157323,_157340),short(_157340),_157329=_157340)]).\n",
    "func(f(768),[type=complex,def=(train(_157323):-has_car(_157323,_157329),closed(_157329),has_car(_157323,_157340),short(_157340),_157329=_157340)]).\n",
    "func(f(710),[type=complex,def=(train(_157323):-has_car(_157323,_157329),closed(_157329),has_car(_157323,_157340),short(_157340),_157329=_157340)]).\n",
    "func(f(684),[type=complex,def=(train(_157323):-has_car(_157323,_157329),closed(_157329),has_car(_157323,_157340),short(_157340),_157329=_157340)]).\n",
    "func(f(595),[type=complex,def=(train(_157323):-has_car(_157323,_157329),closed(_157329),has_car(_157323,_157340),short(_157340),_157329=_157340)]).\n",
    "func(f(574),[type=complex,def=(train(_157323):-has_car(_157323,_157329),closed(_157329),has_car(_157323,_157340),short(_157340),_157329=_157340)]).\n",
    "func(f(532),[type=complex,def=(train(_157323):-has_car(_157323,_157329),closed(_157329),has_car(_157323,_157340),short(_157340),_157329=_157340)]).\n",
    "func(f(484),[type=complex,def=(train(_157323):-has_car(_157323,_157329),closed(_157329),has_car(_157323,_157340),short(_157340),_157329=_157340)]).\n",
    "func(f(430),[type=complex,def=(train(_157323):-has_car(_157323,_157329),closed(_157329),has_car(_157323,_157340),short(_157340),_157329=_157340)]).\n",
    "func(f(408),[type=complex,def=(train(_157323):-has_car(_157323,_157329),closed(_157329),has_car(_157323,_157340),short(_157340),_157329=_157340)]).\n",
    "\"\"\""
   ]
  },
  {
   "cell_type": "code",
   "execution_count": null,
   "id": "a8cfdf23-8340-4dc4-903e-f6b68125f6f5",
   "metadata": {},
   "outputs": [],
   "source": []
  }
 ],
 "metadata": {
  "kernelspec": {
   "display_name": "Python 3 (ipykernel)",
   "language": "python",
   "name": "python3"
  },
  "language_info": {
   "codemirror_mode": {
    "name": "ipython",
    "version": 3
   },
   "file_extension": ".py",
   "mimetype": "text/x-python",
   "name": "python",
   "nbconvert_exporter": "python",
   "pygments_lexer": "ipython3",
   "version": "3.8.12"
  }
 },
 "nbformat": 4,
 "nbformat_minor": 5
}
