{
 "cells": [
  {
   "cell_type": "code",
   "execution_count": 52,
   "id": "1b517caf-c22a-494f-8e3e-e9db3c489c66",
   "metadata": {},
   "outputs": [],
   "source": [
    "from crm import Network"
   ]
  },
  {
   "cell_type": "code",
   "execution_count": 1,
   "id": "e8d86ec7-0d7c-4848-af81-14fe5b71e2d6",
   "metadata": {},
   "outputs": [],
   "source": [
    "import re\n",
    "import random\n",
    "import torch\n",
    "import torch.nn as nn\n",
    "import torch.nn.functional as F\n",
    "import matplotlib.pyplot as plt\n",
    "from tqdm.notebook import trange"
   ]
  },
  {
   "cell_type": "code",
   "execution_count": 2,
   "id": "b136b11a-1e77-4b43-80cf-7ee189fd50ec",
   "metadata": {},
   "outputs": [],
   "source": [
    "import dill\n",
    "def save_object(obj, filename):\n",
    "    with open(filename, 'wb') as outp:  # Overwrites any existing file.\n",
    "        dill.dump(obj, outp, dill.HIGHEST_PROTOCOL)\n",
    "\n",
    "def load_object(filename):\n",
    "    with open(filename, 'rb') as inp:\n",
    "        return dill.load(inp)"
   ]
  },
  {
   "cell_type": "markdown",
   "id": "cd91ee48-6f86-4b31-bade-1ec44141622e",
   "metadata": {
    "tags": []
   },
   "source": [
    "# Data"
   ]
  },
  {
   "cell_type": "code",
   "execution_count": 3,
   "id": "1ec5e8be-8336-46b4-8d3a-4fb09b8243b2",
   "metadata": {},
   "outputs": [],
   "source": [
    "# https://stackoverflow.com/questions/4666973/how-to-extract-the-substring-between-two-markers"
   ]
  },
  {
   "cell_type": "code",
   "execution_count": 4,
   "id": "74816efd-2c69-46de-9366-e876c6b7f118",
   "metadata": {},
   "outputs": [],
   "source": [
    "f = open(\"data/sample1/raw/rand_crm_1.pl\")"
   ]
  },
  {
   "cell_type": "code",
   "execution_count": 5,
   "id": "282fefda-f4c3-4458-817b-972dfaa860f8",
   "metadata": {},
   "outputs": [],
   "source": [
    "edges_raw = []"
   ]
  },
  {
   "cell_type": "code",
   "execution_count": 6,
   "id": "9a6ed0ad-586c-4961-b405-84e83611e886",
   "metadata": {},
   "outputs": [],
   "source": [
    "while True:\n",
    "    s = f.readline()\n",
    "    if not s:\n",
    "        break\n",
    "    if \"connected\" in s:\n",
    "        edges_raw.append(s)"
   ]
  },
  {
   "cell_type": "code",
   "execution_count": 7,
   "id": "4c75b3ec-24bc-475d-9185-79ab22fe36c0",
   "metadata": {},
   "outputs": [
    {
     "data": {
      "text/plain": [
       "'connected(a(998),[a(36)],[1]).\\n'"
      ]
     },
     "execution_count": 7,
     "metadata": {},
     "output_type": "execute_result"
    }
   ],
   "source": [
    "edges_raw[24]"
   ]
  },
  {
   "cell_type": "code",
   "execution_count": 8,
   "id": "98d732ad-dd04-4e42-81e3-616a306c09a8",
   "metadata": {},
   "outputs": [
    {
     "data": {
      "text/plain": [
       "'998'"
      ]
     },
     "execution_count": 8,
     "metadata": {},
     "output_type": "execute_result"
    }
   ],
   "source": [
    "edges_raw[24].split(\",\")[0].split(\"(\")[-1].split(\")\")[0]"
   ]
  },
  {
   "cell_type": "code",
   "execution_count": 9,
   "id": "894317a4-d272-4d4a-ae87-6c1634d11f3e",
   "metadata": {},
   "outputs": [],
   "source": [
    "gg = re.search(\"\\[a(\\(.+?\\))\\]\", edges_raw[-2])"
   ]
  },
  {
   "cell_type": "code",
   "execution_count": 10,
   "id": "111b6fe5-f393-419e-a940-9f0698ed67cb",
   "metadata": {},
   "outputs": [
    {
     "data": {
      "text/plain": [
       "'(0),a(0)'"
      ]
     },
     "execution_count": 10,
     "metadata": {},
     "output_type": "execute_result"
    }
   ],
   "source": [
    "gg.group(1)"
   ]
  },
  {
   "cell_type": "code",
   "execution_count": 11,
   "id": "3fae07d1-dffc-4cbc-a103-1527d9416557",
   "metadata": {},
   "outputs": [
    {
     "data": {
      "text/plain": [
       "'connected(a(998),[a(36)],[1]).\\n'"
      ]
     },
     "execution_count": 11,
     "metadata": {},
     "output_type": "execute_result"
    }
   ],
   "source": [
    "edges_raw[24]"
   ]
  },
  {
   "cell_type": "code",
   "execution_count": 12,
   "id": "eff4244b-efc5-479e-aee6-6564baeaa728",
   "metadata": {},
   "outputs": [
    {
     "data": {
      "text/plain": [
       "'connected(a(2),[a(0),a(0)],[1,0]).\\n'"
      ]
     },
     "execution_count": 12,
     "metadata": {},
     "output_type": "execute_result"
    }
   ],
   "source": [
    "edges_raw[-2]"
   ]
  },
  {
   "cell_type": "code",
   "execution_count": 13,
   "id": "354bc327-663b-4d46-b221-ad425deb924b",
   "metadata": {},
   "outputs": [
    {
     "data": {
      "text/plain": [
       "'a(0),a(0)'"
      ]
     },
     "execution_count": 13,
     "metadata": {},
     "output_type": "execute_result"
    }
   ],
   "source": [
    "re.search(\"\\[(a.+?)\\]\", edges_raw[-2]).group(1)"
   ]
  },
  {
   "cell_type": "code",
   "execution_count": 14,
   "id": "7c0920f4-ecf1-452e-9ead-423f24ea80a3",
   "metadata": {},
   "outputs": [
    {
     "data": {
      "text/plain": [
       "'a(0),a(0)'"
      ]
     },
     "execution_count": 14,
     "metadata": {},
     "output_type": "execute_result"
    }
   ],
   "source": [
    "re.search(\"\\[(.*?)\\]\", edges_raw[-2]).group(1)"
   ]
  },
  {
   "cell_type": "code",
   "execution_count": 15,
   "id": "618794bd-6cb2-4c96-917c-20a1ffbc287c",
   "metadata": {},
   "outputs": [
    {
     "data": {
      "text/plain": [
       "('connected(a(2),[a(0),a(0)],[1,0]).\\n', 'connected(a(1020),[a(30)],[1]).\\n')"
      ]
     },
     "execution_count": 15,
     "metadata": {},
     "output_type": "execute_result"
    }
   ],
   "source": [
    "edges_raw[-2], edges_raw[2]"
   ]
  },
  {
   "cell_type": "code",
   "execution_count": 16,
   "id": "f5e78abe-374a-4754-ad85-e5cd20b76f26",
   "metadata": {},
   "outputs": [
    {
     "data": {
      "text/plain": [
       "'0'"
      ]
     },
     "execution_count": 16,
     "metadata": {},
     "output_type": "execute_result"
    }
   ],
   "source": [
    "re.search(\"a\\((.*)\\),\\[a\\((.*?)\\),a\\((.*?)\\)\\]\", edges_raw[-2]).group(3)"
   ]
  },
  {
   "cell_type": "code",
   "execution_count": 17,
   "id": "3dbec36d-caee-4ac2-b09e-36db743cb50f",
   "metadata": {},
   "outputs": [
    {
     "data": {
      "text/plain": [
       "'a(1020),[a(30)]'"
      ]
     },
     "execution_count": 17,
     "metadata": {},
     "output_type": "execute_result"
    }
   ],
   "source": [
    "re.search(\"a\\((.*)\\),\\[a\\((.*?)\\)\\]\", edges_raw[2]).group(0)"
   ]
  },
  {
   "cell_type": "code",
   "execution_count": 18,
   "id": "a7d98bc7-9681-41f2-a20b-5dbc634ef3ef",
   "metadata": {},
   "outputs": [
    {
     "data": {
      "text/plain": [
       "'connected(a(1),[a(0),a(0)],[1,0]).\\n'"
      ]
     },
     "execution_count": 18,
     "metadata": {},
     "output_type": "execute_result"
    }
   ],
   "source": [
    "edges_raw[-1]"
   ]
  },
  {
   "cell_type": "code",
   "execution_count": 145,
   "id": "cc57d6a2-8259-44b2-8605-7bf73a0c7903",
   "metadata": {},
   "outputs": [],
   "source": [
    "edges = []\n",
    "itere = 0\n",
    "for i in range(len(edges_raw)):\n",
    "    \n",
    "    # Binary Operators\n",
    "    b_match = re.search(\"a\\((.*)\\),\\[a\\((.*?)\\),a\\((.*?)\\)\\]\", edges_raw[i])\n",
    "    u_match = re.search(\"a\\((.*)\\),\\[a\\((.*?)\\)\\]\", edges_raw[i])\n",
    "    \n",
    "    end, start_one, start_two = -1, -1, -1\n",
    "    \n",
    "    if b_match:\n",
    "        end, start_one, start_two = int(b_match.group(1))-1, int(b_match.group(2))-1, int(b_match.group(3))-1\n",
    "    else:\n",
    "        end, start_one = int(u_match.group(1))-1, int(u_match.group(2))-1\n",
    "    # start_one --> end\n",
    "    # start_two --> end\n",
    "    \n",
    "    if start_one == start_two and start_one!=-1:\n",
    "        edges.append((int(start_one), int(end)))\n",
    "    else:\n",
    "        if start_one!=-1:\n",
    "            edges.append((int(start_one), int(end)))\n",
    "        if start_two!=-1:\n",
    "            edges.append((int(start_two), int(end)))"
   ]
  },
  {
   "cell_type": "code",
   "execution_count": 20,
   "id": "55ad5608-9692-4177-ae8a-f4d9b1a4dadc",
   "metadata": {},
   "outputs": [],
   "source": [
    "# func(f(872),[type=complex,def=(train(_137465):-has_car(_137465,_137471),wheels(_137471,3),has_car(_137465,_137483),long(_137483),has_car(_137465,_137494),wheels(_137494,3),has_car(_137465,_137506),long(_137506))]).\n",
    "# func(f(50),[type=complex,def=(train(_137465):-has_car(_137465,_137471),wheels(_137471,3),has_car(_137465,_137483),long(_137483))])."
   ]
  },
  {
   "cell_type": "code",
   "execution_count": 146,
   "id": "438baf08-961c-4dcc-84b3-e6880d3e3948",
   "metadata": {},
   "outputs": [],
   "source": [
    "with open(\"data/sample1/edges.txt\", \"w\") as fp:\n",
    "    for u, v in edges:\n",
    "        fp.write(f\"{u} {v}\\n\")"
   ]
  },
  {
   "cell_type": "code",
   "execution_count": 147,
   "id": "069f8949-3e16-4e79-bcc1-cb4fd19df9c9",
   "metadata": {},
   "outputs": [
    {
     "data": {
      "text/plain": [
       "(1114, 1114)"
      ]
     },
     "execution_count": 147,
     "metadata": {},
     "output_type": "execute_result"
    }
   ],
   "source": [
    "len(edges), len(set(edges))"
   ]
  },
  {
   "cell_type": "code",
   "execution_count": 200,
   "id": "8bb02192-8bab-43c4-a107-3bd11e1bab66",
   "metadata": {},
   "outputs": [],
   "source": [
    "X_train = []\n",
    "y_train = []"
   ]
  },
  {
   "cell_type": "code",
   "execution_count": 201,
   "id": "5ea87347-5c68-4667-8867-06bd9f5451cb",
   "metadata": {},
   "outputs": [],
   "source": [
    "f = open(\"data/sample1/raw/rand_crm_1_train_features_pos\")"
   ]
  },
  {
   "cell_type": "code",
   "execution_count": 202,
   "id": "ce36b4c4-b530-4b66-bd1a-bbda2f05d18c",
   "metadata": {},
   "outputs": [],
   "source": [
    "while True:\n",
    "    gg = f.readline().split(\" \")[3:-1]\n",
    "    if not gg:\n",
    "        break\n",
    "    all_pos = [int(e) for e in gg]\n",
    "    dd = {i: 1 if i in all_pos else 0 for i in range(1022)}\n",
    "    X_train.append(dd)\n",
    "    y_train.append(torch.tensor(1))"
   ]
  },
  {
   "cell_type": "code",
   "execution_count": 203,
   "id": "acd256f0-9876-4e7b-b88f-e53cdc3154fc",
   "metadata": {},
   "outputs": [],
   "source": [
    "f = open(\"data/sample1/raw/rand_crm_1_train_features_neg\")"
   ]
  },
  {
   "cell_type": "code",
   "execution_count": 204,
   "id": "eee0c621-f3ca-4250-8c04-83f6c667a418",
   "metadata": {},
   "outputs": [],
   "source": [
    "while True:\n",
    "    gg = f.readline().split(\" \")[3:-1]\n",
    "    if not gg:\n",
    "        break\n",
    "    all_pos = [int(e) for e in gg]\n",
    "    dd = {i: 1 if i in all_pos else 0 for i in range(1022)}\n",
    "    X_train.append(dd)\n",
    "    y_train.append(torch.tensor(0))"
   ]
  },
  {
   "cell_type": "code",
   "execution_count": 205,
   "id": "939df9e4-dc4c-49f9-831d-b9887d55bc48",
   "metadata": {},
   "outputs": [],
   "source": [
    "X_test = []\n",
    "y_test = []"
   ]
  },
  {
   "cell_type": "code",
   "execution_count": 206,
   "id": "0cf9acf8-071a-4e89-b141-716650bb08d0",
   "metadata": {},
   "outputs": [],
   "source": [
    "# !cat data/sample1/raw/rand_crm_1_test_features_pos"
   ]
  },
  {
   "cell_type": "code",
   "execution_count": 207,
   "id": "0953be19-f453-42bf-ae48-83ca6a26a6ee",
   "metadata": {},
   "outputs": [],
   "source": [
    "f = open(\"data/sample1/raw/rand_crm_1_test_features_pos\")"
   ]
  },
  {
   "cell_type": "code",
   "execution_count": 208,
   "id": "508b7bc1-578a-421b-8ebf-6e50e6843668",
   "metadata": {},
   "outputs": [],
   "source": [
    "while True:\n",
    "    gg = f.readline().split(\" \")[3:-1]\n",
    "    if not gg:\n",
    "        break\n",
    "    all_pos = [int(e) for e in gg]\n",
    "    dd = {i: 1 if i in all_pos else 0 for i in range(1022)}\n",
    "    X_test.append(dd)\n",
    "    y_test.append(torch.tensor(1))"
   ]
  },
  {
   "cell_type": "code",
   "execution_count": 209,
   "id": "1899a285-7911-4557-baaa-173cccc21d35",
   "metadata": {},
   "outputs": [],
   "source": [
    "f = open(\"data/sample1/raw/rand_crm_1_test_features_neg\")"
   ]
  },
  {
   "cell_type": "code",
   "execution_count": 210,
   "id": "ab54e74e-b5f2-41dd-bf37-def404fdbb44",
   "metadata": {},
   "outputs": [],
   "source": [
    "while True:\n",
    "    gg = f.readline().split(\" \")[3:-1]\n",
    "    if not gg:\n",
    "        break\n",
    "    all_pos = [int(e) for e in gg]\n",
    "    dd = {i: 1 if i in all_pos else 0 for i in range(1022)}\n",
    "    X_test.append(dd)\n",
    "    y_test.append(torch.tensor(0))"
   ]
  },
  {
   "cell_type": "code",
   "execution_count": 158,
   "id": "01ca17f4-2cbd-439a-8e53-2b43534c34ff",
   "metadata": {},
   "outputs": [],
   "source": [
    "num_neurons = max([max(u, v) for u, v in edges])+1"
   ]
  },
  {
   "cell_type": "code",
   "execution_count": 159,
   "id": "85690cb4-4637-4ca8-901d-263ebdd9e1f5",
   "metadata": {},
   "outputs": [
    {
     "data": {
      "text/plain": [
       "1022"
      ]
     },
     "execution_count": 159,
     "metadata": {},
     "output_type": "execute_result"
    }
   ],
   "source": [
    "num_neurons"
   ]
  },
  {
   "cell_type": "code",
   "execution_count": 160,
   "id": "e28cf6ab-03ce-452d-a238-a2a374061bee",
   "metadata": {},
   "outputs": [],
   "source": [
    "adj_list = [[] for i in range(num_neurons)]"
   ]
  },
  {
   "cell_type": "code",
   "execution_count": 161,
   "id": "60f58808-0ba6-4432-9654-1756a79a7d25",
   "metadata": {},
   "outputs": [
    {
     "data": {
      "text/plain": [
       "1022"
      ]
     },
     "execution_count": 161,
     "metadata": {},
     "output_type": "execute_result"
    }
   ],
   "source": [
    "len(adj_list)"
   ]
  },
  {
   "cell_type": "code",
   "execution_count": 162,
   "id": "31c2b61a-7089-4e00-9f02-308376f9bcd6",
   "metadata": {},
   "outputs": [],
   "source": [
    "for u, v in edges:\n",
    "    adj_list[u].append(v)"
   ]
  },
  {
   "cell_type": "code",
   "execution_count": 163,
   "id": "510449ec-e053-443c-a851-31410c6373cc",
   "metadata": {},
   "outputs": [],
   "source": [
    "n = Network(num_neurons, adj_list)"
   ]
  },
  {
   "cell_type": "code",
   "execution_count": 164,
   "id": "c5ababf8-d396-4d4d-843f-9e7265074f34",
   "metadata": {},
   "outputs": [],
   "source": [
    "orig_output_neurons = n.output_neurons"
   ]
  },
  {
   "cell_type": "code",
   "execution_count": 165,
   "id": "b11b0508-e5c8-47ce-a4f7-0ccfe2e68a60",
   "metadata": {},
   "outputs": [
    {
     "data": {
      "text/plain": [
       "963"
      ]
     },
     "execution_count": 165,
     "metadata": {},
     "output_type": "execute_result"
    }
   ],
   "source": [
    "len(orig_output_neurons)"
   ]
  },
  {
   "cell_type": "code",
   "execution_count": 166,
   "id": "e93d4cb1-5b4c-407c-8f7f-0d6e216894be",
   "metadata": {},
   "outputs": [],
   "source": [
    "adj_list.append([])\n",
    "adj_list.append([])"
   ]
  },
  {
   "cell_type": "code",
   "execution_count": 167,
   "id": "4b730ab0-74a5-4e17-b0c4-2edcd18cc862",
   "metadata": {},
   "outputs": [],
   "source": [
    "num_neurons = len(adj_list)"
   ]
  },
  {
   "cell_type": "code",
   "execution_count": 168,
   "id": "5cb5906d-1c06-4a78-80d5-05ce139895da",
   "metadata": {},
   "outputs": [
    {
     "data": {
      "text/plain": [
       "1024"
      ]
     },
     "execution_count": 168,
     "metadata": {},
     "output_type": "execute_result"
    }
   ],
   "source": [
    "num_neurons"
   ]
  },
  {
   "cell_type": "code",
   "execution_count": 169,
   "id": "512e0bf4-1398-4074-81ff-5ec47a3f3eaa",
   "metadata": {},
   "outputs": [],
   "source": [
    "for i in range(num_neurons):\n",
    "    if i in orig_output_neurons:\n",
    "        adj_list[i].append(num_neurons-2)\n",
    "        adj_list[i].append(num_neurons-1)"
   ]
  },
  {
   "cell_type": "code",
   "execution_count": 170,
   "id": "8d346816-3987-409a-881d-b73c9f2724c9",
   "metadata": {},
   "outputs": [
    {
     "data": {
      "text/plain": [
       "[1022, 1023]"
      ]
     },
     "execution_count": 170,
     "metadata": {},
     "output_type": "execute_result"
    }
   ],
   "source": [
    "adj_list[213]"
   ]
  },
  {
   "cell_type": "code",
   "execution_count": 171,
   "id": "cc2b9d0c-d9db-40a3-9621-9a582b648195",
   "metadata": {},
   "outputs": [],
   "source": [
    "n = Network(num_neurons, adj_list)"
   ]
  },
  {
   "cell_type": "code",
   "execution_count": 172,
   "id": "31a5486c-96ac-4133-b279-6d3a378af363",
   "metadata": {},
   "outputs": [],
   "source": [
    "n.set_neuron_activation(1022, lambda x : x, lambda x : 1)"
   ]
  },
  {
   "cell_type": "code",
   "execution_count": 173,
   "id": "a8b723f8-6111-4bed-b031-83addc2d7e52",
   "metadata": {},
   "outputs": [],
   "source": [
    "n.set_neuron_activation(1023, lambda x : x, lambda x : 1)"
   ]
  },
  {
   "cell_type": "code",
   "execution_count": 174,
   "id": "2b31a063-54d3-4edb-8429-ad6a50844615",
   "metadata": {},
   "outputs": [
    {
     "data": {
      "text/plain": [
       "<function torch.nn.functional.cross_entropy(input: torch.Tensor, target: torch.Tensor, weight: Union[torch.Tensor, NoneType] = None, size_average: Union[bool, NoneType] = None, ignore_index: int = -100, reduce: Union[bool, NoneType] = None, reduction: str = 'mean', label_smoothing: float = 0.0) -> torch.Tensor>"
      ]
     },
     "execution_count": 174,
     "metadata": {},
     "output_type": "execute_result"
    }
   ],
   "source": [
    "F.cross_entropy"
   ]
  },
  {
   "cell_type": "code",
   "execution_count": 183,
   "id": "61ee2190-d449-4f8c-b787-3eb154e6a1f1",
   "metadata": {},
   "outputs": [
    {
     "data": {
      "text/plain": [
       "tensor([[2.8682],\n",
       "        [3.0079]], grad_fn=<StackBackward0>)"
      ]
     },
     "execution_count": 183,
     "metadata": {},
     "output_type": "execute_result"
    }
   ],
   "source": [
    "n.reset()\n",
    "# X_train[2] = {i: 1 for i in range(len(X_train[2])+2)}\n",
    "X_train[145][1022]=1\n",
    "X_train[145][1023]=1\n",
    "n.forward(X_train[145])"
   ]
  },
  {
   "cell_type": "code",
   "execution_count": 116,
   "id": "165d3886-c808-4b64-a3c1-7836f92b04ca",
   "metadata": {},
   "outputs": [],
   "source": [
    "# X_train[2]"
   ]
  },
  {
   "cell_type": "code",
   "execution_count": 117,
   "id": "7bd6f152-e157-470e-b439-cf985cbef459",
   "metadata": {},
   "outputs": [
    {
     "data": {
      "text/plain": [
       "tensor([0.], grad_fn=<AddBackward0>)"
      ]
     },
     "execution_count": 117,
     "metadata": {},
     "output_type": "execute_result"
    }
   ],
   "source": [
    "sum([n.neurons[i].value for i in range(n.num_neurons)])"
   ]
  },
  {
   "cell_type": "code",
   "execution_count": 118,
   "id": "d798ded2-3ce4-4815-a9a4-50abdec323be",
   "metadata": {},
   "outputs": [
    {
     "data": {
      "text/plain": [
       "tensor([[0.4049]], grad_fn=<StackBackward0>)"
      ]
     },
     "execution_count": 118,
     "metadata": {},
     "output_type": "execute_result"
    }
   ],
   "source": [
    "n = Network(2, [[1], []])\n",
    "n.forward({0:1, 1:1})"
   ]
  },
  {
   "cell_type": "code",
   "execution_count": 122,
   "id": "daabcebe-faf6-47c0-8fac-79a8c759df02",
   "metadata": {},
   "outputs": [
    {
     "data": {
      "text/plain": [
       "1024"
      ]
     },
     "execution_count": 122,
     "metadata": {},
     "output_type": "execute_result"
    }
   ],
   "source": [
    "len(adj_list)"
   ]
  },
  {
   "cell_type": "code",
   "execution_count": 128,
   "id": "e73951a2-529f-452b-bcd1-308f0486af28",
   "metadata": {},
   "outputs": [],
   "source": [
    "n = Network(1024, adj_list)"
   ]
  },
  {
   "cell_type": "code",
   "execution_count": 129,
   "id": "a9a5ff80-925b-4638-8313-88cadcdc21e2",
   "metadata": {},
   "outputs": [
    {
     "data": {
      "text/plain": [
       "tensor([[0.],\n",
       "        [0.]], grad_fn=<StackBackward0>)"
      ]
     },
     "execution_count": 129,
     "metadata": {},
     "output_type": "execute_result"
    }
   ],
   "source": [
    "ip = {i: 1 for i in range(1024)}\n",
    "n.forward(ip)"
   ]
  },
  {
   "cell_type": "code",
   "execution_count": 185,
   "id": "a3bdb898-bc99-4d74-ac30-970acfe9c84e",
   "metadata": {},
   "outputs": [
    {
     "data": {
      "text/plain": [
       "tensor(1)"
      ]
     },
     "execution_count": 185,
     "metadata": {},
     "output_type": "execute_result"
    }
   ],
   "source": [
    "n.neurons[12].value"
   ]
  },
  {
   "cell_type": "code",
   "execution_count": 186,
   "id": "149bff8d-58a7-4978-8a4d-e7467bfa0f74",
   "metadata": {},
   "outputs": [
    {
     "data": {
      "text/plain": [
       "<crm.neuron.Neuron object at 0x7fad90e000a0>\n",
       "6: 0\t Grad: 0\n",
       "            \n",
       "Predecessor: []\tSuccessor: [944, 744, 287, 274, 85, 67, 59, 31]"
      ]
     },
     "execution_count": 186,
     "metadata": {},
     "output_type": "execute_result"
    }
   ],
   "source": [
    "n.neurons[6]"
   ]
  },
  {
   "cell_type": "code",
   "execution_count": 187,
   "id": "402276f9-7a31-447b-9e88-aa7ac4fbc7ad",
   "metadata": {},
   "outputs": [
    {
     "data": {
      "text/plain": [
       "<crm.neuron.Neuron object at 0x7fad8b299520>\n",
       "1021: tensor([0.], grad_fn=<MulBackward0>)\t Grad: 0\n",
       "            \n",
       "Predecessor: [59]\tSuccessor: [1022, 1023]"
      ]
     },
     "execution_count": 187,
     "metadata": {},
     "output_type": "execute_result"
    }
   ],
   "source": [
    "n.neurons[1021]"
   ]
  },
  {
   "cell_type": "code",
   "execution_count": 188,
   "id": "55634ada-1f89-4a0e-ae56-70dc8d6ba837",
   "metadata": {},
   "outputs": [
    {
     "data": {
      "text/plain": [
       "<crm.neuron.Neuron object at 0x7fad8b301e20>\n",
       "59: tensor([0.], grad_fn=<MulBackward0>)\t Grad: 0\n",
       "            \n",
       "Predecessor: [6, 20]\tSuccessor: [1021, 947, 931, 894, 887, 798, 782, 636, 616, 593, 586, 550, 541, 517, 515, 350, 328, 286, 257, 255, 220, 188, 187, 184, 156, 128, 125, 93, 87, 73]"
      ]
     },
     "execution_count": 188,
     "metadata": {},
     "output_type": "execute_result"
    }
   ],
   "source": [
    "n.neurons[59]"
   ]
  },
  {
   "cell_type": "code",
   "execution_count": 189,
   "id": "9210bff6-c255-45b8-b0e0-fd1a39272e3d",
   "metadata": {},
   "outputs": [
    {
     "data": {
      "text/plain": [
       "0"
      ]
     },
     "execution_count": 189,
     "metadata": {},
     "output_type": "execute_result"
    }
   ],
   "source": [
    "X_train[0][202]"
   ]
  },
  {
   "cell_type": "code",
   "execution_count": 190,
   "id": "55af82fd-b19f-4fe7-bd81-b8c9cf996ee3",
   "metadata": {},
   "outputs": [],
   "source": [
    "for i in range(len(X_train)):\n",
    "    X_train[i][1022]=1\n",
    "    X_train[i][1023]=1"
   ]
  },
  {
   "cell_type": "code",
   "execution_count": 191,
   "id": "136b74e4-66bb-426a-9546-91fb2bba2947",
   "metadata": {},
   "outputs": [],
   "source": [
    "for i in range(len(X_test)):\n",
    "    X_train[i][1022]=1\n",
    "    X_train[i][1023]=1"
   ]
  },
  {
   "cell_type": "code",
   "execution_count": 211,
   "id": "f669e36c-392d-4c26-a6ff-884e052dae76",
   "metadata": {},
   "outputs": [],
   "source": [
    "assert len(X_train)==len(y_train)"
   ]
  },
  {
   "cell_type": "code",
   "execution_count": 214,
   "id": "8d56bb9b-480f-4571-870e-9fddc5d7ee3e",
   "metadata": {},
   "outputs": [],
   "source": [
    "assert len(X_test)==len(y_test)"
   ]
  },
  {
   "cell_type": "code",
   "execution_count": 192,
   "id": "c5167ed0-cce1-470c-b79a-823c1dea33f3",
   "metadata": {},
   "outputs": [],
   "source": [
    "save_object(adj_list, \"data/sample1/adj_list.dill\")"
   ]
  },
  {
   "cell_type": "code",
   "execution_count": 215,
   "id": "5e125694-e67c-4a9a-ad4f-b890756b3008",
   "metadata": {},
   "outputs": [],
   "source": [
    "save_object(X_train, \"data/sample1/X_train.dill\")\n",
    "save_object(X_test, \"data/sample1/X_test.dill\")\n",
    "save_object(X_test, \"data/sample1/y_train.dill\")\n",
    "save_object(X_test, \"data/sample1/y_test.dill\")"
   ]
  },
  {
   "cell_type": "code",
   "execution_count": null,
   "id": "e5fddfbb-71ca-457e-b639-576cad98bf29",
   "metadata": {},
   "outputs": [],
   "source": []
  }
 ],
 "metadata": {
  "kernelspec": {
   "display_name": "Python 3 (ipykernel)",
   "language": "python",
   "name": "python3"
  },
  "language_info": {
   "codemirror_mode": {
    "name": "ipython",
    "version": 3
   },
   "file_extension": ".py",
   "mimetype": "text/x-python",
   "name": "python",
   "nbconvert_exporter": "python",
   "pygments_lexer": "ipython3",
   "version": "3.8.12"
  }
 },
 "nbformat": 4,
 "nbformat_minor": 5
}
