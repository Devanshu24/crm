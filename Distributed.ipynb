{
 "cells": [
  {
   "cell_type": "code",
   "execution_count": 1,
   "id": "901908ad-8fc7-462a-af5b-9bb588d1b5ad",
   "metadata": {},
   "outputs": [],
   "source": [
    "import torch"
   ]
  },
  {
   "cell_type": "code",
   "execution_count": 2,
   "id": "c34cad8e-33c0-4352-8701-f1d37f3851db",
   "metadata": {},
   "outputs": [
    {
     "name": "stdout",
     "output_type": "stream",
     "text": [
      "env: MASTER_ADDR=localhost\n",
      "env: MASTER_PORT=5678\n"
     ]
    }
   ],
   "source": [
    "# %%bash\n",
    "%env MASTER_ADDR=localhost\n",
    "%env MASTER_PORT=5678"
   ]
  },
  {
   "cell_type": "code",
   "execution_count": null,
   "id": "1adbfcdd-7214-4fe9-8e59-05280371c740",
   "metadata": {},
   "outputs": [],
   "source": [
    "# On worker 0:\n",
    "import torch\n",
    "import torch.distributed.rpc as rpc\n",
    "rpc.init_rpc(\"worker0\", rank=0, world_size=2)\n",
    "# do some work\n",
    "result = rpc.rpc_sync(\"worker1\", torch.add, args=(torch.ones(1), 1))\n",
    "# ready to shutdown\n",
    "rpc.shutdown()"
   ]
  },
  {
   "cell_type": "code",
   "execution_count": null,
   "id": "b4d1ad3b-e5d1-49b9-bbdc-e725de19d8cc",
   "metadata": {},
   "outputs": [],
   "source": []
  }
 ],
 "metadata": {
  "kernelspec": {
   "display_name": "Python 3 (ipykernel)",
   "language": "python",
   "name": "python3"
  },
  "language_info": {
   "codemirror_mode": {
    "name": "ipython",
    "version": 3
   },
   "file_extension": ".py",
   "mimetype": "text/x-python",
   "name": "python",
   "nbconvert_exporter": "python",
   "pygments_lexer": "ipython3",
   "version": "3.8.12"
  }
 },
 "nbformat": 4,
 "nbformat_minor": 5
}
