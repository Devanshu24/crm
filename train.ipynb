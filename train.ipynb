{
 "cells": [
  {
   "cell_type": "code",
   "execution_count": 1,
   "id": "40f0520a-a034-4530-adad-780ea6a3a161",
   "metadata": {},
   "outputs": [],
   "source": [
    "from crm import Network"
   ]
  },
  {
   "cell_type": "code",
   "execution_count": 2,
   "id": "d1cdb7b9-5081-47b9-bf71-9b8db78938f5",
   "metadata": {},
   "outputs": [],
   "source": [
    "import re\n",
    "import random\n",
    "import torch\n",
    "import torch.nn as nn\n",
    "import torch.nn.functional as F\n",
    "import matplotlib.pyplot as plt\n",
    "from tqdm.notebook import trange"
   ]
  },
  {
   "cell_type": "code",
   "execution_count": 64,
   "id": "0fc8d8bf-213c-4be2-8b8e-589fc3c1a469",
   "metadata": {},
   "outputs": [],
   "source": [
    "import dill\n",
    "def save_object(obj, filename):\n",
    "    with open(filename, 'wb') as outp:  # Overwrites any existing file.\n",
    "        dill.dump(obj, outp, dill.HIGHEST_PROTOCOL)\n",
    "\n",
    "def load_object(filename):\n",
    "    with open(filename, 'rb') as inp:\n",
    "        return dill.load(inp)"
   ]
  },
  {
   "cell_type": "markdown",
   "id": "2775a557-166f-47db-90b5-65671fb583fa",
   "metadata": {},
   "source": [
    "# Data"
   ]
  },
  {
   "cell_type": "code",
   "execution_count": 3,
   "id": "f224d637-c629-47e3-aea3-dede8aab217a",
   "metadata": {},
   "outputs": [],
   "source": [
    "f = open(\"data/raw/crm_output.pl\")"
   ]
  },
  {
   "cell_type": "code",
   "execution_count": 4,
   "id": "5edb40b9-b5dd-4c63-a5aa-b12dfe07cb6d",
   "metadata": {},
   "outputs": [],
   "source": [
    "edges_raw = []"
   ]
  },
  {
   "cell_type": "code",
   "execution_count": 5,
   "id": "b3a7775a-2054-422b-bc0b-5408e27cff3a",
   "metadata": {},
   "outputs": [],
   "source": [
    "while True:\n",
    "    s = f.readline()\n",
    "    if not s:\n",
    "        break\n",
    "    if \"connected\" in s:\n",
    "        edges_raw.append(s)"
   ]
  },
  {
   "cell_type": "code",
   "execution_count": 6,
   "id": "76caca2c-8316-4bb0-819d-cedfaacf33a4",
   "metadata": {},
   "outputs": [
    {
     "data": {
      "text/plain": [
       "'connected(a(2),[a(0),a(0)],[1,0]).\\n'"
      ]
     },
     "execution_count": 6,
     "metadata": {},
     "output_type": "execute_result"
    }
   ],
   "source": [
    "edges_raw[-2]"
   ]
  },
  {
   "cell_type": "code",
   "execution_count": 7,
   "id": "d23fa25a-f9ce-4e4c-8ef1-06b77fbe1599",
   "metadata": {},
   "outputs": [
    {
     "data": {
      "text/plain": [
       "'1258'"
      ]
     },
     "execution_count": 7,
     "metadata": {},
     "output_type": "execute_result"
    }
   ],
   "source": [
    "edges_raw[24].split(\",\")[0].split(\"(\")[-1].split(\")\")[0]"
   ]
  },
  {
   "cell_type": "code",
   "execution_count": 8,
   "id": "848b8a5c-3cf7-4c3c-b8b4-4d22b3c8de4b",
   "metadata": {},
   "outputs": [],
   "source": [
    "gg = ' '.join(edges_raw[24].split(\",\")[1:3])"
   ]
  },
  {
   "cell_type": "code",
   "execution_count": 9,
   "id": "6e0fb869-f376-476f-86b0-8156d4aad6e4",
   "metadata": {},
   "outputs": [
    {
     "data": {
      "text/plain": [
       "'[a(2) a(26)]'"
      ]
     },
     "execution_count": 9,
     "metadata": {},
     "output_type": "execute_result"
    }
   ],
   "source": [
    "gg"
   ]
  },
  {
   "cell_type": "code",
   "execution_count": 10,
   "id": "88029163-96c2-4ca0-95dc-4f6348b3a276",
   "metadata": {},
   "outputs": [
    {
     "data": {
      "text/plain": [
       "2"
      ]
     },
     "execution_count": 10,
     "metadata": {},
     "output_type": "execute_result"
    }
   ],
   "source": [
    "int(re.findall(r\"a\\([0-9]*\\)\", gg)[0].split(\"(\")[-1].split(\")\")[0])"
   ]
  },
  {
   "cell_type": "code",
   "execution_count": 11,
   "id": "39ed73c2-c332-46ed-9753-fb9a8ad82f65",
   "metadata": {},
   "outputs": [
    {
     "data": {
      "text/plain": [
       "26"
      ]
     },
     "execution_count": 11,
     "metadata": {},
     "output_type": "execute_result"
    }
   ],
   "source": [
    "int(re.findall(r\"a\\([0-9]*\\)\", gg)[1].split(\"(\")[-1].split(\")\")[0])"
   ]
  },
  {
   "cell_type": "code",
   "execution_count": 12,
   "id": "e01e98fc-5d17-42ec-8180-2b569bf821ee",
   "metadata": {},
   "outputs": [],
   "source": [
    "edges = []"
   ]
  },
  {
   "cell_type": "code",
   "execution_count": 13,
   "id": "73a1938e-7a0c-47b5-b8a7-a5b0dbbc1346",
   "metadata": {},
   "outputs": [
    {
     "data": {
      "text/plain": [
       "1281"
      ]
     },
     "execution_count": 13,
     "metadata": {},
     "output_type": "execute_result"
    }
   ],
   "source": [
    "int(edges_raw[0].split(\",\")[0].split(\"(\")[-1].split(\")\")[0])-1"
   ]
  },
  {
   "cell_type": "code",
   "execution_count": 14,
   "id": "798e8979-3044-45bb-80e2-44d367a597a1",
   "metadata": {},
   "outputs": [],
   "source": [
    "for i in range(len(edges_raw)):\n",
    "    end = int(edges_raw[i].split(\",\")[0].split(\"(\")[-1].split(\")\")[0])-1\n",
    "    \n",
    "    gg = ' '.join(edges_raw[i].split(\",\")[1:3])\n",
    "    start_one = int(re.findall(r\"a\\([0-9]*\\)\", gg)[0].split(\"(\")[-1].split(\")\")[0])-1\n",
    "    start_two = int(re.findall(r\"a\\([0-9]*\\)\", gg)[1].split(\"(\")[-1].split(\")\")[0])-1\n",
    "    # start_one --> end\n",
    "    # start_two --> end\n",
    "    if start_one!=-1:\n",
    "        edges.append((start_one, end))\n",
    "    if start_two!=-1:\n",
    "        edges.append((start_two, end))"
   ]
  },
  {
   "cell_type": "code",
   "execution_count": 15,
   "id": "3c3505dc-9b6b-4524-a5f5-b822913ed312",
   "metadata": {},
   "outputs": [],
   "source": [
    "with open(\"data/edges.txt\", \"w\") as fp:\n",
    "    for u, v in edges:\n",
    "        fp.write(f\"{u} {v}\\n\")"
   ]
  },
  {
   "cell_type": "code",
   "execution_count": 16,
   "id": "372ec153-7537-490c-9ab5-d1ccb47c34b6",
   "metadata": {},
   "outputs": [
    {
     "data": {
      "text/plain": [
       "(2518, 2518)"
      ]
     },
     "execution_count": 16,
     "metadata": {},
     "output_type": "execute_result"
    }
   ],
   "source": [
    "len(edges), len(set(edges))"
   ]
  },
  {
   "cell_type": "code",
   "execution_count": 17,
   "id": "87bebdb0-f1c6-4425-9d5f-af194d74c168",
   "metadata": {},
   "outputs": [],
   "source": [
    "inputs = []\n",
    "outputs = []"
   ]
  },
  {
   "cell_type": "code",
   "execution_count": 18,
   "id": "3fcd1b9c-d5b1-41bd-893f-3c98d1b489fd",
   "metadata": {},
   "outputs": [],
   "source": [
    "f = open(\"data/raw/train_features_pos\")"
   ]
  },
  {
   "cell_type": "code",
   "execution_count": 19,
   "id": "b8bd2dea-454e-4333-8be3-a95ecd339672",
   "metadata": {},
   "outputs": [],
   "source": [
    "while True:\n",
    "    gg = f.readline().split(\" \")[3:-1]\n",
    "    if not gg:\n",
    "        break\n",
    "    all_pos = [int(e) for e in gg]\n",
    "    dd = {i: 1 if i in all_pos else 0 for i in range(1282)}\n",
    "    inputs.append(dd)\n",
    "    outputs.append(torch.tensor(1))"
   ]
  },
  {
   "cell_type": "code",
   "execution_count": 20,
   "id": "8fdbb662-644c-4ec4-a69b-3a282dd3ad43",
   "metadata": {},
   "outputs": [],
   "source": [
    "f = open(\"data/raw/train_features_neg\")"
   ]
  },
  {
   "cell_type": "code",
   "execution_count": 21,
   "id": "fcc7d6f7-2e93-4e6f-9ab6-101940837acc",
   "metadata": {},
   "outputs": [],
   "source": [
    "while True:\n",
    "    gg = f.readline().split(\" \")[3:-1]\n",
    "    if not gg:\n",
    "        break\n",
    "    all_pos = [int(e) for e in gg]\n",
    "    dd = {i: 1 if i in all_pos else 0 for i in range(1282)}\n",
    "    inputs.append(dd)\n",
    "    outputs.append(torch.tensor(0))"
   ]
  },
  {
   "cell_type": "code",
   "execution_count": 22,
   "id": "293add7e-6576-4eff-9a56-e6ebaaadf741",
   "metadata": {},
   "outputs": [],
   "source": [
    "num_neurons = max([max(u, v) for u, v in edges])+1"
   ]
  },
  {
   "cell_type": "code",
   "execution_count": 23,
   "id": "5251ab1f-fa40-4edf-972a-15dce3eff9db",
   "metadata": {},
   "outputs": [
    {
     "data": {
      "text/plain": [
       "1282"
      ]
     },
     "execution_count": 23,
     "metadata": {},
     "output_type": "execute_result"
    }
   ],
   "source": [
    "num_neurons"
   ]
  },
  {
   "cell_type": "code",
   "execution_count": 24,
   "id": "f4bde3a1-0aa0-4e26-abe1-82c5f42fefd4",
   "metadata": {},
   "outputs": [],
   "source": [
    "adj_list = [[] for i in range(num_neurons)]"
   ]
  },
  {
   "cell_type": "code",
   "execution_count": 25,
   "id": "8edd71b1-5e0e-40ce-a132-ddbc5c57729e",
   "metadata": {},
   "outputs": [
    {
     "data": {
      "text/plain": [
       "1282"
      ]
     },
     "execution_count": 25,
     "metadata": {},
     "output_type": "execute_result"
    }
   ],
   "source": [
    "num_neurons"
   ]
  },
  {
   "cell_type": "code",
   "execution_count": 26,
   "id": "c24699d0-3d97-48b4-8145-b353985942fb",
   "metadata": {},
   "outputs": [
    {
     "data": {
      "text/plain": [
       "1282"
      ]
     },
     "execution_count": 26,
     "metadata": {},
     "output_type": "execute_result"
    }
   ],
   "source": [
    "len(adj_list)"
   ]
  },
  {
   "cell_type": "code",
   "execution_count": 27,
   "id": "7e9e55c9-eba8-495c-a168-e2a7d52d08b4",
   "metadata": {},
   "outputs": [],
   "source": [
    "for u, v in edges:\n",
    "    adj_list[u].append(v)"
   ]
  },
  {
   "cell_type": "code",
   "execution_count": 28,
   "id": "1b1cc8ee-4f59-48a1-8529-def30f7a57e9",
   "metadata": {},
   "outputs": [],
   "source": [
    "n = Network(num_neurons, adj_list)"
   ]
  },
  {
   "cell_type": "code",
   "execution_count": 29,
   "id": "f6d655ca-ab7c-4b22-9dcd-21996a387107",
   "metadata": {},
   "outputs": [],
   "source": [
    "orig_output_neurons = n.output_neurons"
   ]
  },
  {
   "cell_type": "code",
   "execution_count": 30,
   "id": "8d441c15-178e-4b94-9ef9-2673f92e2af3",
   "metadata": {},
   "outputs": [],
   "source": [
    "adj_list.append([])\n",
    "adj_list.append([])"
   ]
  },
  {
   "cell_type": "code",
   "execution_count": 31,
   "id": "d2438b2e-c7ae-4031-8c38-08b73c513d38",
   "metadata": {},
   "outputs": [],
   "source": [
    "num_neurons = len(adj_list)"
   ]
  },
  {
   "cell_type": "code",
   "execution_count": 32,
   "id": "30b4eb2b-dd05-4e78-8584-5193a08b933a",
   "metadata": {},
   "outputs": [
    {
     "data": {
      "text/plain": [
       "1284"
      ]
     },
     "execution_count": 32,
     "metadata": {},
     "output_type": "execute_result"
    }
   ],
   "source": [
    "num_neurons"
   ]
  },
  {
   "cell_type": "code",
   "execution_count": 33,
   "id": "db39b7ed-017e-4498-be34-7b89d33f7229",
   "metadata": {},
   "outputs": [],
   "source": [
    "for i in range(num_neurons):\n",
    "    if i in orig_output_neurons:\n",
    "        adj_list[i].append(num_neurons-2)\n",
    "        adj_list[i].append(num_neurons-1)"
   ]
  },
  {
   "cell_type": "code",
   "execution_count": 34,
   "id": "4e9d25a3-7156-4077-b9cf-ee646462c80f",
   "metadata": {},
   "outputs": [
    {
     "data": {
      "text/plain": [
       "[1282, 1283]"
      ]
     },
     "execution_count": 34,
     "metadata": {},
     "output_type": "execute_result"
    }
   ],
   "source": [
    "adj_list[213]"
   ]
  },
  {
   "cell_type": "code",
   "execution_count": 35,
   "id": "9f6a7119-37cb-4708-851b-cac555bed0a1",
   "metadata": {},
   "outputs": [],
   "source": [
    "n = Network(num_neurons, adj_list)"
   ]
  },
  {
   "cell_type": "code",
   "execution_count": 36,
   "id": "44fe6335-6927-4dde-9cf5-22214a5bc6c2",
   "metadata": {},
   "outputs": [],
   "source": [
    "n.set_neuron_activation(1282, lambda x : x, lambda x : 1)"
   ]
  },
  {
   "cell_type": "code",
   "execution_count": 37,
   "id": "a56c9167-9771-44e3-b045-6e44aed0d0b1",
   "metadata": {},
   "outputs": [],
   "source": [
    "n.set_neuron_activation(1283, lambda x : x, lambda x : 1)"
   ]
  },
  {
   "cell_type": "code",
   "execution_count": 38,
   "id": "1d43800c-e163-4e82-a579-dc9679b32a5f",
   "metadata": {},
   "outputs": [
    {
     "data": {
      "text/plain": [
       "<function torch.nn.functional.cross_entropy(input, target, weight=None, size_average=None, ignore_index=-100, reduce=None, reduction='mean')>"
      ]
     },
     "execution_count": 38,
     "metadata": {},
     "output_type": "execute_result"
    }
   ],
   "source": [
    "F.cross_entropy"
   ]
  },
  {
   "cell_type": "code",
   "execution_count": 39,
   "id": "d3fcfaf8-03b2-4b6f-b2f6-7f3f184314d1",
   "metadata": {},
   "outputs": [],
   "source": [
    "dataset = [(inputs[i], outputs[i]) for i in range(len(inputs))]\n",
    "random.shuffle(dataset)"
   ]
  },
  {
   "cell_type": "code",
   "execution_count": 42,
   "id": "15a93055-1611-452e-b975-126f08adc5c7",
   "metadata": {},
   "outputs": [],
   "source": [
    "random.shuffle(dataset)"
   ]
  },
  {
   "cell_type": "code",
   "execution_count": 44,
   "id": "891f8d8a-5c05-4073-9114-2f307cd95cf6",
   "metadata": {},
   "outputs": [
    {
     "data": {
      "application/vnd.jupyter.widget-view+json": {
       "model_id": "9f1fae180c6d48a390a83152474ae291",
       "version_major": 2,
       "version_minor": 0
      },
      "text/plain": [
       "  0%|          | 0/700 [00:00<?, ?it/s]"
      ]
     },
     "metadata": {},
     "output_type": "display_data"
    },
    {
     "data": {
      "image/png": "[encoded data removed]",
      "text/plain": [
       "<Figure size 432x288 with 1 Axes>"
      ]
     },
     "metadata": {
      "needs_background": "light"
     },
     "output_type": "display_data"
    }
   ],
   "source": [
    "optimizer = torch.optim.Adam(n.parameters(), lr=0.001)\n",
    "losses = []\n",
    "for i in trange(len(dataset)):\n",
    "    f_mapper = dataset[i][0]\n",
    "    f_mapper[1282]=1\n",
    "    f_mapper[1283]=1\n",
    "    out = n.forward(f_mapper).reshape(1, -1)\n",
    "    loss = F.cross_entropy(out, dataset[i][1].reshape(1))\n",
    "    losses.append(loss.item())\n",
    "    loss.backward()\n",
    "    optimizer.step()\n",
    "    optimizer.zero_grad()\n",
    "    n.reset()\n",
    "# print(n.weights)\n",
    "plt.plot(losses)\n",
    "plt.show()"
   ]
  },
  {
   "cell_type": "code",
   "execution_count": 45,
   "id": "9e8fd7c9-3bcd-487d-9ae7-32b64856a8a7",
   "metadata": {},
   "outputs": [],
   "source": [
    "n.reset()"
   ]
  },
  {
   "cell_type": "code",
   "execution_count": 152,
   "id": "d02dd33f-f939-449a-a5b0-d636b0c76a09",
   "metadata": {},
   "outputs": [],
   "source": [
    "dataset = [(inputs[i], outputs[i]) for i in range(len(inputs))]"
   ]
  },
  {
   "cell_type": "code",
   "execution_count": 170,
   "id": "e87f9e03-192f-4608-b95d-fb343ae9230a",
   "metadata": {},
   "outputs": [],
   "source": [
    "random.shuffle(dataset)"
   ]
  },
  {
   "cell_type": "code",
   "execution_count": 171,
   "id": "426fe997-7381-4952-8792-5575848a40b8",
   "metadata": {},
   "outputs": [
    {
     "data": {
      "text/plain": [
       "tensor(1)"
      ]
     },
     "execution_count": 171,
     "metadata": {},
     "output_type": "execute_result"
    }
   ],
   "source": [
    "dataset[21][1]"
   ]
  },
  {
   "cell_type": "code",
   "execution_count": 46,
   "id": "b511c5cc-ead1-4d78-a696-2ffe84c520b9",
   "metadata": {},
   "outputs": [
    {
     "data": {
      "application/vnd.jupyter.widget-view+json": {
       "model_id": "409af31ccf304a5da451260fd0c8a5cd",
       "version_major": 2,
       "version_minor": 0
      },
      "text/plain": [
       "  0%|          | 0/700 [00:00<?, ?it/s]"
      ]
     },
     "metadata": {},
     "output_type": "display_data"
    },
    {
     "name": "stdout",
     "output_type": "stream",
     "text": [
      "99.42857142857143\n",
      "[]\n"
     ]
    }
   ],
   "source": [
    "optimizer = torch.optim.Adam(n.parameters(), lr=0.001)\n",
    "losses = []\n",
    "correct = 0\n",
    "for i in trange(len(dataset)):\n",
    "    f_mapper = dataset[i][0]\n",
    "    f_mapper[1282]=1\n",
    "    f_mapper[1283]=1\n",
    "    out = n.forward(f_mapper).reshape(1, -1)\n",
    "    correct += 1 if torch.argmax(out)==dataset[i][1] else 0\n",
    "    n.reset()\n",
    "print(correct/700*100)\n",
    "# print(n.weights)\n",
    "print(losses)\n",
    "# plt.plot(losses)\n",
    "# plt.show()"
   ]
  },
  {
   "cell_type": "code",
   "execution_count": 49,
   "id": "c38bab02-d0e1-4b26-9ba8-5cfdefd6e398",
   "metadata": {},
   "outputs": [
    {
     "name": "stdout",
     "output_type": "stream",
     "text": [
      "Defaulting to user installation because normal site-packages is not writeable\n",
      "Requirement already satisfied: dill in /home/think__tech/.local/lib/python3.6/site-packages (0.3.3)\n",
      "\u001b[33mWARNING: You are using pip version 21.2.4; however, version 21.3.1 is available.\n",
      "You should consider upgrading via the '/usr/bin/python3 -m pip install --upgrade pip' command.\u001b[0m\n"
     ]
    }
   ],
   "source": [
    "!pip install dill"
   ]
  },
  {
   "cell_type": "code",
   "execution_count": 50,
   "id": "a2e9840a-21d0-4e3c-8fad-7d58f4be8691",
   "metadata": {},
   "outputs": [],
   "source": [
    "import dill"
   ]
  },
  {
   "cell_type": "code",
   "execution_count": 58,
   "id": "50866cde-fd37-43bd-8835-5bec8ea3014e",
   "metadata": {},
   "outputs": [],
   "source": [
    "class Demo:\n",
    "    def __init__(self):\n",
    "        self.wow = 10\n",
    "        self.damn = lambda x: 10*x\n",
    "\n",
    "d = Demo()\n",
    "with open('demo.pkl', 'wb') as f:\n",
    "    dill.dump(d, f)"
   ]
  },
  {
   "cell_type": "code",
   "execution_count": 65,
   "id": "94f81a36-0cf1-47f4-a5d8-e99970303f96",
   "metadata": {},
   "outputs": [],
   "source": [
    "save_object(d, \"demo.pkl\")"
   ]
  },
  {
   "cell_type": "code",
   "execution_count": 66,
   "id": "7d821366-627f-4df0-b2af-66ba6c693a7c",
   "metadata": {},
   "outputs": [],
   "source": [
    "d_dill_new =load_object(\"demo.pkl\")"
   ]
  },
  {
   "cell_type": "code",
   "execution_count": 67,
   "id": "d92604c2-6c11-413b-b858-8aaf6e8fd743",
   "metadata": {},
   "outputs": [
    {
     "data": {
      "text/plain": [
       "1020"
      ]
     },
     "execution_count": 67,
     "metadata": {},
     "output_type": "execute_result"
    }
   ],
   "source": [
    "d_dill_new.damn(102)"
   ]
  },
  {
   "cell_type": "code",
   "execution_count": 59,
   "id": "ed1fd125-980c-40d8-a8fa-ae63af00df97",
   "metadata": {},
   "outputs": [],
   "source": [
    "with open('demo.pkl', 'rb') as f:\n",
    "    d_dill = dill.load(f)"
   ]
  },
  {
   "cell_type": "code",
   "execution_count": 62,
   "id": "19c0896f-2b69-435e-bf4f-54ab74f3ef4d",
   "metadata": {},
   "outputs": [
    {
     "data": {
      "text/plain": [
       "100"
      ]
     },
     "execution_count": 62,
     "metadata": {},
     "output_type": "execute_result"
    }
   ],
   "source": [
    "d_dill.damn(10)"
   ]
  },
  {
   "cell_type": "code",
   "execution_count": null,
   "id": "e111b439-d74b-4117-8d38-7edcf0b82039",
   "metadata": {},
   "outputs": [],
   "source": [
    "dill.dump()"
   ]
  },
  {
   "cell_type": "code",
   "execution_count": 68,
   "id": "d31e7aaa-3228-4109-b196-755cad0062ac",
   "metadata": {},
   "outputs": [],
   "source": [
    "save_object(n, \"network_99_4285.pkl\")"
   ]
  },
  {
   "cell_type": "code",
   "execution_count": 71,
   "id": "7b91bd42-5228-40a6-ac34-6b9e68639f9d",
   "metadata": {},
   "outputs": [],
   "source": [
    "loaded_network_n = load_object(\"network_99_4285.pkl\")"
   ]
  },
  {
   "cell_type": "code",
   "execution_count": 72,
   "id": "4d1168fb-b455-4a5f-a000-e2aeb12103ee",
   "metadata": {},
   "outputs": [],
   "source": [
    "loaded_network_n.reset()"
   ]
  },
  {
   "cell_type": "code",
   "execution_count": 73,
   "id": "adbe0096-07f1-4e06-86d3-684e8af55501",
   "metadata": {},
   "outputs": [
    {
     "data": {
      "application/vnd.jupyter.widget-view+json": {
       "model_id": "441a2a28d2d74d06b753617f5a270400",
       "version_major": 2,
       "version_minor": 0
      },
      "text/plain": [
       "  0%|          | 0/700 [00:00<?, ?it/s]"
      ]
     },
     "metadata": {},
     "output_type": "display_data"
    },
    {
     "name": "stdout",
     "output_type": "stream",
     "text": [
      "99.42857142857143\n",
      "[]\n"
     ]
    }
   ],
   "source": [
    "optimizer = torch.optim.Adam(n.parameters(), lr=0.001)\n",
    "losses = []\n",
    "correct = 0\n",
    "for i in trange(len(dataset)):\n",
    "    f_mapper = dataset[i][0]\n",
    "    f_mapper[1282]=1\n",
    "    f_mapper[1283]=1\n",
    "    out = loaded_network_n.forward(f_mapper).reshape(1, -1)\n",
    "    correct += 1 if torch.argmax(out)==dataset[i][1] else 0\n",
    "    loaded_network_n.reset()\n",
    "print(correct/700*100)\n",
    "# print(n.weights)\n",
    "print(losses)\n",
    "# plt.plot(losses)\n",
    "# plt.show()"
   ]
  },
  {
   "cell_type": "code",
   "execution_count": 54,
   "id": "66876e77-4168-4a1c-807f-65ac69c0a7ad",
   "metadata": {},
   "outputs": [],
   "source": [
    "# https://math.stackexchange.com/questions/945871/derivative-of-softmax-loss-function\n",
    "import torch\n",
    "for f in f_mapper_global:\n",
    "    f[1282]=1\n",
    "    f[1283]=1\n",
    "    n.reset()\n",
    "    o = n.forward(f)\n",
    "    if o[0]!=torch.tensor([0.]):\n",
    "        print(o)\n",
    "        break"
   ]
  },
  {
   "cell_type": "code",
   "execution_count": 60,
   "id": "51a51f0d-b1be-4142-8e8a-5b731e051325",
   "metadata": {},
   "outputs": [],
   "source": [
    "m = torch.nn.Sequential(torch.nn.Linear(10, 100))"
   ]
  },
  {
   "cell_type": "code",
   "execution_count": 72,
   "id": "dde0ccb1-4e64-4709-bd07-99e878aa016a",
   "metadata": {},
   "outputs": [
    {
     "data": {
      "text/plain": [
       "Parameter containing:\n",
       "tensor([ 0.2583, -0.2650, -0.1380,  0.2627, -0.0312,  0.1305, -0.2825,  0.2821,\n",
       "        -0.1505, -0.1986,  0.1177, -0.0656, -0.2120,  0.2727,  0.2055,  0.2070,\n",
       "         0.0710,  0.1732,  0.0441,  0.2178,  0.0877,  0.0890, -0.2641,  0.1323,\n",
       "         0.2862,  0.1050, -0.0550,  0.0561,  0.1339,  0.1444, -0.1224,  0.0247,\n",
       "        -0.2285, -0.1712,  0.2991,  0.2760,  0.3068, -0.2236,  0.1844,  0.2605,\n",
       "         0.1401, -0.1417,  0.0496, -0.2446,  0.2426,  0.2560,  0.0176, -0.0214,\n",
       "         0.0734, -0.2629, -0.1454, -0.0164, -0.2263, -0.1252,  0.2839,  0.1112,\n",
       "        -0.1526, -0.2420,  0.1288, -0.2328, -0.1631, -0.2980, -0.2495,  0.0282,\n",
       "         0.2589,  0.1794, -0.2060,  0.0578, -0.1831, -0.0485,  0.1794,  0.1493,\n",
       "        -0.2882, -0.2283,  0.1230, -0.0346,  0.0167, -0.0178,  0.0618,  0.3064,\n",
       "         0.2408, -0.1345,  0.1730,  0.0623,  0.2448,  0.2489,  0.2486, -0.2769,\n",
       "         0.0622, -0.0840, -0.0709,  0.1767, -0.0693,  0.1541,  0.2729,  0.1055,\n",
       "         0.1617, -0.2165, -0.3010, -0.0245], requires_grad=True)"
      ]
     },
     "execution_count": 72,
     "metadata": {},
     "output_type": "execute_result"
    }
   ],
   "source": [
    "list(m.parameters())[1]"
   ]
  },
  {
   "cell_type": "code",
   "execution_count": null,
   "id": "61b821d8-007a-4a6d-89d6-b598c94fa8ea",
   "metadata": {},
   "outputs": [],
   "source": []
  },
  {
   "cell_type": "code",
   "execution_count": null,
   "id": "b839dce8-9d60-43a8-b0e6-867fdf699546",
   "metadata": {},
   "outputs": [],
   "source": []
  },
  {
   "cell_type": "code",
   "execution_count": 29,
   "id": "11719753-58ed-4021-abff-9596bcd196f1",
   "metadata": {},
   "outputs": [],
   "source": [
    "import torch"
   ]
  },
  {
   "cell_type": "code",
   "execution_count": 30,
   "id": "ac0148b6-e784-4bf4-95f1-d029f2f4cf30",
   "metadata": {},
   "outputs": [],
   "source": [
    "n = Network(4, [[1], [2], [3], []])\n",
    "n.weights = {\n",
    "        (0, 1): torch.tensor(1., requires_grad=True),\n",
    "        (1, 2): torch.tensor(2., requires_grad=True),\n",
    "        (2, 3): torch.tensor(3., requires_grad=True),\n",
    "}"
   ]
  },
  {
   "cell_type": "code",
   "execution_count": 31,
   "id": "e0480f23-95cd-402b-9bbe-193ef9fd8be9",
   "metadata": {},
   "outputs": [
    {
     "data": {
      "text/plain": [
       "(tensor(3., requires_grad=True), None)"
      ]
     },
     "execution_count": 31,
     "metadata": {},
     "output_type": "execute_result"
    }
   ],
   "source": [
    "n.weights[(2, 3)], n.weights[(2, 3)].grad"
   ]
  },
  {
   "cell_type": "code",
   "execution_count": 32,
   "id": "bfa1b77b-8bc5-462d-a3aa-3a2b704fec70",
   "metadata": {},
   "outputs": [],
   "source": [
    "n_o = n.forward({0:1, 1:1, 2:1, 3:1})"
   ]
  },
  {
   "cell_type": "code",
   "execution_count": 33,
   "id": "ccbc0e51-4097-4986-a075-70565a8086a2",
   "metadata": {},
   "outputs": [
    {
     "data": {
      "text/plain": [
       "tensor([6.], grad_fn=<StackBackward>)"
      ]
     },
     "execution_count": 33,
     "metadata": {},
     "output_type": "execute_result"
    }
   ],
   "source": [
    "n_o"
   ]
  },
  {
   "cell_type": "code",
   "execution_count": 34,
   "id": "21f0e370-fdb7-49e6-8f58-ee2fe6a19d38",
   "metadata": {},
   "outputs": [],
   "source": [
    "loss = 0.1*n_o*n_o/2"
   ]
  },
  {
   "cell_type": "code",
   "execution_count": 35,
   "id": "bacb01cb-a4c7-450a-866c-0c5e73bef19a",
   "metadata": {},
   "outputs": [
    {
     "data": {
      "text/plain": [
       "tensor([1.8000], grad_fn=<DivBackward0>)"
      ]
     },
     "execution_count": 35,
     "metadata": {},
     "output_type": "execute_result"
    }
   ],
   "source": [
    "loss"
   ]
  },
  {
   "cell_type": "code",
   "execution_count": 36,
   "id": "04d9e224-913a-469d-b630-e7475fc75b45",
   "metadata": {},
   "outputs": [],
   "source": [
    "loss.backward()"
   ]
  },
  {
   "cell_type": "code",
   "execution_count": 37,
   "id": "b9fe829a-7899-40aa-8078-d799ef0fbbc5",
   "metadata": {},
   "outputs": [
    {
     "data": {
      "text/plain": [
       "tensor(1.2000)"
      ]
     },
     "execution_count": 37,
     "metadata": {},
     "output_type": "execute_result"
    }
   ],
   "source": [
    "n.weights[(2, 3)].grad"
   ]
  },
  {
   "cell_type": "code",
   "execution_count": 38,
   "id": "97838380-2b2e-4bbb-b60e-0c1d0fb99385",
   "metadata": {},
   "outputs": [],
   "source": [
    "optimizer = torch.optim.Adam((v for v in n.weights.values()), lr=0.1)"
   ]
  },
  {
   "cell_type": "code",
   "execution_count": 39,
   "id": "eee18b95-2f6e-43a7-98eb-6b46010d1bd6",
   "metadata": {},
   "outputs": [],
   "source": [
    "optimizer.zero_grad()"
   ]
  },
  {
   "cell_type": "code",
   "execution_count": 40,
   "id": "526fc176-4158-4308-8007-6486cea235fd",
   "metadata": {},
   "outputs": [
    {
     "data": {
      "text/plain": [
       "tensor(0.)"
      ]
     },
     "execution_count": 40,
     "metadata": {},
     "output_type": "execute_result"
    }
   ],
   "source": [
    "n.weights[(2, 3)].grad"
   ]
  },
  {
   "cell_type": "code",
   "execution_count": 41,
   "id": "15b39282-6239-48df-95ef-0ab71b1c6efc",
   "metadata": {},
   "outputs": [
    {
     "data": {
      "text/plain": [
       "(tensor(3., requires_grad=True), tensor(0.))"
      ]
     },
     "execution_count": 41,
     "metadata": {},
     "output_type": "execute_result"
    }
   ],
   "source": [
    "n.weights[(2, 3)], n.weights[(2, 3)].grad"
   ]
  },
  {
   "cell_type": "code",
   "execution_count": 92,
   "id": "d32a39a0-d589-46a0-b238-3712622c44c4",
   "metadata": {},
   "outputs": [
    {
     "data": {
      "text/plain": [
       "tensor(30.)"
      ]
     },
     "execution_count": 92,
     "metadata": {},
     "output_type": "execute_result"
    }
   ],
   "source": [
    "a.grad"
   ]
  },
  {
   "cell_type": "code",
   "execution_count": 87,
   "id": "746a826e-f076-4864-b978-269da4dd046a",
   "metadata": {},
   "outputs": [
    {
     "ename": "RuntimeError",
     "evalue": "grad can be implicitly created only for scalar outputs",
     "output_type": "error",
     "traceback": [
      "\u001b[0;31m---------------------------------------------------------------------------\u001b[0m",
      "\u001b[0;31mRuntimeError\u001b[0m                              Traceback (most recent call last)",
      "\u001b[0;32m<ipython-input-87-359311aea610>\u001b[0m in \u001b[0;36m<module>\u001b[0;34m\u001b[0m\n\u001b[0;32m----> 1\u001b[0;31m \u001b[0mtorch\u001b[0m\u001b[0;34m.\u001b[0m\u001b[0mstack\u001b[0m\u001b[0;34m(\u001b[0m\u001b[0;34m[\u001b[0m\u001b[0mo1\u001b[0m\u001b[0;34m,\u001b[0m \u001b[0mo2\u001b[0m\u001b[0;34m]\u001b[0m\u001b[0;34m)\u001b[0m\u001b[0;34m.\u001b[0m\u001b[0mbackward\u001b[0m\u001b[0;34m(\u001b[0m\u001b[0;34m)\u001b[0m\u001b[0;34m\u001b[0m\u001b[0;34m\u001b[0m\u001b[0m\n\u001b[0m",
      "\u001b[0;32m~/.local/lib/python3.6/site-packages/torch/tensor.py\u001b[0m in \u001b[0;36mbackward\u001b[0;34m(self, gradient, retain_graph, create_graph)\u001b[0m\n\u001b[1;32m    183\u001b[0m                 \u001b[0mproducts\u001b[0m\u001b[0;34m.\u001b[0m \u001b[0mDefaults\u001b[0m \u001b[0mto\u001b[0m\u001b[0;31m \u001b[0m\u001b[0;31m`\u001b[0m\u001b[0;31m`\u001b[0m\u001b[0;32mFalse\u001b[0m\u001b[0;31m`\u001b[0m\u001b[0;31m`\u001b[0m\u001b[0;34m.\u001b[0m\u001b[0;34m\u001b[0m\u001b[0;34m\u001b[0m\u001b[0m\n\u001b[1;32m    184\u001b[0m         \"\"\"\n\u001b[0;32m--> 185\u001b[0;31m         \u001b[0mtorch\u001b[0m\u001b[0;34m.\u001b[0m\u001b[0mautograd\u001b[0m\u001b[0;34m.\u001b[0m\u001b[0mbackward\u001b[0m\u001b[0;34m(\u001b[0m\u001b[0mself\u001b[0m\u001b[0;34m,\u001b[0m \u001b[0mgradient\u001b[0m\u001b[0;34m,\u001b[0m \u001b[0mretain_graph\u001b[0m\u001b[0;34m,\u001b[0m \u001b[0mcreate_graph\u001b[0m\u001b[0;34m)\u001b[0m\u001b[0;34m\u001b[0m\u001b[0;34m\u001b[0m\u001b[0m\n\u001b[0m\u001b[1;32m    186\u001b[0m \u001b[0;34m\u001b[0m\u001b[0m\n\u001b[1;32m    187\u001b[0m     \u001b[0;32mdef\u001b[0m \u001b[0mregister_hook\u001b[0m\u001b[0;34m(\u001b[0m\u001b[0mself\u001b[0m\u001b[0;34m,\u001b[0m \u001b[0mhook\u001b[0m\u001b[0;34m)\u001b[0m\u001b[0;34m:\u001b[0m\u001b[0;34m\u001b[0m\u001b[0;34m\u001b[0m\u001b[0m\n",
      "\u001b[0;32m~/.local/lib/python3.6/site-packages/torch/autograd/__init__.py\u001b[0m in \u001b[0;36mbackward\u001b[0;34m(tensors, grad_tensors, retain_graph, create_graph, grad_variables)\u001b[0m\n\u001b[1;32m    119\u001b[0m         \u001b[0mgrad_tensors\u001b[0m \u001b[0;34m=\u001b[0m \u001b[0mlist\u001b[0m\u001b[0;34m(\u001b[0m\u001b[0mgrad_tensors\u001b[0m\u001b[0;34m)\u001b[0m\u001b[0;34m\u001b[0m\u001b[0;34m\u001b[0m\u001b[0m\n\u001b[1;32m    120\u001b[0m \u001b[0;34m\u001b[0m\u001b[0m\n\u001b[0;32m--> 121\u001b[0;31m     \u001b[0mgrad_tensors\u001b[0m \u001b[0;34m=\u001b[0m \u001b[0m_make_grads\u001b[0m\u001b[0;34m(\u001b[0m\u001b[0mtensors\u001b[0m\u001b[0;34m,\u001b[0m \u001b[0mgrad_tensors\u001b[0m\u001b[0;34m)\u001b[0m\u001b[0;34m\u001b[0m\u001b[0;34m\u001b[0m\u001b[0m\n\u001b[0m\u001b[1;32m    122\u001b[0m     \u001b[0;32mif\u001b[0m \u001b[0mretain_graph\u001b[0m \u001b[0;32mis\u001b[0m \u001b[0;32mNone\u001b[0m\u001b[0;34m:\u001b[0m\u001b[0;34m\u001b[0m\u001b[0;34m\u001b[0m\u001b[0m\n\u001b[1;32m    123\u001b[0m         \u001b[0mretain_graph\u001b[0m \u001b[0;34m=\u001b[0m \u001b[0mcreate_graph\u001b[0m\u001b[0;34m\u001b[0m\u001b[0;34m\u001b[0m\u001b[0m\n",
      "\u001b[0;32m~/.local/lib/python3.6/site-packages/torch/autograd/__init__.py\u001b[0m in \u001b[0;36m_make_grads\u001b[0;34m(outputs, grads)\u001b[0m\n\u001b[1;32m     45\u001b[0m             \u001b[0;32mif\u001b[0m \u001b[0mout\u001b[0m\u001b[0;34m.\u001b[0m\u001b[0mrequires_grad\u001b[0m\u001b[0;34m:\u001b[0m\u001b[0;34m\u001b[0m\u001b[0;34m\u001b[0m\u001b[0m\n\u001b[1;32m     46\u001b[0m                 \u001b[0;32mif\u001b[0m \u001b[0mout\u001b[0m\u001b[0;34m.\u001b[0m\u001b[0mnumel\u001b[0m\u001b[0;34m(\u001b[0m\u001b[0;34m)\u001b[0m \u001b[0;34m!=\u001b[0m \u001b[0;36m1\u001b[0m\u001b[0;34m:\u001b[0m\u001b[0;34m\u001b[0m\u001b[0;34m\u001b[0m\u001b[0m\n\u001b[0;32m---> 47\u001b[0;31m                     \u001b[0;32mraise\u001b[0m \u001b[0mRuntimeError\u001b[0m\u001b[0;34m(\u001b[0m\u001b[0;34m\"grad can be implicitly created only for scalar outputs\"\u001b[0m\u001b[0;34m)\u001b[0m\u001b[0;34m\u001b[0m\u001b[0;34m\u001b[0m\u001b[0m\n\u001b[0m\u001b[1;32m     48\u001b[0m                 \u001b[0mnew_grads\u001b[0m\u001b[0;34m.\u001b[0m\u001b[0mappend\u001b[0m\u001b[0;34m(\u001b[0m\u001b[0mtorch\u001b[0m\u001b[0;34m.\u001b[0m\u001b[0mones_like\u001b[0m\u001b[0;34m(\u001b[0m\u001b[0mout\u001b[0m\u001b[0;34m,\u001b[0m \u001b[0mmemory_format\u001b[0m\u001b[0;34m=\u001b[0m\u001b[0mtorch\u001b[0m\u001b[0;34m.\u001b[0m\u001b[0mpreserve_format\u001b[0m\u001b[0;34m)\u001b[0m\u001b[0;34m)\u001b[0m\u001b[0;34m\u001b[0m\u001b[0;34m\u001b[0m\u001b[0m\n\u001b[1;32m     49\u001b[0m             \u001b[0;32melse\u001b[0m\u001b[0;34m:\u001b[0m\u001b[0;34m\u001b[0m\u001b[0;34m\u001b[0m\u001b[0m\n",
      "\u001b[0;31mRuntimeError\u001b[0m: grad can be implicitly created only for scalar outputs"
     ]
    }
   ],
   "source": [
    "torch.stack([o1, o2]).backward()"
   ]
  },
  {
   "cell_type": "code",
   "execution_count": null,
   "id": "0331c56b-f622-47ac-8d26-28ce34e0909a",
   "metadata": {},
   "outputs": [],
   "source": []
  }
 ],
 "metadata": {
  "kernelspec": {
   "display_name": "Python 3",
   "language": "python",
   "name": "python3"
  },
  "language_info": {
   "codemirror_mode": {
    "name": "ipython",
    "version": 3
   },
   "file_extension": ".py",
   "mimetype": "text/x-python",
   "name": "python",
   "nbconvert_exporter": "python",
   "pygments_lexer": "ipython3",
   "version": "3.6.9"
  }
 },
 "nbformat": 4,
 "nbformat_minor": 5
}
