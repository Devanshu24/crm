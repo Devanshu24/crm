{
 "cells": [
  {
   "cell_type": "code",
   "execution_count": 1,
   "id": "40f0520a-a034-4530-adad-780ea6a3a161",
   "metadata": {},
   "outputs": [],
   "source": [
    "from crm import Network"
   ]
  },
  {
   "cell_type": "code",
   "execution_count": 2,
   "id": "d1cdb7b9-5081-47b9-bf71-9b8db78938f5",
   "metadata": {},
   "outputs": [],
   "source": [
    "import re"
   ]
  },
  {
   "cell_type": "markdown",
   "id": "2775a557-166f-47db-90b5-65671fb583fa",
   "metadata": {},
   "source": [
    "# Data"
   ]
  },
  {
   "cell_type": "code",
   "execution_count": 3,
   "id": "f224d637-c629-47e3-aea3-dede8aab217a",
   "metadata": {},
   "outputs": [],
   "source": [
    "f = open(\"data/raw/crm_output.pl\")"
   ]
  },
  {
   "cell_type": "code",
   "execution_count": 4,
   "id": "5edb40b9-b5dd-4c63-a5aa-b12dfe07cb6d",
   "metadata": {},
   "outputs": [],
   "source": [
    "edges_raw = []"
   ]
  },
  {
   "cell_type": "code",
   "execution_count": 5,
   "id": "b3a7775a-2054-422b-bc0b-5408e27cff3a",
   "metadata": {},
   "outputs": [],
   "source": [
    "while True:\n",
    "    s = f.readline()\n",
    "    if not s:\n",
    "        break\n",
    "    if \"connected\" in s:\n",
    "        edges_raw.append(s)"
   ]
  },
  {
   "cell_type": "code",
   "execution_count": 6,
   "id": "d23fa25a-f9ce-4e4c-8ef1-06b77fbe1599",
   "metadata": {},
   "outputs": [
    {
     "data": {
      "text/plain": [
       "'1258'"
      ]
     },
     "execution_count": 6,
     "metadata": {},
     "output_type": "execute_result"
    }
   ],
   "source": [
    "edges_raw[24].split(\",\")[0].split(\"(\")[-1].split(\")\")[0]"
   ]
  },
  {
   "cell_type": "code",
   "execution_count": 7,
   "id": "848b8a5c-3cf7-4c3c-b8b4-4d22b3c8de4b",
   "metadata": {},
   "outputs": [],
   "source": [
    "gg = ' '.join(edges_raw[24].split(\",\")[1:3])"
   ]
  },
  {
   "cell_type": "code",
   "execution_count": 8,
   "id": "6e0fb869-f376-476f-86b0-8156d4aad6e4",
   "metadata": {},
   "outputs": [
    {
     "data": {
      "text/plain": [
       "'[a(2) a(26)]'"
      ]
     },
     "execution_count": 8,
     "metadata": {},
     "output_type": "execute_result"
    }
   ],
   "source": [
    "gg"
   ]
  },
  {
   "cell_type": "code",
   "execution_count": 9,
   "id": "88029163-96c2-4ca0-95dc-4f6348b3a276",
   "metadata": {},
   "outputs": [
    {
     "data": {
      "text/plain": [
       "2"
      ]
     },
     "execution_count": 9,
     "metadata": {},
     "output_type": "execute_result"
    }
   ],
   "source": [
    "int(re.findall(r\"a\\([0-9]*\\)\", gg)[0].split(\"(\")[-1].split(\")\")[0])"
   ]
  },
  {
   "cell_type": "code",
   "execution_count": 10,
   "id": "39ed73c2-c332-46ed-9753-fb9a8ad82f65",
   "metadata": {},
   "outputs": [
    {
     "data": {
      "text/plain": [
       "26"
      ]
     },
     "execution_count": 10,
     "metadata": {},
     "output_type": "execute_result"
    }
   ],
   "source": [
    "int(re.findall(r\"a\\([0-9]*\\)\", gg)[1].split(\"(\")[-1].split(\")\")[0])"
   ]
  },
  {
   "cell_type": "code",
   "execution_count": 11,
   "id": "e01e98fc-5d17-42ec-8180-2b569bf821ee",
   "metadata": {},
   "outputs": [],
   "source": [
    "edges = []"
   ]
  },
  {
   "cell_type": "code",
   "execution_count": 12,
   "id": "798e8979-3044-45bb-80e2-44d367a597a1",
   "metadata": {},
   "outputs": [],
   "source": [
    "for i in range(len(edges_raw)):\n",
    "    end = int(edges_raw[i].split(\",\")[0].split(\"(\")[-1].split(\")\")[0])-1\n",
    "    \n",
    "    gg = ' '.join(edges_raw[i].split(\",\")[1:3])\n",
    "    start_one = int(re.findall(r\"a\\([0-9]*\\)\", gg)[0].split(\"(\")[-1].split(\")\")[0])-1\n",
    "    start_two = int(re.findall(r\"a\\([0-9]*\\)\", gg)[1].split(\"(\")[-1].split(\")\")[0])-1\n",
    "    # start_one --> end\n",
    "    # start_two --> end\n",
    "    edges.append((start_one, end))\n",
    "    edges.append((start_two, end))"
   ]
  },
  {
   "cell_type": "code",
   "execution_count": 13,
   "id": "fb92d70c-6239-443f-b6f5-f6db064cf0a2",
   "metadata": {},
   "outputs": [],
   "source": [
    "# edges"
   ]
  },
  {
   "cell_type": "code",
   "execution_count": 14,
   "id": "3c3505dc-9b6b-4524-a5f5-b822913ed312",
   "metadata": {},
   "outputs": [],
   "source": [
    "with open(\"data/edges.txt\", \"w\") as fp:\n",
    "    for u, v in edges:\n",
    "        fp.write(f\"{u} {v}\\n\")"
   ]
  },
  {
   "cell_type": "code",
   "execution_count": 15,
   "id": "372ec153-7537-490c-9ab5-d1ccb47c34b6",
   "metadata": {},
   "outputs": [
    {
     "data": {
      "text/plain": [
       "(2564, 2541)"
      ]
     },
     "execution_count": 15,
     "metadata": {},
     "output_type": "execute_result"
    }
   ],
   "source": [
    "len(edges), len(set(edges))"
   ]
  },
  {
   "cell_type": "code",
   "execution_count": 16,
   "id": "873bd645-0a74-4ea9-98c3-cb4fbe7e11a6",
   "metadata": {},
   "outputs": [
    {
     "data": {
      "text/plain": [
       "(2564, 2541)"
      ]
     },
     "execution_count": 16,
     "metadata": {},
     "output_type": "execute_result"
    }
   ],
   "source": [
    "len(edges), len(set(edges))"
   ]
  },
  {
   "cell_type": "code",
   "execution_count": 17,
   "id": "87bebdb0-f1c6-4425-9d5f-af194d74c168",
   "metadata": {},
   "outputs": [],
   "source": [
    "f_mapper_global = []"
   ]
  },
  {
   "cell_type": "code",
   "execution_count": 18,
   "id": "3fcd1b9c-d5b1-41bd-893f-3c98d1b489fd",
   "metadata": {},
   "outputs": [],
   "source": [
    "f = open(\"data/raw/train_features_pos\")"
   ]
  },
  {
   "cell_type": "code",
   "execution_count": 19,
   "id": "b8bd2dea-454e-4333-8be3-a95ecd339672",
   "metadata": {},
   "outputs": [],
   "source": [
    "while True:\n",
    "    gg = f.readline().split(\" \")[3:-1]\n",
    "    if not gg:\n",
    "        break\n",
    "    all_pos = [int(e) for e in gg]\n",
    "    dd = {i: 1 if i in all_pos else 0 for i in range(1282)}\n",
    "    f_mapper_global.append(dd)"
   ]
  },
  {
   "cell_type": "code",
   "execution_count": 20,
   "id": "8fdbb662-644c-4ec4-a69b-3a282dd3ad43",
   "metadata": {},
   "outputs": [
    {
     "data": {
      "text/plain": [
       "{0: 0,\n",
       " 1: 0,\n",
       " 2: 0,\n",
       " 3: 1,\n",
       " 4: 1,\n",
       " 5: 0,\n",
       " 6: 0,\n",
       " 7: 0,\n",
       " 8: 0,\n",
       " 9: 0,\n",
       " 10: 1,\n",
       " 11: 0,\n",
       " 12: 1,\n",
       " 13: 0,\n",
       " 14: 0,\n",
       " 15: 1,\n",
       " 16: 1,\n",
       " 17: 0,\n",
       " 18: 0,\n",
       " 19: 0,\n",
       " 20: 1,\n",
       " 21: 1,\n",
       " 22: 1,\n",
       " 23: 1,\n",
       " 24: 1,\n",
       " 25: 1,\n",
       " 26: 1,\n",
       " 27: 1,\n",
       " 28: 1,\n",
       " 29: 1,\n",
       " 30: 1,\n",
       " 31: 1,\n",
       " 32: 1,\n",
       " 33: 1,\n",
       " 34: 1,\n",
       " 35: 0,\n",
       " 36: 0,\n",
       " 37: 0,\n",
       " 38: 0,\n",
       " 39: 0,\n",
       " 40: 0,\n",
       " 41: 0,\n",
       " 42: 0,\n",
       " 43: 0,\n",
       " 44: 0,\n",
       " 45: 0,\n",
       " 46: 0,\n",
       " 47: 0,\n",
       " 48: 0,\n",
       " 49: 0,\n",
       " 50: 0,\n",
       " 51: 0,\n",
       " 52: 0,\n",
       " 53: 0,\n",
       " 54: 0,\n",
       " 55: 0,\n",
       " 56: 0,\n",
       " 57: 0,\n",
       " 58: 0,\n",
       " 59: 0,\n",
       " 60: 1,\n",
       " 61: 1,\n",
       " 62: 1,\n",
       " 63: 1,\n",
       " 64: 1,\n",
       " 65: 1,\n",
       " 66: 1,\n",
       " 67: 0,\n",
       " 68: 0,\n",
       " 69: 0,\n",
       " 70: 0,\n",
       " 71: 1,\n",
       " 72: 1,\n",
       " 73: 0,\n",
       " 74: 1,\n",
       " 75: 1,\n",
       " 76: 1,\n",
       " 77: 1,\n",
       " 78: 1,\n",
       " 79: 0,\n",
       " 80: 0,\n",
       " 81: 0,\n",
       " 82: 0,\n",
       " 83: 0,\n",
       " 84: 0,\n",
       " 85: 1,\n",
       " 86: 0,\n",
       " 87: 0,\n",
       " 88: 0,\n",
       " 89: 0,\n",
       " 90: 0,\n",
       " 91: 0,\n",
       " 92: 0,\n",
       " 93: 0,\n",
       " 94: 0,\n",
       " 95: 0,\n",
       " 96: 0,\n",
       " 97: 0,\n",
       " 98: 0,\n",
       " 99: 0,\n",
       " 100: 0,\n",
       " 101: 0,\n",
       " 102: 0,\n",
       " 103: 0,\n",
       " 104: 0,\n",
       " 105: 0,\n",
       " 106: 0,\n",
       " 107: 0,\n",
       " 108: 0,\n",
       " 109: 0,\n",
       " 110: 0,\n",
       " 111: 0,\n",
       " 112: 0,\n",
       " 113: 0,\n",
       " 114: 1,\n",
       " 115: 1,\n",
       " 116: 1,\n",
       " 117: 1,\n",
       " 118: 1,\n",
       " 119: 1,\n",
       " 120: 1,\n",
       " 121: 1,\n",
       " 122: 0,\n",
       " 123: 0,\n",
       " 124: 0,\n",
       " 125: 0,\n",
       " 126: 0,\n",
       " 127: 0,\n",
       " 128: 1,\n",
       " 129: 1,\n",
       " 130: 1,\n",
       " 131: 1,\n",
       " 132: 0,\n",
       " 133: 0,\n",
       " 134: 0,\n",
       " 135: 0,\n",
       " 136: 0,\n",
       " 137: 0,\n",
       " 138: 0,\n",
       " 139: 0,\n",
       " 140: 0,\n",
       " 141: 0,\n",
       " 142: 0,\n",
       " 143: 0,\n",
       " 144: 0,\n",
       " 145: 0,\n",
       " 146: 0,\n",
       " 147: 0,\n",
       " 148: 1,\n",
       " 149: 1,\n",
       " 150: 1,\n",
       " 151: 1,\n",
       " 152: 1,\n",
       " 153: 1,\n",
       " 154: 1,\n",
       " 155: 0,\n",
       " 156: 0,\n",
       " 157: 0,\n",
       " 158: 0,\n",
       " 159: 0,\n",
       " 160: 1,\n",
       " 161: 1,\n",
       " 162: 1,\n",
       " 163: 0,\n",
       " 164: 0,\n",
       " 165: 0,\n",
       " 166: 1,\n",
       " 167: 1,\n",
       " 168: 0,\n",
       " 169: 0,\n",
       " 170: 0,\n",
       " 171: 0,\n",
       " 172: 0,\n",
       " 173: 0,\n",
       " 174: 0,\n",
       " 175: 0,\n",
       " 176: 0,\n",
       " 177: 0,\n",
       " 178: 0,\n",
       " 179: 0,\n",
       " 180: 0,\n",
       " 181: 0,\n",
       " 182: 0,\n",
       " 183: 0,\n",
       " 184: 0,\n",
       " 185: 0,\n",
       " 186: 0,\n",
       " 187: 0,\n",
       " 188: 0,\n",
       " 189: 0,\n",
       " 190: 0,\n",
       " 191: 0,\n",
       " 192: 0,\n",
       " 193: 0,\n",
       " 194: 0,\n",
       " 195: 0,\n",
       " 196: 0,\n",
       " 197: 0,\n",
       " 198: 0,\n",
       " 199: 0,\n",
       " 200: 0,\n",
       " 201: 0,\n",
       " 202: 0,\n",
       " 203: 0,\n",
       " 204: 0,\n",
       " 205: 0,\n",
       " 206: 0,\n",
       " 207: 0,\n",
       " 208: 0,\n",
       " 209: 0,\n",
       " 210: 0,\n",
       " 211: 0,\n",
       " 212: 0,\n",
       " 213: 0,\n",
       " 214: 0,\n",
       " 215: 0,\n",
       " 216: 0,\n",
       " 217: 0,\n",
       " 218: 0,\n",
       " 219: 0,\n",
       " 220: 0,\n",
       " 221: 0,\n",
       " 222: 0,\n",
       " 223: 0,\n",
       " 224: 0,\n",
       " 225: 0,\n",
       " 226: 0,\n",
       " 227: 0,\n",
       " 228: 0,\n",
       " 229: 0,\n",
       " 230: 0,\n",
       " 231: 0,\n",
       " 232: 0,\n",
       " 233: 0,\n",
       " 234: 0,\n",
       " 235: 0,\n",
       " 236: 0,\n",
       " 237: 0,\n",
       " 238: 0,\n",
       " 239: 0,\n",
       " 240: 0,\n",
       " 241: 1,\n",
       " 242: 1,\n",
       " 243: 1,\n",
       " 244: 1,\n",
       " 245: 1,\n",
       " 246: 1,\n",
       " 247: 0,\n",
       " 248: 1,\n",
       " 249: 0,\n",
       " 250: 0,\n",
       " 251: 0,\n",
       " 252: 0,\n",
       " 253: 0,\n",
       " 254: 0,\n",
       " 255: 1,\n",
       " 256: 1,\n",
       " 257: 0,\n",
       " 258: 1,\n",
       " 259: 0,\n",
       " 260: 0,\n",
       " 261: 0,\n",
       " 262: 0,\n",
       " 263: 1,\n",
       " 264: 1,\n",
       " 265: 0,\n",
       " 266: 1,\n",
       " 267: 0,\n",
       " 268: 0,\n",
       " 269: 0,\n",
       " 270: 0,\n",
       " 271: 1,\n",
       " 272: 1,\n",
       " 273: 1,\n",
       " 274: 1,\n",
       " 275: 1,\n",
       " 276: 1,\n",
       " 277: 1,\n",
       " 278: 0,\n",
       " 279: 0,\n",
       " 280: 0,\n",
       " 281: 0,\n",
       " 282: 0,\n",
       " 283: 1,\n",
       " 284: 1,\n",
       " 285: 0,\n",
       " 286: 1,\n",
       " 287: 0,\n",
       " 288: 0,\n",
       " 289: 0,\n",
       " 290: 1,\n",
       " 291: 1,\n",
       " 292: 0,\n",
       " 293: 1,\n",
       " 294: 0,\n",
       " 295: 0,\n",
       " 296: 0,\n",
       " 297: 0,\n",
       " 298: 1,\n",
       " 299: 1,\n",
       " 300: 1,\n",
       " 301: 0,\n",
       " 302: 1,\n",
       " 303: 1,\n",
       " 304: 1,\n",
       " 305: 1,\n",
       " 306: 1,\n",
       " 307: 0,\n",
       " 308: 0,\n",
       " 309: 0,\n",
       " 310: 0,\n",
       " 311: 0,\n",
       " 312: 0,\n",
       " 313: 0,\n",
       " 314: 1,\n",
       " 315: 1,\n",
       " 316: 1,\n",
       " 317: 0,\n",
       " 318: 0,\n",
       " 319: 0,\n",
       " 320: 0,\n",
       " 321: 1,\n",
       " 322: 1,\n",
       " 323: 1,\n",
       " 324: 0,\n",
       " 325: 0,\n",
       " 326: 0,\n",
       " 327: 1,\n",
       " 328: 1,\n",
       " 329: 0,\n",
       " 330: 0,\n",
       " 331: 0,\n",
       " 332: 0,\n",
       " 333: 0,\n",
       " 334: 0,\n",
       " 335: 0,\n",
       " 336: 0,\n",
       " 337: 0,\n",
       " 338: 0,\n",
       " 339: 0,\n",
       " 340: 0,\n",
       " 341: 0,\n",
       " 342: 0,\n",
       " 343: 0,\n",
       " 344: 0,\n",
       " 345: 0,\n",
       " 346: 0,\n",
       " 347: 0,\n",
       " 348: 0,\n",
       " 349: 0,\n",
       " 350: 0,\n",
       " 351: 0,\n",
       " 352: 0,\n",
       " 353: 0,\n",
       " 354: 1,\n",
       " 355: 0,\n",
       " 356: 1,\n",
       " 357: 1,\n",
       " 358: 0,\n",
       " 359: 0,\n",
       " 360: 0,\n",
       " 361: 0,\n",
       " 362: 0,\n",
       " 363: 0,\n",
       " 364: 0,\n",
       " 365: 0,\n",
       " 366: 0,\n",
       " 367: 0,\n",
       " 368: 0,\n",
       " 369: 1,\n",
       " 370: 1,\n",
       " 371: 1,\n",
       " 372: 0,\n",
       " 373: 0,\n",
       " 374: 0,\n",
       " 375: 0,\n",
       " 376: 1,\n",
       " 377: 1,\n",
       " 378: 1,\n",
       " 379: 1,\n",
       " 380: 1,\n",
       " 381: 1,\n",
       " 382: 0,\n",
       " 383: 0,\n",
       " 384: 0,\n",
       " 385: 0,\n",
       " 386: 0,\n",
       " 387: 0,\n",
       " 388: 0,\n",
       " 389: 0,\n",
       " 390: 0,\n",
       " 391: 1,\n",
       " 392: 1,\n",
       " 393: 0,\n",
       " 394: 0,\n",
       " 395: 0,\n",
       " 396: 0,\n",
       " 397: 0,\n",
       " 398: 0,\n",
       " 399: 0,\n",
       " 400: 0,\n",
       " 401: 0,\n",
       " 402: 0,\n",
       " 403: 0,\n",
       " 404: 0,\n",
       " 405: 0,\n",
       " 406: 0,\n",
       " 407: 0,\n",
       " 408: 0,\n",
       " 409: 0,\n",
       " 410: 0,\n",
       " 411: 0,\n",
       " 412: 0,\n",
       " 413: 0,\n",
       " 414: 0,\n",
       " 415: 0,\n",
       " 416: 0,\n",
       " 417: 0,\n",
       " 418: 0,\n",
       " 419: 0,\n",
       " 420: 0,\n",
       " 421: 0,\n",
       " 422: 0,\n",
       " 423: 0,\n",
       " 424: 1,\n",
       " 425: 1,\n",
       " 426: 0,\n",
       " 427: 1,\n",
       " 428: 0,\n",
       " 429: 1,\n",
       " 430: 0,\n",
       " 431: 0,\n",
       " 432: 0,\n",
       " 433: 0,\n",
       " 434: 0,\n",
       " 435: 0,\n",
       " 436: 0,\n",
       " 437: 0,\n",
       " 438: 0,\n",
       " 439: 1,\n",
       " 440: 1,\n",
       " 441: 0,\n",
       " 442: 0,\n",
       " 443: 1,\n",
       " 444: 1,\n",
       " 445: 0,\n",
       " 446: 0,\n",
       " 447: 0,\n",
       " 448: 0,\n",
       " 449: 0,\n",
       " 450: 1,\n",
       " 451: 1,\n",
       " 452: 1,\n",
       " 453: 1,\n",
       " 454: 1,\n",
       " 455: 0,\n",
       " 456: 0,\n",
       " 457: 1,\n",
       " 458: 1,\n",
       " 459: 1,\n",
       " 460: 0,\n",
       " 461: 0,\n",
       " 462: 1,\n",
       " 463: 0,\n",
       " 464: 0,\n",
       " 465: 0,\n",
       " 466: 0,\n",
       " 467: 0,\n",
       " 468: 0,\n",
       " 469: 0,\n",
       " 470: 0,\n",
       " 471: 0,\n",
       " 472: 0,\n",
       " 473: 0,\n",
       " 474: 0,\n",
       " 475: 0,\n",
       " 476: 0,\n",
       " 477: 0,\n",
       " 478: 0,\n",
       " 479: 0,\n",
       " 480: 0,\n",
       " 481: 0,\n",
       " 482: 0,\n",
       " 483: 0,\n",
       " 484: 0,\n",
       " 485: 0,\n",
       " 486: 0,\n",
       " 487: 0,\n",
       " 488: 0,\n",
       " 489: 0,\n",
       " 490: 0,\n",
       " 491: 0,\n",
       " 492: 0,\n",
       " 493: 0,\n",
       " 494: 0,\n",
       " 495: 0,\n",
       " 496: 0,\n",
       " 497: 0,\n",
       " 498: 0,\n",
       " 499: 0,\n",
       " 500: 0,\n",
       " 501: 0,\n",
       " 502: 0,\n",
       " 503: 0,\n",
       " 504: 0,\n",
       " 505: 0,\n",
       " 506: 0,\n",
       " 507: 0,\n",
       " 508: 0,\n",
       " 509: 0,\n",
       " 510: 0,\n",
       " 511: 0,\n",
       " 512: 0,\n",
       " 513: 0,\n",
       " 514: 0,\n",
       " 515: 0,\n",
       " 516: 0,\n",
       " 517: 0,\n",
       " 518: 0,\n",
       " 519: 0,\n",
       " 520: 0,\n",
       " 521: 0,\n",
       " 522: 0,\n",
       " 523: 0,\n",
       " 524: 0,\n",
       " 525: 0,\n",
       " 526: 0,\n",
       " 527: 0,\n",
       " 528: 0,\n",
       " 529: 0,\n",
       " 530: 0,\n",
       " 531: 0,\n",
       " 532: 0,\n",
       " 533: 1,\n",
       " 534: 1,\n",
       " 535: 1,\n",
       " 536: 0,\n",
       " 537: 1,\n",
       " 538: 0,\n",
       " 539: 0,\n",
       " 540: 0,\n",
       " 541: 0,\n",
       " 542: 0,\n",
       " 543: 0,\n",
       " 544: 0,\n",
       " 545: 0,\n",
       " 546: 1,\n",
       " 547: 1,\n",
       " 548: 0,\n",
       " 549: 0,\n",
       " 550: 1,\n",
       " 551: 1,\n",
       " 552: 0,\n",
       " 553: 0,\n",
       " 554: 0,\n",
       " 555: 1,\n",
       " 556: 1,\n",
       " 557: 1,\n",
       " 558: 0,\n",
       " 559: 0,\n",
       " 560: 0,\n",
       " 561: 0,\n",
       " 562: 0,\n",
       " 563: 0,\n",
       " 564: 0,\n",
       " 565: 1,\n",
       " 566: 1,\n",
       " 567: 1,\n",
       " 568: 1,\n",
       " 569: 1,\n",
       " 570: 1,\n",
       " 571: 0,\n",
       " 572: 0,\n",
       " 573: 0,\n",
       " 574: 0,\n",
       " 575: 0,\n",
       " 576: 0,\n",
       " 577: 0,\n",
       " 578: 0,\n",
       " 579: 0,\n",
       " 580: 0,\n",
       " 581: 1,\n",
       " 582: 1,\n",
       " 583: 0,\n",
       " 584: 0,\n",
       " 585: 1,\n",
       " 586: 1,\n",
       " 587: 0,\n",
       " 588: 0,\n",
       " 589: 0,\n",
       " 590: 0,\n",
       " 591: 1,\n",
       " 592: 1,\n",
       " 593: 1,\n",
       " 594: 1,\n",
       " 595: 0,\n",
       " 596: 0,\n",
       " 597: 0,\n",
       " 598: 0,\n",
       " 599: 0,\n",
       " 600: 1,\n",
       " 601: 1,\n",
       " 602: 0,\n",
       " 603: 0,\n",
       " 604: 1,\n",
       " 605: 1,\n",
       " 606: 1,\n",
       " 607: 1,\n",
       " 608: 1,\n",
       " 609: 0,\n",
       " 610: 0,\n",
       " 611: 0,\n",
       " 612: 0,\n",
       " 613: 0,\n",
       " 614: 0,\n",
       " 615: 0,\n",
       " 616: 0,\n",
       " 617: 1,\n",
       " 618: 0,\n",
       " 619: 1,\n",
       " 620: 1,\n",
       " 621: 0,\n",
       " 622: 0,\n",
       " 623: 0,\n",
       " 624: 0,\n",
       " 625: 1,\n",
       " 626: 1,\n",
       " 627: 1,\n",
       " 628: 0,\n",
       " 629: 0,\n",
       " 630: 0,\n",
       " 631: 0,\n",
       " 632: 0,\n",
       " 633: 1,\n",
       " 634: 1,\n",
       " 635: 1,\n",
       " 636: 0,\n",
       " 637: 0,\n",
       " 638: 1,\n",
       " 639: 1,\n",
       " 640: 1,\n",
       " 641: 1,\n",
       " 642: 1,\n",
       " 643: 1,\n",
       " 644: 0,\n",
       " 645: 0,\n",
       " 646: 0,\n",
       " 647: 0,\n",
       " 648: 0,\n",
       " 649: 0,\n",
       " 650: 0,\n",
       " 651: 0,\n",
       " 652: 0,\n",
       " 653: 0,\n",
       " 654: 1,\n",
       " 655: 1,\n",
       " 656: 0,\n",
       " 657: 0,\n",
       " 658: 1,\n",
       " 659: 1,\n",
       " 660: 0,\n",
       " 661: 0,\n",
       " 662: 0,\n",
       " 663: 0,\n",
       " 664: 1,\n",
       " 665: 1,\n",
       " 666: 1,\n",
       " 667: 1,\n",
       " 668: 0,\n",
       " 669: 0,\n",
       " 670: 0,\n",
       " 671: 0,\n",
       " 672: 0,\n",
       " 673: 0,\n",
       " 674: 1,\n",
       " 675: 1,\n",
       " 676: 1,\n",
       " 677: 1,\n",
       " 678: 1,\n",
       " 679: 1,\n",
       " 680: 0,\n",
       " 681: 0,\n",
       " 682: 1,\n",
       " 683: 1,\n",
       " 684: 1,\n",
       " 685: 1,\n",
       " 686: 1,\n",
       " 687: 0,\n",
       " 688: 0,\n",
       " 689: 0,\n",
       " 690: 0,\n",
       " 691: 0,\n",
       " 692: 0,\n",
       " 693: 0,\n",
       " 694: 0,\n",
       " 695: 1,\n",
       " 696: 0,\n",
       " 697: 1,\n",
       " 698: 1,\n",
       " 699: 0,\n",
       " 700: 0,\n",
       " 701: 0,\n",
       " 702: 0,\n",
       " 703: 1,\n",
       " 704: 1,\n",
       " 705: 1,\n",
       " 706: 0,\n",
       " 707: 0,\n",
       " 708: 0,\n",
       " 709: 0,\n",
       " 710: 0,\n",
       " 711: 1,\n",
       " 712: 1,\n",
       " 713: 1,\n",
       " 714: 1,\n",
       " 715: 1,\n",
       " 716: 0,\n",
       " 717: 0,\n",
       " 718: 1,\n",
       " 719: 1,\n",
       " 720: 1,\n",
       " 721: 1,\n",
       " 722: 1,\n",
       " 723: 1,\n",
       " 724: 0,\n",
       " 725: 0,\n",
       " 726: 0,\n",
       " 727: 0,\n",
       " 728: 0,\n",
       " 729: 0,\n",
       " 730: 0,\n",
       " 731: 0,\n",
       " 732: 0,\n",
       " 733: 0,\n",
       " 734: 1,\n",
       " 735: 1,\n",
       " 736: 0,\n",
       " 737: 0,\n",
       " 738: 1,\n",
       " 739: 1,\n",
       " 740: 0,\n",
       " 741: 0,\n",
       " 742: 0,\n",
       " 743: 0,\n",
       " 744: 1,\n",
       " 745: 1,\n",
       " 746: 1,\n",
       " 747: 1,\n",
       " 748: 0,\n",
       " 749: 0,\n",
       " 750: 0,\n",
       " 751: 0,\n",
       " 752: 0,\n",
       " 753: 1,\n",
       " 754: 1,\n",
       " 755: 1,\n",
       " 756: 1,\n",
       " 757: 1,\n",
       " 758: 1,\n",
       " 759: 0,\n",
       " 760: 0,\n",
       " 761: 1,\n",
       " 762: 1,\n",
       " 763: 1,\n",
       " 764: 0,\n",
       " 765: 1,\n",
       " 766: 0,\n",
       " 767: 0,\n",
       " 768: 0,\n",
       " 769: 0,\n",
       " 770: 0,\n",
       " 771: 0,\n",
       " 772: 0,\n",
       " 773: 0,\n",
       " 774: 1,\n",
       " 775: 1,\n",
       " 776: 0,\n",
       " 777: 0,\n",
       " 778: 1,\n",
       " 779: 1,\n",
       " 780: 0,\n",
       " 781: 0,\n",
       " 782: 0,\n",
       " 783: 1,\n",
       " 784: 1,\n",
       " 785: 1,\n",
       " 786: 0,\n",
       " 787: 0,\n",
       " 788: 0,\n",
       " 789: 0,\n",
       " 790: 0,\n",
       " 791: 1,\n",
       " 792: 1,\n",
       " 793: 1,\n",
       " 794: 1,\n",
       " 795: 1,\n",
       " 796: 0,\n",
       " 797: 0,\n",
       " 798: 0,\n",
       " 799: 0,\n",
       " 800: 0,\n",
       " 801: 0,\n",
       " 802: 0,\n",
       " 803: 0,\n",
       " 804: 0,\n",
       " 805: 0,\n",
       " 806: 0,\n",
       " 807: 0,\n",
       " 808: 0,\n",
       " 809: 0,\n",
       " 810: 0,\n",
       " 811: 0,\n",
       " 812: 0,\n",
       " 813: 0,\n",
       " 814: 0,\n",
       " 815: 0,\n",
       " 816: 0,\n",
       " 817: 0,\n",
       " 818: 0,\n",
       " 819: 0,\n",
       " 820: 0,\n",
       " 821: 0,\n",
       " 822: 0,\n",
       " 823: 0,\n",
       " 824: 0,\n",
       " 825: 0,\n",
       " 826: 0,\n",
       " 827: 0,\n",
       " 828: 0,\n",
       " 829: 0,\n",
       " 830: 0,\n",
       " 831: 0,\n",
       " 832: 0,\n",
       " 833: 0,\n",
       " 834: 0,\n",
       " 835: 0,\n",
       " 836: 0,\n",
       " 837: 0,\n",
       " 838: 0,\n",
       " 839: 0,\n",
       " 840: 0,\n",
       " 841: 0,\n",
       " 842: 0,\n",
       " 843: 0,\n",
       " 844: 0,\n",
       " 845: 0,\n",
       " 846: 0,\n",
       " 847: 0,\n",
       " 848: 0,\n",
       " 849: 0,\n",
       " 850: 0,\n",
       " 851: 0,\n",
       " 852: 0,\n",
       " 853: 0,\n",
       " 854: 0,\n",
       " 855: 0,\n",
       " 856: 0,\n",
       " 857: 0,\n",
       " 858: 0,\n",
       " 859: 0,\n",
       " 860: 0,\n",
       " 861: 0,\n",
       " 862: 0,\n",
       " 863: 0,\n",
       " 864: 0,\n",
       " 865: 0,\n",
       " 866: 0,\n",
       " 867: 0,\n",
       " 868: 0,\n",
       " 869: 0,\n",
       " 870: 0,\n",
       " 871: 0,\n",
       " 872: 0,\n",
       " 873: 0,\n",
       " 874: 0,\n",
       " 875: 0,\n",
       " 876: 0,\n",
       " 877: 0,\n",
       " 878: 0,\n",
       " 879: 0,\n",
       " 880: 0,\n",
       " 881: 0,\n",
       " 882: 0,\n",
       " 883: 0,\n",
       " 884: 0,\n",
       " 885: 0,\n",
       " 886: 0,\n",
       " 887: 0,\n",
       " 888: 0,\n",
       " 889: 0,\n",
       " 890: 0,\n",
       " 891: 1,\n",
       " 892: 1,\n",
       " 893: 1,\n",
       " 894: 1,\n",
       " 895: 1,\n",
       " 896: 0,\n",
       " 897: 0,\n",
       " 898: 1,\n",
       " 899: 1,\n",
       " 900: 1,\n",
       " 901: 0,\n",
       " 902: 0,\n",
       " 903: 1,\n",
       " 904: 1,\n",
       " 905: 1,\n",
       " 906: 0,\n",
       " 907: 0,\n",
       " 908: 0,\n",
       " 909: 0,\n",
       " 910: 1,\n",
       " 911: 1,\n",
       " 912: 1,\n",
       " 913: 1,\n",
       " 914: 1,\n",
       " 915: 0,\n",
       " 916: 0,\n",
       " 917: 1,\n",
       " 918: 1,\n",
       " 919: 0,\n",
       " 920: 1,\n",
       " 921: 0,\n",
       " 922: 1,\n",
       " 923: 0,\n",
       " 924: 0,\n",
       " 925: 0,\n",
       " 926: 0,\n",
       " 927: 0,\n",
       " 928: 0,\n",
       " 929: 0,\n",
       " 930: 0,\n",
       " 931: 0,\n",
       " 932: 1,\n",
       " 933: 1,\n",
       " 934: 0,\n",
       " 935: 0,\n",
       " 936: 1,\n",
       " 937: 1,\n",
       " 938: 0,\n",
       " 939: 0,\n",
       " 940: 0,\n",
       " 941: 1,\n",
       " 942: 1,\n",
       " 943: 1,\n",
       " 944: 0,\n",
       " 945: 0,\n",
       " 946: 0,\n",
       " 947: 0,\n",
       " 948: 0,\n",
       " 949: 0,\n",
       " 950: 1,\n",
       " 951: 1,\n",
       " 952: 1,\n",
       " 953: 1,\n",
       " 954: 0,\n",
       " 955: 1,\n",
       " 956: 0,\n",
       " 957: 0,\n",
       " 958: 0,\n",
       " 959: 0,\n",
       " 960: 0,\n",
       " 961: 0,\n",
       " 962: 0,\n",
       " 963: 0,\n",
       " 964: 0,\n",
       " 965: 0,\n",
       " 966: 0,\n",
       " 967: 0,\n",
       " 968: 0,\n",
       " 969: 0,\n",
       " 970: 0,\n",
       " 971: 0,\n",
       " 972: 0,\n",
       " 973: 0,\n",
       " 974: 0,\n",
       " 975: 0,\n",
       " 976: 0,\n",
       " 977: 0,\n",
       " 978: 0,\n",
       " 979: 0,\n",
       " 980: 0,\n",
       " 981: 0,\n",
       " 982: 0,\n",
       " 983: 0,\n",
       " 984: 0,\n",
       " 985: 0,\n",
       " 986: 0,\n",
       " 987: 0,\n",
       " 988: 0,\n",
       " 989: 0,\n",
       " 990: 0,\n",
       " 991: 0,\n",
       " 992: 0,\n",
       " 993: 0,\n",
       " 994: 0,\n",
       " 995: 0,\n",
       " 996: 0,\n",
       " 997: 0,\n",
       " 998: 0,\n",
       " 999: 0,\n",
       " ...}"
      ]
     },
     "execution_count": 20,
     "metadata": {},
     "output_type": "execute_result"
    }
   ],
   "source": [
    "f_mapper_global[-1]"
   ]
  },
  {
   "cell_type": "code",
   "execution_count": 21,
   "id": "293add7e-6576-4eff-9a56-e6ebaaadf741",
   "metadata": {},
   "outputs": [],
   "source": [
    "num_neurons = max([max(u, v) for u, v in edges])+1"
   ]
  },
  {
   "cell_type": "code",
   "execution_count": 22,
   "id": "f4bde3a1-0aa0-4e26-abe1-82c5f42fefd4",
   "metadata": {},
   "outputs": [],
   "source": [
    "adj_list = [[] for i in range(num_neurons)]"
   ]
  },
  {
   "cell_type": "code",
   "execution_count": 23,
   "id": "8edd71b1-5e0e-40ce-a132-ddbc5c57729e",
   "metadata": {},
   "outputs": [
    {
     "data": {
      "text/plain": [
       "1282"
      ]
     },
     "execution_count": 23,
     "metadata": {},
     "output_type": "execute_result"
    }
   ],
   "source": [
    "num_neurons"
   ]
  },
  {
   "cell_type": "code",
   "execution_count": 24,
   "id": "c24699d0-3d97-48b4-8145-b353985942fb",
   "metadata": {},
   "outputs": [
    {
     "data": {
      "text/plain": [
       "1282"
      ]
     },
     "execution_count": 24,
     "metadata": {},
     "output_type": "execute_result"
    }
   ],
   "source": [
    "len(adj_list)"
   ]
  },
  {
   "cell_type": "code",
   "execution_count": 25,
   "id": "7e9e55c9-eba8-495c-a168-e2a7d52d08b4",
   "metadata": {},
   "outputs": [],
   "source": [
    "for u, v in edges:\n",
    "    adj_list[u].append(v)"
   ]
  },
  {
   "cell_type": "code",
   "execution_count": 26,
   "id": "1b1cc8ee-4f59-48a1-8529-def30f7a57e9",
   "metadata": {},
   "outputs": [],
   "source": [
    "n = Network(num_neurons, adj_list)"
   ]
  },
  {
   "cell_type": "code",
   "execution_count": 27,
   "id": "f6d655ca-ab7c-4b22-9dcd-21996a387107",
   "metadata": {},
   "outputs": [],
   "source": [
    "orig_output_neurons = n.output_neurons"
   ]
  },
  {
   "cell_type": "code",
   "execution_count": 28,
   "id": "8d441c15-178e-4b94-9ef9-2673f92e2af3",
   "metadata": {},
   "outputs": [],
   "source": [
    "adj_list.append([])\n",
    "adj_list.append([])"
   ]
  },
  {
   "cell_type": "code",
   "execution_count": 29,
   "id": "d2438b2e-c7ae-4031-8c38-08b73c513d38",
   "metadata": {},
   "outputs": [],
   "source": [
    "num_neurons = len(adj_list)"
   ]
  },
  {
   "cell_type": "code",
   "execution_count": 30,
   "id": "30b4eb2b-dd05-4e78-8584-5193a08b933a",
   "metadata": {},
   "outputs": [
    {
     "data": {
      "text/plain": [
       "1284"
      ]
     },
     "execution_count": 30,
     "metadata": {},
     "output_type": "execute_result"
    }
   ],
   "source": [
    "num_neurons"
   ]
  },
  {
   "cell_type": "code",
   "execution_count": 31,
   "id": "db39b7ed-017e-4498-be34-7b89d33f7229",
   "metadata": {},
   "outputs": [],
   "source": [
    "for i in range(num_neurons):\n",
    "    if i in orig_output_neurons:\n",
    "        adj_list[i].append(num_neurons-2)\n",
    "        adj_list[i].append(num_neurons-1)"
   ]
  },
  {
   "cell_type": "code",
   "execution_count": 32,
   "id": "4e9d25a3-7156-4077-b9cf-ee646462c80f",
   "metadata": {},
   "outputs": [
    {
     "data": {
      "text/plain": [
       "[1282, 1283]"
      ]
     },
     "execution_count": 32,
     "metadata": {},
     "output_type": "execute_result"
    }
   ],
   "source": [
    "adj_list[213]"
   ]
  },
  {
   "cell_type": "code",
   "execution_count": 33,
   "id": "9f6a7119-37cb-4708-851b-cac555bed0a1",
   "metadata": {},
   "outputs": [],
   "source": [
    "n = Network(num_neurons, adj_list)"
   ]
  },
  {
   "cell_type": "code",
   "execution_count": 34,
   "id": "44fe6335-6927-4dde-9cf5-22214a5bc6c2",
   "metadata": {},
   "outputs": [],
   "source": [
    "n.set_neuron_activation(1282, lambda x : x, lambda x : 1)"
   ]
  },
  {
   "cell_type": "code",
   "execution_count": 35,
   "id": "a56c9167-9771-44e3-b045-6e44aed0d0b1",
   "metadata": {},
   "outputs": [],
   "source": [
    "n.set_neuron_activation(1283, lambda x : x, lambda x : 1)"
   ]
  },
  {
   "cell_type": "code",
   "execution_count": 54,
   "id": "66876e77-4168-4a1c-807f-65ac69c0a7ad",
   "metadata": {},
   "outputs": [],
   "source": [
    "# https://math.stackexchange.com/questions/945871/derivative-of-softmax-loss-function\n",
    "import torch\n",
    "for f in f_mapper_global:\n",
    "    f[1282]=1\n",
    "    f[1283]=1\n",
    "    n.reset()\n",
    "    o = n.forward(f)\n",
    "    if o[0]!=torch.tensor([0.]):\n",
    "        print(o)\n",
    "        break"
   ]
  },
  {
   "cell_type": "code",
   "execution_count": 60,
   "id": "51a51f0d-b1be-4142-8e8a-5b731e051325",
   "metadata": {},
   "outputs": [],
   "source": [
    "m = torch.nn.Sequential(torch.nn.Linear(10, 100))"
   ]
  },
  {
   "cell_type": "code",
   "execution_count": 72,
   "id": "dde0ccb1-4e64-4709-bd07-99e878aa016a",
   "metadata": {},
   "outputs": [
    {
     "data": {
      "text/plain": [
       "Parameter containing:\n",
       "tensor([ 0.2583, -0.2650, -0.1380,  0.2627, -0.0312,  0.1305, -0.2825,  0.2821,\n",
       "        -0.1505, -0.1986,  0.1177, -0.0656, -0.2120,  0.2727,  0.2055,  0.2070,\n",
       "         0.0710,  0.1732,  0.0441,  0.2178,  0.0877,  0.0890, -0.2641,  0.1323,\n",
       "         0.2862,  0.1050, -0.0550,  0.0561,  0.1339,  0.1444, -0.1224,  0.0247,\n",
       "        -0.2285, -0.1712,  0.2991,  0.2760,  0.3068, -0.2236,  0.1844,  0.2605,\n",
       "         0.1401, -0.1417,  0.0496, -0.2446,  0.2426,  0.2560,  0.0176, -0.0214,\n",
       "         0.0734, -0.2629, -0.1454, -0.0164, -0.2263, -0.1252,  0.2839,  0.1112,\n",
       "        -0.1526, -0.2420,  0.1288, -0.2328, -0.1631, -0.2980, -0.2495,  0.0282,\n",
       "         0.2589,  0.1794, -0.2060,  0.0578, -0.1831, -0.0485,  0.1794,  0.1493,\n",
       "        -0.2882, -0.2283,  0.1230, -0.0346,  0.0167, -0.0178,  0.0618,  0.3064,\n",
       "         0.2408, -0.1345,  0.1730,  0.0623,  0.2448,  0.2489,  0.2486, -0.2769,\n",
       "         0.0622, -0.0840, -0.0709,  0.1767, -0.0693,  0.1541,  0.2729,  0.1055,\n",
       "         0.1617, -0.2165, -0.3010, -0.0245], requires_grad=True)"
      ]
     },
     "execution_count": 72,
     "metadata": {},
     "output_type": "execute_result"
    }
   ],
   "source": [
    "list(m.parameters())[1]"
   ]
  },
  {
   "cell_type": "code",
   "execution_count": null,
   "id": "61b821d8-007a-4a6d-89d6-b598c94fa8ea",
   "metadata": {},
   "outputs": [],
   "source": []
  },
  {
   "cell_type": "code",
   "execution_count": null,
   "id": "b839dce8-9d60-43a8-b0e6-867fdf699546",
   "metadata": {},
   "outputs": [],
   "source": []
  },
  {
   "cell_type": "code",
   "execution_count": 48,
   "id": "11719753-58ed-4021-abff-9596bcd196f1",
   "metadata": {},
   "outputs": [],
   "source": [
    "import torch"
   ]
  },
  {
   "cell_type": "code",
   "execution_count": 74,
   "id": "ac0148b6-e784-4bf4-95f1-d029f2f4cf30",
   "metadata": {},
   "outputs": [],
   "source": [
    "n = Network(4, [[1], [2], [3], []])\n",
    "n.weights = {\n",
    "        (0, 1): torch.tensor(1., requires_grad=True),\n",
    "        (1, 2): torch.tensor(2., requires_grad=True),\n",
    "        (2, 3): torch.tensor(3., requires_grad=True),\n",
    "}"
   ]
  },
  {
   "cell_type": "code",
   "execution_count": 75,
   "id": "e0480f23-95cd-402b-9bbe-193ef9fd8be9",
   "metadata": {},
   "outputs": [
    {
     "data": {
      "text/plain": [
       "(tensor(3., requires_grad=True), None)"
      ]
     },
     "execution_count": 75,
     "metadata": {},
     "output_type": "execute_result"
    }
   ],
   "source": [
    "n.weights[(2, 3)], n.weights[(2, 3)].grad"
   ]
  },
  {
   "cell_type": "code",
   "execution_count": 76,
   "id": "bfa1b77b-8bc5-462d-a3aa-3a2b704fec70",
   "metadata": {},
   "outputs": [],
   "source": [
    "n_o = n.forward({0:10, 1:1, 2:1, 3:1})"
   ]
  },
  {
   "cell_type": "code",
   "execution_count": 77,
   "id": "ccbc0e51-4097-4986-a075-70565a8086a2",
   "metadata": {},
   "outputs": [
    {
     "data": {
      "text/plain": [
       "tensor([60.], grad_fn=<StackBackward>)"
      ]
     },
     "execution_count": 77,
     "metadata": {},
     "output_type": "execute_result"
    }
   ],
   "source": [
    "n_o"
   ]
  },
  {
   "cell_type": "code",
   "execution_count": 78,
   "id": "21f0e370-fdb7-49e6-8f58-ee2fe6a19d38",
   "metadata": {},
   "outputs": [],
   "source": [
    "loss = 100 - n_o"
   ]
  },
  {
   "cell_type": "code",
   "execution_count": 79,
   "id": "bacb01cb-a4c7-450a-866c-0c5e73bef19a",
   "metadata": {},
   "outputs": [
    {
     "data": {
      "text/plain": [
       "tensor([40.], grad_fn=<RsubBackward1>)"
      ]
     },
     "execution_count": 79,
     "metadata": {},
     "output_type": "execute_result"
    }
   ],
   "source": [
    "loss"
   ]
  },
  {
   "cell_type": "code",
   "execution_count": 80,
   "id": "04d9e224-913a-469d-b630-e7475fc75b45",
   "metadata": {},
   "outputs": [],
   "source": [
    "loss.backward()"
   ]
  },
  {
   "cell_type": "code",
   "execution_count": 88,
   "id": "b9fe829a-7899-40aa-8078-d799ef0fbbc5",
   "metadata": {},
   "outputs": [
    {
     "data": {
      "text/plain": [
       "tensor(-20.)"
      ]
     },
     "execution_count": 88,
     "metadata": {},
     "output_type": "execute_result"
    }
   ],
   "source": [
    "n.weights[(2, 3)].grad"
   ]
  },
  {
   "cell_type": "code",
   "execution_count": 89,
   "id": "97838380-2b2e-4bbb-b60e-0c1d0fb99385",
   "metadata": {},
   "outputs": [],
   "source": [
    "optimizer = torch.optim.Adam((v for v in n.weights.values()), lr=0.1)"
   ]
  },
  {
   "cell_type": "code",
   "execution_count": 90,
   "id": "eee18b95-2f6e-43a7-98eb-6b46010d1bd6",
   "metadata": {},
   "outputs": [],
   "source": [
    "optimizer.zero_grad()"
   ]
  },
  {
   "cell_type": "code",
   "execution_count": 91,
   "id": "526fc176-4158-4308-8007-6486cea235fd",
   "metadata": {},
   "outputs": [
    {
     "data": {
      "text/plain": [
       "tensor(0.)"
      ]
     },
     "execution_count": 91,
     "metadata": {},
     "output_type": "execute_result"
    }
   ],
   "source": [
    "n.weights[(2, 3)].grad"
   ]
  },
  {
   "cell_type": "code",
   "execution_count": 81,
   "id": "15b39282-6239-48df-95ef-0ab71b1c6efc",
   "metadata": {},
   "outputs": [
    {
     "data": {
      "text/plain": [
       "(tensor(3., requires_grad=True), tensor(-20.))"
      ]
     },
     "execution_count": 81,
     "metadata": {},
     "output_type": "execute_result"
    }
   ],
   "source": [
    "n.weights[(2, 3)], n.weights[(2, 3)].grad"
   ]
  },
  {
   "cell_type": "code",
   "execution_count": 95,
   "id": "43b26b9d-835d-4892-89b0-3283d8975597",
   "metadata": {},
   "outputs": [
    {
     "ename": "RuntimeError",
     "evalue": "element 0 of tensors does not require grad and does not have a grad_fn",
     "output_type": "error",
     "traceback": [
      "\u001b[0;31m---------------------------------------------------------------------------\u001b[0m",
      "\u001b[0;31mRuntimeError\u001b[0m                              Traceback (most recent call last)",
      "\u001b[0;32m<ipython-input-95-52a0569421b1>\u001b[0m in \u001b[0;36m<module>\u001b[0;34m\u001b[0m\n\u001b[0;32m----> 1\u001b[0;31m \u001b[0mloss\u001b[0m\u001b[0;34m.\u001b[0m\u001b[0mbackward\u001b[0m\u001b[0;34m(\u001b[0m\u001b[0;34m)\u001b[0m\u001b[0;34m\u001b[0m\u001b[0;34m\u001b[0m\u001b[0m\n\u001b[0m",
      "\u001b[0;32m~/.local/lib/python3.6/site-packages/torch/tensor.py\u001b[0m in \u001b[0;36mbackward\u001b[0;34m(self, gradient, retain_graph, create_graph)\u001b[0m\n\u001b[1;32m    183\u001b[0m                 \u001b[0mproducts\u001b[0m\u001b[0;34m.\u001b[0m \u001b[0mDefaults\u001b[0m \u001b[0mto\u001b[0m\u001b[0;31m \u001b[0m\u001b[0;31m`\u001b[0m\u001b[0;31m`\u001b[0m\u001b[0;32mFalse\u001b[0m\u001b[0;31m`\u001b[0m\u001b[0;31m`\u001b[0m\u001b[0;34m.\u001b[0m\u001b[0;34m\u001b[0m\u001b[0;34m\u001b[0m\u001b[0m\n\u001b[1;32m    184\u001b[0m         \"\"\"\n\u001b[0;32m--> 185\u001b[0;31m         \u001b[0mtorch\u001b[0m\u001b[0;34m.\u001b[0m\u001b[0mautograd\u001b[0m\u001b[0;34m.\u001b[0m\u001b[0mbackward\u001b[0m\u001b[0;34m(\u001b[0m\u001b[0mself\u001b[0m\u001b[0;34m,\u001b[0m \u001b[0mgradient\u001b[0m\u001b[0;34m,\u001b[0m \u001b[0mretain_graph\u001b[0m\u001b[0;34m,\u001b[0m \u001b[0mcreate_graph\u001b[0m\u001b[0;34m)\u001b[0m\u001b[0;34m\u001b[0m\u001b[0;34m\u001b[0m\u001b[0m\n\u001b[0m\u001b[1;32m    186\u001b[0m \u001b[0;34m\u001b[0m\u001b[0m\n\u001b[1;32m    187\u001b[0m     \u001b[0;32mdef\u001b[0m \u001b[0mregister_hook\u001b[0m\u001b[0;34m(\u001b[0m\u001b[0mself\u001b[0m\u001b[0;34m,\u001b[0m \u001b[0mhook\u001b[0m\u001b[0;34m)\u001b[0m\u001b[0;34m:\u001b[0m\u001b[0;34m\u001b[0m\u001b[0;34m\u001b[0m\u001b[0m\n",
      "\u001b[0;32m~/.local/lib/python3.6/site-packages/torch/autograd/__init__.py\u001b[0m in \u001b[0;36mbackward\u001b[0;34m(tensors, grad_tensors, retain_graph, create_graph, grad_variables)\u001b[0m\n\u001b[1;32m    125\u001b[0m     Variable._execution_engine.run_backward(\n\u001b[1;32m    126\u001b[0m         \u001b[0mtensors\u001b[0m\u001b[0;34m,\u001b[0m \u001b[0mgrad_tensors\u001b[0m\u001b[0;34m,\u001b[0m \u001b[0mretain_graph\u001b[0m\u001b[0;34m,\u001b[0m \u001b[0mcreate_graph\u001b[0m\u001b[0;34m,\u001b[0m\u001b[0;34m\u001b[0m\u001b[0;34m\u001b[0m\u001b[0m\n\u001b[0;32m--> 127\u001b[0;31m         allow_unreachable=True)  # allow_unreachable flag\n\u001b[0m\u001b[1;32m    128\u001b[0m \u001b[0;34m\u001b[0m\u001b[0m\n\u001b[1;32m    129\u001b[0m \u001b[0;34m\u001b[0m\u001b[0m\n",
      "\u001b[0;31mRuntimeError\u001b[0m: element 0 of tensors does not require grad and does not have a grad_fn"
     ]
    }
   ],
   "source": [
    "loss.backward()"
   ]
  },
  {
   "cell_type": "code",
   "execution_count": 92,
   "id": "d32a39a0-d589-46a0-b238-3712622c44c4",
   "metadata": {},
   "outputs": [
    {
     "data": {
      "text/plain": [
       "tensor(30.)"
      ]
     },
     "execution_count": 92,
     "metadata": {},
     "output_type": "execute_result"
    }
   ],
   "source": [
    "a.grad"
   ]
  },
  {
   "cell_type": "code",
   "execution_count": 87,
   "id": "746a826e-f076-4864-b978-269da4dd046a",
   "metadata": {},
   "outputs": [
    {
     "ename": "RuntimeError",
     "evalue": "grad can be implicitly created only for scalar outputs",
     "output_type": "error",
     "traceback": [
      "\u001b[0;31m---------------------------------------------------------------------------\u001b[0m",
      "\u001b[0;31mRuntimeError\u001b[0m                              Traceback (most recent call last)",
      "\u001b[0;32m<ipython-input-87-359311aea610>\u001b[0m in \u001b[0;36m<module>\u001b[0;34m\u001b[0m\n\u001b[0;32m----> 1\u001b[0;31m \u001b[0mtorch\u001b[0m\u001b[0;34m.\u001b[0m\u001b[0mstack\u001b[0m\u001b[0;34m(\u001b[0m\u001b[0;34m[\u001b[0m\u001b[0mo1\u001b[0m\u001b[0;34m,\u001b[0m \u001b[0mo2\u001b[0m\u001b[0;34m]\u001b[0m\u001b[0;34m)\u001b[0m\u001b[0;34m.\u001b[0m\u001b[0mbackward\u001b[0m\u001b[0;34m(\u001b[0m\u001b[0;34m)\u001b[0m\u001b[0;34m\u001b[0m\u001b[0;34m\u001b[0m\u001b[0m\n\u001b[0m",
      "\u001b[0;32m~/.local/lib/python3.6/site-packages/torch/tensor.py\u001b[0m in \u001b[0;36mbackward\u001b[0;34m(self, gradient, retain_graph, create_graph)\u001b[0m\n\u001b[1;32m    183\u001b[0m                 \u001b[0mproducts\u001b[0m\u001b[0;34m.\u001b[0m \u001b[0mDefaults\u001b[0m \u001b[0mto\u001b[0m\u001b[0;31m \u001b[0m\u001b[0;31m`\u001b[0m\u001b[0;31m`\u001b[0m\u001b[0;32mFalse\u001b[0m\u001b[0;31m`\u001b[0m\u001b[0;31m`\u001b[0m\u001b[0;34m.\u001b[0m\u001b[0;34m\u001b[0m\u001b[0;34m\u001b[0m\u001b[0m\n\u001b[1;32m    184\u001b[0m         \"\"\"\n\u001b[0;32m--> 185\u001b[0;31m         \u001b[0mtorch\u001b[0m\u001b[0;34m.\u001b[0m\u001b[0mautograd\u001b[0m\u001b[0;34m.\u001b[0m\u001b[0mbackward\u001b[0m\u001b[0;34m(\u001b[0m\u001b[0mself\u001b[0m\u001b[0;34m,\u001b[0m \u001b[0mgradient\u001b[0m\u001b[0;34m,\u001b[0m \u001b[0mretain_graph\u001b[0m\u001b[0;34m,\u001b[0m \u001b[0mcreate_graph\u001b[0m\u001b[0;34m)\u001b[0m\u001b[0;34m\u001b[0m\u001b[0;34m\u001b[0m\u001b[0m\n\u001b[0m\u001b[1;32m    186\u001b[0m \u001b[0;34m\u001b[0m\u001b[0m\n\u001b[1;32m    187\u001b[0m     \u001b[0;32mdef\u001b[0m \u001b[0mregister_hook\u001b[0m\u001b[0;34m(\u001b[0m\u001b[0mself\u001b[0m\u001b[0;34m,\u001b[0m \u001b[0mhook\u001b[0m\u001b[0;34m)\u001b[0m\u001b[0;34m:\u001b[0m\u001b[0;34m\u001b[0m\u001b[0;34m\u001b[0m\u001b[0m\n",
      "\u001b[0;32m~/.local/lib/python3.6/site-packages/torch/autograd/__init__.py\u001b[0m in \u001b[0;36mbackward\u001b[0;34m(tensors, grad_tensors, retain_graph, create_graph, grad_variables)\u001b[0m\n\u001b[1;32m    119\u001b[0m         \u001b[0mgrad_tensors\u001b[0m \u001b[0;34m=\u001b[0m \u001b[0mlist\u001b[0m\u001b[0;34m(\u001b[0m\u001b[0mgrad_tensors\u001b[0m\u001b[0;34m)\u001b[0m\u001b[0;34m\u001b[0m\u001b[0;34m\u001b[0m\u001b[0m\n\u001b[1;32m    120\u001b[0m \u001b[0;34m\u001b[0m\u001b[0m\n\u001b[0;32m--> 121\u001b[0;31m     \u001b[0mgrad_tensors\u001b[0m \u001b[0;34m=\u001b[0m \u001b[0m_make_grads\u001b[0m\u001b[0;34m(\u001b[0m\u001b[0mtensors\u001b[0m\u001b[0;34m,\u001b[0m \u001b[0mgrad_tensors\u001b[0m\u001b[0;34m)\u001b[0m\u001b[0;34m\u001b[0m\u001b[0;34m\u001b[0m\u001b[0m\n\u001b[0m\u001b[1;32m    122\u001b[0m     \u001b[0;32mif\u001b[0m \u001b[0mretain_graph\u001b[0m \u001b[0;32mis\u001b[0m \u001b[0;32mNone\u001b[0m\u001b[0;34m:\u001b[0m\u001b[0;34m\u001b[0m\u001b[0;34m\u001b[0m\u001b[0m\n\u001b[1;32m    123\u001b[0m         \u001b[0mretain_graph\u001b[0m \u001b[0;34m=\u001b[0m \u001b[0mcreate_graph\u001b[0m\u001b[0;34m\u001b[0m\u001b[0;34m\u001b[0m\u001b[0m\n",
      "\u001b[0;32m~/.local/lib/python3.6/site-packages/torch/autograd/__init__.py\u001b[0m in \u001b[0;36m_make_grads\u001b[0;34m(outputs, grads)\u001b[0m\n\u001b[1;32m     45\u001b[0m             \u001b[0;32mif\u001b[0m \u001b[0mout\u001b[0m\u001b[0;34m.\u001b[0m\u001b[0mrequires_grad\u001b[0m\u001b[0;34m:\u001b[0m\u001b[0;34m\u001b[0m\u001b[0;34m\u001b[0m\u001b[0m\n\u001b[1;32m     46\u001b[0m                 \u001b[0;32mif\u001b[0m \u001b[0mout\u001b[0m\u001b[0;34m.\u001b[0m\u001b[0mnumel\u001b[0m\u001b[0;34m(\u001b[0m\u001b[0;34m)\u001b[0m \u001b[0;34m!=\u001b[0m \u001b[0;36m1\u001b[0m\u001b[0;34m:\u001b[0m\u001b[0;34m\u001b[0m\u001b[0;34m\u001b[0m\u001b[0m\n\u001b[0;32m---> 47\u001b[0;31m                     \u001b[0;32mraise\u001b[0m \u001b[0mRuntimeError\u001b[0m\u001b[0;34m(\u001b[0m\u001b[0;34m\"grad can be implicitly created only for scalar outputs\"\u001b[0m\u001b[0;34m)\u001b[0m\u001b[0;34m\u001b[0m\u001b[0;34m\u001b[0m\u001b[0m\n\u001b[0m\u001b[1;32m     48\u001b[0m                 \u001b[0mnew_grads\u001b[0m\u001b[0;34m.\u001b[0m\u001b[0mappend\u001b[0m\u001b[0;34m(\u001b[0m\u001b[0mtorch\u001b[0m\u001b[0;34m.\u001b[0m\u001b[0mones_like\u001b[0m\u001b[0;34m(\u001b[0m\u001b[0mout\u001b[0m\u001b[0;34m,\u001b[0m \u001b[0mmemory_format\u001b[0m\u001b[0;34m=\u001b[0m\u001b[0mtorch\u001b[0m\u001b[0;34m.\u001b[0m\u001b[0mpreserve_format\u001b[0m\u001b[0;34m)\u001b[0m\u001b[0;34m)\u001b[0m\u001b[0;34m\u001b[0m\u001b[0;34m\u001b[0m\u001b[0m\n\u001b[1;32m     49\u001b[0m             \u001b[0;32melse\u001b[0m\u001b[0;34m:\u001b[0m\u001b[0;34m\u001b[0m\u001b[0;34m\u001b[0m\u001b[0m\n",
      "\u001b[0;31mRuntimeError\u001b[0m: grad can be implicitly created only for scalar outputs"
     ]
    }
   ],
   "source": [
    "torch.stack([o1, o2]).backward()"
   ]
  },
  {
   "cell_type": "code",
   "execution_count": null,
   "id": "0331c56b-f622-47ac-8d26-28ce34e0909a",
   "metadata": {},
   "outputs": [],
   "source": []
  }
 ],
 "metadata": {
  "kernelspec": {
   "display_name": "Python 3",
   "language": "python",
   "name": "python3"
  },
  "language_info": {
   "codemirror_mode": {
    "name": "ipython",
    "version": 3
   },
   "file_extension": ".py",
   "mimetype": "text/x-python",
   "name": "python",
   "nbconvert_exporter": "python",
   "pygments_lexer": "ipython3",
   "version": "3.6.9"
  }
 },
 "nbformat": 4,
 "nbformat_minor": 5
}
