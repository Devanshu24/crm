{
 "cells": [
  {
   "cell_type": "code",
   "execution_count": 125,
   "id": "40f0520a-a034-4530-adad-780ea6a3a161",
   "metadata": {},
   "outputs": [],
   "source": [
    "from crm import Network"
   ]
  },
  {
   "cell_type": "code",
   "execution_count": 126,
   "id": "d1cdb7b9-5081-47b9-bf71-9b8db78938f5",
   "metadata": {},
   "outputs": [
    {
     "data": {
      "text/plain": [
       "<torch._C.Generator at 0x7f31cc110ef0>"
      ]
     },
     "execution_count": 126,
     "metadata": {},
     "output_type": "execute_result"
    }
   ],
   "source": [
    "import re\n",
    "import random\n",
    "import torch\n",
    "import torch.nn as nn\n",
    "import torch.nn.functional as F\n",
    "import matplotlib.pyplot as plt\n",
    "from tqdm.notebook import trange\n",
    "from sklearn.model_selection import train_test_split\n",
    "random.seed(20)\n",
    "torch.manual_seed(20)"
   ]
  },
  {
   "cell_type": "code",
   "execution_count": 127,
   "id": "0fc8d8bf-213c-4be2-8b8e-589fc3c1a469",
   "metadata": {},
   "outputs": [],
   "source": [
    "import dill\n",
    "def save_object(obj, filename):\n",
    "    with open(filename, 'wb') as outp:  # Overwrites any existing file.\n",
    "        dill.dump(obj, outp, dill.HIGHEST_PROTOCOL)\n",
    "\n",
    "def load_object(filename):\n",
    "    with open(filename, 'rb') as inp:\n",
    "        return dill.load(inp)"
   ]
  },
  {
   "cell_type": "markdown",
   "id": "2775a557-166f-47db-90b5-65671fb583fa",
   "metadata": {},
   "source": [
    "# Data"
   ]
  },
  {
   "cell_type": "code",
   "execution_count": 128,
   "id": "87bebdb0-f1c6-4425-9d5f-af194d74c168",
   "metadata": {},
   "outputs": [],
   "source": [
    "inputs = load_object(\"data/inputs.dill\")\n",
    "outputs = load_object(\"data/outputs.dill\")"
   ]
  },
  {
   "cell_type": "code",
   "execution_count": 129,
   "id": "17551e7b-de87-4482-8713-e9f8d6793741",
   "metadata": {},
   "outputs": [],
   "source": [
    "torch_dataset_inputs = torch.rand(700, 23)\n",
    "for i in range(700):\n",
    "    torch_dataset_inputs[i] = torch.tensor(list(inputs[i].values())[:23])"
   ]
  },
  {
   "cell_type": "code",
   "execution_count": 130,
   "id": "3fa8aac9-7aa0-46d7-95cd-04a34e745e6d",
   "metadata": {},
   "outputs": [],
   "source": [
    "torch_dataset_outputs = torch.stack([outputs[i] for i in range(700)], dim=0)"
   ]
  },
  {
   "cell_type": "code",
   "execution_count": 131,
   "id": "23856f1a-2594-42d6-90c7-6de57208c147",
   "metadata": {},
   "outputs": [],
   "source": [
    "adj_list = load_object(\"data/adj_list.dill\")"
   ]
  },
  {
   "cell_type": "markdown",
   "id": "92e69f97-99e1-4d62-90d3-30543c1c648d",
   "metadata": {},
   "source": [
    "# Training"
   ]
  },
  {
   "cell_type": "code",
   "execution_count": 132,
   "id": "9f6a7119-37cb-4708-851b-cac555bed0a1",
   "metadata": {},
   "outputs": [],
   "source": [
    "n = Network(num_neurons, adj_list)"
   ]
  },
  {
   "cell_type": "code",
   "execution_count": 133,
   "id": "44fe6335-6927-4dde-9cf5-22214a5bc6c2",
   "metadata": {},
   "outputs": [],
   "source": [
    "n.set_neuron_activation(1282, lambda x : x, lambda x : 1)"
   ]
  },
  {
   "cell_type": "code",
   "execution_count": 134,
   "id": "a56c9167-9771-44e3-b045-6e44aed0d0b1",
   "metadata": {},
   "outputs": [],
   "source": [
    "n.set_neuron_activation(1283, lambda x : x, lambda x : 1)"
   ]
  },
  {
   "cell_type": "code",
   "execution_count": 118,
   "id": "1d43800c-e163-4e82-a579-dc9679b32a5f",
   "metadata": {},
   "outputs": [],
   "source": [
    "n.weights = load_object(\"weights_train_test_split__seed_20.dill\")"
   ]
  },
  {
   "cell_type": "code",
   "execution_count": 135,
   "id": "c2c9f05d-6d9e-4f58-9e4c-647252200c18",
   "metadata": {},
   "outputs": [],
   "source": [
    "X_train, X_test, y_train, y_test = train_test_split(inputs, outputs, test_size=1/7, random_state=20, shuffle=True)"
   ]
  },
  {
   "cell_type": "code",
   "execution_count": 86,
   "id": "891f8d8a-5c05-4073-9114-2f307cd95cf6",
   "metadata": {},
   "outputs": [
    {
     "data": {
      "application/vnd.jupyter.widget-view+json": {
       "model_id": "1d383f9df40f4303a36ba7b9f6b1e58e",
       "version_major": 2,
       "version_minor": 0
      },
      "text/plain": [
       "  0%|          | 0/2 [00:00<?, ?it/s]"
      ]
     },
     "metadata": {},
     "output_type": "display_data"
    },
    {
     "data": {
      "application/vnd.jupyter.widget-view+json": {
       "model_id": "2acaab94b2eb48958ca9b32ca6cea237",
       "version_major": 2,
       "version_minor": 0
      },
      "text/plain": [
       "  0%|          | 0/600 [00:00<?, ?it/s]"
      ]
     },
     "metadata": {},
     "output_type": "display_data"
    },
    {
     "data": {
      "application/vnd.jupyter.widget-view+json": {
       "model_id": "00c751b66dce4d81957bf045c3c0a3db",
       "version_major": 2,
       "version_minor": 0
      },
      "text/plain": [
       "  0%|          | 0/600 [00:00<?, ?it/s]"
      ]
     },
     "metadata": {},
     "output_type": "display_data"
    },
    {
     "data": {
      "image/png": "[encoded data removed]",
      "text/plain": [
       "<Figure size 432x288 with 1 Axes>"
      ]
     },
     "metadata": {
      "needs_background": "light"
     },
     "output_type": "display_data"
    }
   ],
   "source": [
    "optimizer = torch.optim.Adam(n.parameters(), lr=0.001)\n",
    "losses = []\n",
    "num_epochs = 2\n",
    "for e in trange(num_epochs):\n",
    "    for i in trange(len(X_train)):\n",
    "        f_mapper = X_train[i]\n",
    "        out = n.forward(f_mapper).reshape(1, -1)\n",
    "        loss = F.cross_entropy(out, y_train[i].reshape(1))\n",
    "        losses.append(loss.item())\n",
    "        loss.backward()\n",
    "        optimizer.step()\n",
    "        optimizer.zero_grad()\n",
    "        n.reset()\n",
    "# print(n.weights)\n",
    "plt.plot(losses)\n",
    "plt.show()"
   ]
  },
  {
   "cell_type": "code",
   "execution_count": 120,
   "id": "b511c5cc-ead1-4d78-a696-2ffe84c520b9",
   "metadata": {},
   "outputs": [
    {
     "data": {
      "application/vnd.jupyter.widget-view+json": {
       "model_id": "c1b325c707244abe8638b4653edb69be",
       "version_major": 2,
       "version_minor": 0
      },
      "text/plain": [
       "  0%|          | 0/600 [00:00<?, ?it/s]"
      ]
     },
     "metadata": {},
     "output_type": "display_data"
    },
    {
     "name": "stdout",
     "output_type": "stream",
     "text": [
      "Train Accuracy:  100.0\n"
     ]
    }
   ],
   "source": [
    "train_correct = 0\n",
    "for i in trange(len(X_train)):\n",
    "    f_mapper = X_train[i]\n",
    "    out = n.forward(f_mapper).reshape(1, -1)\n",
    "    train_correct += 1 if torch.argmax(out)==y_train[i] else 0\n",
    "    n.reset()\n",
    "print(\"Train Accuracy: \", train_correct/len(X_train)*100)"
   ]
  },
  {
   "cell_type": "code",
   "execution_count": 121,
   "id": "deb2e42e-71c2-49d9-8d13-1a86ddbda388",
   "metadata": {},
   "outputs": [
    {
     "data": {
      "application/vnd.jupyter.widget-view+json": {
       "model_id": "9bd94f67a15c44c993789e4b3dd99e93",
       "version_major": 2,
       "version_minor": 0
      },
      "text/plain": [
       "  0%|          | 0/100 [00:00<?, ?it/s]"
      ]
     },
     "metadata": {},
     "output_type": "display_data"
    },
    {
     "name": "stdout",
     "output_type": "stream",
     "text": [
      "Test Accuracy:  100.0\n"
     ]
    }
   ],
   "source": [
    "test_correct = 0\n",
    "for i in trange(len(X_test)):\n",
    "    f_mapper = X_test[i]\n",
    "    out = n.forward(f_mapper).reshape(1, -1)\n",
    "    test_correct += 1 if torch.argmax(out)==y_test[i] else 0\n",
    "    n.reset()\n",
    "print(\"Test Accuracy: \", test_correct/len(X_test)*100)"
   ]
  },
  {
   "cell_type": "code",
   "execution_count": 101,
   "id": "6ecf581f-2dab-4221-9742-d84c8c2b7475",
   "metadata": {},
   "outputs": [],
   "source": [
    "n.reset()\n",
    "n.forward(dataset[450][0])\n",
    "n.lrp(torch.tensor(100.), 1283)"
   ]
  },
  {
   "cell_type": "code",
   "execution_count": 102,
   "id": "b15bd299-139c-458e-9fd2-ba7b7714f735",
   "metadata": {},
   "outputs": [
    {
     "data": {
      "text/plain": [
       "3"
      ]
     },
     "execution_count": 102,
     "metadata": {},
     "output_type": "execute_result"
    }
   ],
   "source": [
    "max_layer = max([nn.layer for nn in n.neurons])\n",
    "max_layer"
   ]
  },
  {
   "cell_type": "code",
   "execution_count": 103,
   "id": "4276eb68-8ac5-4845-845d-7c931a00cc77",
   "metadata": {},
   "outputs": [],
   "source": [
    "layers = {}\n",
    "for nn in n.neurons:\n",
    "    if nn.layer in layers:\n",
    "        layers[nn.layer].append(nn.n_id)\n",
    "    else:\n",
    "        layers[nn.layer]=[nn.n_id]"
   ]
  },
  {
   "cell_type": "code",
   "execution_count": 107,
   "id": "3b05a29c-0b22-4851-abb6-3e0f36fa9816",
   "metadata": {},
   "outputs": [
    {
     "data": {
      "text/plain": [
       "tensor([77.5520], grad_fn=<AddBackward0>)"
      ]
     },
     "execution_count": 107,
     "metadata": {},
     "output_type": "execute_result"
    }
   ],
   "source": [
    "sum([n.neurons[n_id].relevance for n_id in layers[2]])"
   ]
  },
  {
   "cell_type": "code",
   "execution_count": 110,
   "id": "0e68157b-65b6-4364-a387-eed2ffa5b881",
   "metadata": {},
   "outputs": [
    {
     "data": {
      "text/plain": [
       "931"
      ]
     },
     "execution_count": 110,
     "metadata": {},
     "output_type": "execute_result"
    }
   ],
   "source": [
    "len(layers[2])"
   ]
  },
  {
   "cell_type": "code",
   "execution_count": 105,
   "id": "549e795b-80b6-4151-aea7-c842d33f9e66",
   "metadata": {},
   "outputs": [
    {
     "data": {
      "text/plain": [
       "[(100.0, 1283, 3),\n",
       " (38.31831359863281, 22, 0),\n",
       " (20.276439666748047, 20, 0),\n",
       " (16.41777801513672, 23, 1),\n",
       " (15.62519645690918, 25, 1),\n",
       " (14.337860107421875, 21, 0),\n",
       " (8.297679901123047, 19, 0),\n",
       " (7.704973220825195, 97, 1),\n",
       " (6.702298641204834, 14, 0),\n",
       " (5.8988213539123535, 34, 1),\n",
       " (5.820578575134277, 15, 0),\n",
       " (5.541997909545898, 12, 0),\n",
       " (2.9191713333129883, 712, 2),\n",
       " (2.3127784729003906, 29, 1),\n",
       " (2.2477352619171143, 756, 2)]"
      ]
     },
     "execution_count": 105,
     "metadata": {},
     "output_type": "execute_result"
    }
   ],
   "source": [
    "max_rel = -1\n",
    "idx = -1\n",
    "rels = []\n",
    "for n_id in range(1284):\n",
    "    if True:#1283 in n.neurons[n_id].successor_neurons or 1282 in n.neurons[n_id].successor_neurons:\n",
    "        try:\n",
    "            rels.append((n.neurons[n_id].relevance.item(), n_id, n.neurons[n_id].layer))\n",
    "        except:\n",
    "            pass\n",
    "rels.sort(reverse=True)\n",
    "rels[:15]"
   ]
  },
  {
   "cell_type": "code",
   "execution_count": 114,
   "id": "567d0244-7c9f-4196-bfe2-662c2eee35c6",
   "metadata": {},
   "outputs": [],
   "source": [
    "# TrainSet: Top1%         Top3%\n",
    "# TestSet: Top1%       Top3%\n",
    "# Want to see: hasCar(X,Y), short(Y), closed(Y)"
   ]
  },
  {
   "cell_type": "code",
   "execution_count": 112,
   "id": "5a950c12-abb8-4bb3-acb1-9537b5c0ee65",
   "metadata": {},
   "outputs": [
    {
     "data": {
      "text/plain": [
       "0.08329967776584318"
      ]
     },
     "execution_count": 112,
     "metadata": {},
     "output_type": "execute_result"
    }
   ],
   "source": [
    "1/931*77.552"
   ]
  },
  {
   "cell_type": "code",
   "execution_count": 113,
   "id": "8d65b9c3-f991-42d6-9668-fca4779e76c3",
   "metadata": {},
   "outputs": [
    {
     "data": {
      "text/plain": [
       "2.24"
      ]
     },
     "execution_count": 113,
     "metadata": {},
     "output_type": "execute_result"
    }
   ],
   "source": [
    "2.24"
   ]
  },
  {
   "cell_type": "code",
   "execution_count": 106,
   "id": "8063d8cb-39bd-4544-86c5-776ced44c98c",
   "metadata": {},
   "outputs": [
    {
     "data": {
      "text/plain": [
       "tensor([0.6337], grad_fn=<AddBackward0>)"
      ]
     },
     "execution_count": 106,
     "metadata": {},
     "output_type": "execute_result"
    }
   ],
   "source": [
    "n.neurons[711].relevance"
   ]
  },
  {
   "cell_type": "code",
   "execution_count": 96,
   "id": "03d96d24-8199-4030-8969-ee557a4a4eb6",
   "metadata": {},
   "outputs": [
    {
     "data": {
      "text/plain": [
       "1"
      ]
     },
     "execution_count": 96,
     "metadata": {},
     "output_type": "execute_result"
    }
   ],
   "source": [
    "dataset[240][0][24]"
   ]
  },
  {
   "cell_type": "code",
   "execution_count": 77,
   "id": "f7427287-eeaa-486d-bce6-7bb3c17d4e2c",
   "metadata": {},
   "outputs": [
    {
     "name": "stdout",
     "output_type": "stream",
     "text": [
      "[tensor(1), tensor(-1), tensor(2), tensor(-1), tensor(1., grad_fn=<MulBackward0>), tensor(2., grad_fn=<MulBackward0>)]\n",
      "[tensor(0., grad_fn=<AddBackward0>), tensor(0., grad_fn=<AddBackward0>), tensor(40., grad_fn=<AddBackward0>), tensor(-30., grad_fn=<AddBackward0>), 0, tensor(10.)]\n"
     ]
    }
   ],
   "source": [
    "demo = Network(6, [[4], [4], [5], [5], [], []])\n",
    "demo.weights = {\n",
    "        (0, 4): torch.tensor(6.0, requires_grad=True),\n",
    "        (1, 4): torch.tensor(5.0, requires_grad=True),\n",
    "        (2, 5): torch.tensor(4.0, requires_grad=True),\n",
    "        (3, 5): torch.tensor(6.0, requires_grad=True),\n",
    "}\n",
    "demo.forward({0: 1, 1: -1, 2: 2, 3: -1, 4: 1, 5: 1})\n",
    "print([demo.neurons[i].value for i in range(len(demo.neurons))])\n",
    "demo.lrp(torch.tensor(10.0), 5)\n",
    "print([demo.neurons[i].relevance for i in range(len(demo.neurons))])"
   ]
  },
  {
   "cell_type": "code",
   "execution_count": 78,
   "id": "ff297201-9053-460c-b1dc-35dfc520ee67",
   "metadata": {},
   "outputs": [],
   "source": [
    "d_layers = {}\n",
    "for nn in demo.neurons:\n",
    "    if nn.layer in d_layers:\n",
    "        d_layers[nn.layer].append(nn.n_id)\n",
    "    else:\n",
    "        d_layers[nn.layer]=[nn.n_id]"
   ]
  },
  {
   "cell_type": "code",
   "execution_count": 79,
   "id": "2313350d-00d7-4df2-bb04-6c56af28eeec",
   "metadata": {},
   "outputs": [
    {
     "data": {
      "text/plain": [
       "{0: [0, 1, 2, 3], 1: [4, 5]}"
      ]
     },
     "execution_count": 79,
     "metadata": {},
     "output_type": "execute_result"
    }
   ],
   "source": [
    "d_layers"
   ]
  },
  {
   "cell_type": "code",
   "execution_count": 81,
   "id": "3af9500f-44fe-43dd-9966-e9ccc8c5353d",
   "metadata": {},
   "outputs": [
    {
     "data": {
      "text/plain": [
       "tensor(10.)"
      ]
     },
     "execution_count": 81,
     "metadata": {},
     "output_type": "execute_result"
    }
   ],
   "source": [
    "sum([demo.neurons[n_id].relevance for n_id in d_layers[1]])"
   ]
  },
  {
   "cell_type": "code",
   "execution_count": 85,
   "id": "9a778671-583a-45c9-aa68-4e89bfbfe04b",
   "metadata": {},
   "outputs": [
    {
     "data": {
      "text/plain": [
       "[(100.0, 1283, 3),\n",
       " (50.09611511230469, 22, 0),\n",
       " (28.143735885620117, 23, 1),\n",
       " (25.122875213623047, 21, 0),\n",
       " (11.22695541381836, 3, 0),\n",
       " (10.006945610046387, 18, 0),\n",
       " (7.728886127471924, 298, 1),\n",
       " (4.784719467163086, 25, 1),\n",
       " (3.5847561359405518, 712, 2),\n",
       " (3.547109842300415, 19, 0),\n",
       " (3.1040234565734863, 713, 2),\n",
       " (2.742990493774414, 757, 2),\n",
       " (2.4108364582061768, 632, 2),\n",
       " (2.3875539302825928, 859, 2),\n",
       " (2.3309028148651123, 29, 1)]"
      ]
     },
     "execution_count": 85,
     "metadata": {},
     "output_type": "execute_result"
    }
   ],
   "source": [
    "max_rel = -1\n",
    "idx = -1\n",
    "rels = []\n",
    "for n_id in range(1284):\n",
    "    if True:#1283 in n.neurons[n_id].successor_neurons or 1282 in n.neurons[n_id].successor_neurons:\n",
    "        try:\n",
    "            rels.append((n.neurons[n_id].relevance.item(), n_id, n.neurons[n_id].layer))\n",
    "        except:\n",
    "            pass\n",
    "rels.sort(reverse=True)\n",
    "rels[:15]"
   ]
  },
  {
   "cell_type": "code",
   "execution_count": 184,
   "id": "f3291e10-ce22-45a2-a665-3b8b91911ab9",
   "metadata": {},
   "outputs": [
    {
     "data": {
      "application/vnd.jupyter.widget-view+json": {
       "model_id": "0725861ea8d04a2ea35cb17cf89c2983",
       "version_major": 2,
       "version_minor": 0
      },
      "text/plain": [
       "  0%|          | 0/700 [00:00<?, ?it/s]"
      ]
     },
     "metadata": {},
     "output_type": "display_data"
    },
    {
     "name": "stdout",
     "output_type": "stream",
     "text": [
      "100.0\n",
      "[]\n"
     ]
    }
   ],
   "source": [
    "optimizer = torch.optim.Adam(n.parameters(), lr=0.001)\n",
    "losses = []\n",
    "correct = 0\n",
    "for i in trange(len(dataset)):\n",
    "    f_mapper = dataset[i][0]\n",
    "    f_mapper[1282]=1\n",
    "    f_mapper[1283]=1\n",
    "    out = n.forward(f_mapper).reshape(1, -1)\n",
    "    correct += 1 if torch.argmax(out)==dataset[i][1] else 0\n",
    "    n.reset()\n",
    "print(correct/700*100)\n",
    "# print(n.weights)\n",
    "print(losses)\n",
    "# plt.plot(losses)\n",
    "# plt.show()"
   ]
  },
  {
   "cell_type": "code",
   "execution_count": 59,
   "id": "d31e7aaa-3228-4109-b196-755cad0062ac",
   "metadata": {},
   "outputs": [],
   "source": [
    "save_object(n, \"network_100.pkl\")"
   ]
  },
  {
   "cell_type": "code",
   "execution_count": 60,
   "id": "7b91bd42-5228-40a6-ac34-6b9e68639f9d",
   "metadata": {},
   "outputs": [],
   "source": [
    "loaded_network_n = load_object(\"network_100.pkl\")"
   ]
  },
  {
   "cell_type": "code",
   "execution_count": 70,
   "id": "4d1168fb-b455-4a5f-a000-e2aeb12103ee",
   "metadata": {},
   "outputs": [],
   "source": [
    "loaded_network_n.reset()"
   ]
  },
  {
   "cell_type": "code",
   "execution_count": 48,
   "id": "adbe0096-07f1-4e06-86d3-684e8af55501",
   "metadata": {},
   "outputs": [
    {
     "data": {
      "application/vnd.jupyter.widget-view+json": {
       "model_id": "d32298b0f2f14e9588c2661262abbfb5",
       "version_major": 2,
       "version_minor": 0
      },
      "text/plain": [
       "  0%|          | 0/700 [00:00<?, ?it/s]"
      ]
     },
     "metadata": {},
     "output_type": "display_data"
    },
    {
     "ename": "NameError",
     "evalue": "name 'loaded_network_n' is not defined",
     "output_type": "error",
     "traceback": [
      "\u001b[0;31m---------------------------------------------------------------------------\u001b[0m",
      "\u001b[0;31mNameError\u001b[0m                                 Traceback (most recent call last)",
      "\u001b[0;32m/tmp/ipykernel_18615/1428735106.py\u001b[0m in \u001b[0;36m<module>\u001b[0;34m\u001b[0m\n\u001b[1;32m      6\u001b[0m     \u001b[0mf_mapper\u001b[0m\u001b[0;34m[\u001b[0m\u001b[0;36m1282\u001b[0m\u001b[0;34m]\u001b[0m\u001b[0;34m=\u001b[0m\u001b[0;36m1\u001b[0m\u001b[0;34m\u001b[0m\u001b[0;34m\u001b[0m\u001b[0m\n\u001b[1;32m      7\u001b[0m     \u001b[0mf_mapper\u001b[0m\u001b[0;34m[\u001b[0m\u001b[0;36m1283\u001b[0m\u001b[0;34m]\u001b[0m\u001b[0;34m=\u001b[0m\u001b[0;36m1\u001b[0m\u001b[0;34m\u001b[0m\u001b[0;34m\u001b[0m\u001b[0m\n\u001b[0;32m----> 8\u001b[0;31m     \u001b[0mout\u001b[0m \u001b[0;34m=\u001b[0m \u001b[0mloaded_network_n\u001b[0m\u001b[0;34m.\u001b[0m\u001b[0mforward\u001b[0m\u001b[0;34m(\u001b[0m\u001b[0mf_mapper\u001b[0m\u001b[0;34m)\u001b[0m\u001b[0;34m.\u001b[0m\u001b[0mreshape\u001b[0m\u001b[0;34m(\u001b[0m\u001b[0;36m1\u001b[0m\u001b[0;34m,\u001b[0m \u001b[0;34m-\u001b[0m\u001b[0;36m1\u001b[0m\u001b[0;34m)\u001b[0m\u001b[0;34m\u001b[0m\u001b[0;34m\u001b[0m\u001b[0m\n\u001b[0m\u001b[1;32m      9\u001b[0m     \u001b[0mcorrect\u001b[0m \u001b[0;34m+=\u001b[0m \u001b[0;36m1\u001b[0m \u001b[0;32mif\u001b[0m \u001b[0mtorch\u001b[0m\u001b[0;34m.\u001b[0m\u001b[0margmax\u001b[0m\u001b[0;34m(\u001b[0m\u001b[0mout\u001b[0m\u001b[0;34m)\u001b[0m\u001b[0;34m==\u001b[0m\u001b[0mdataset\u001b[0m\u001b[0;34m[\u001b[0m\u001b[0mi\u001b[0m\u001b[0;34m]\u001b[0m\u001b[0;34m[\u001b[0m\u001b[0;36m1\u001b[0m\u001b[0;34m]\u001b[0m \u001b[0;32melse\u001b[0m \u001b[0;36m0\u001b[0m\u001b[0;34m\u001b[0m\u001b[0;34m\u001b[0m\u001b[0m\n\u001b[1;32m     10\u001b[0m     \u001b[0mloaded_network_n\u001b[0m\u001b[0;34m.\u001b[0m\u001b[0mreset\u001b[0m\u001b[0;34m(\u001b[0m\u001b[0;34m)\u001b[0m\u001b[0;34m\u001b[0m\u001b[0;34m\u001b[0m\u001b[0m\n",
      "\u001b[0;31mNameError\u001b[0m: name 'loaded_network_n' is not defined"
     ]
    }
   ],
   "source": [
    "optimizer = torch.optim.Adam(n.parameters(), lr=0.001)\n",
    "losses = []\n",
    "correct = 0\n",
    "for i in trange(len(dataset)):\n",
    "    f_mapper = dataset[i][0]\n",
    "    f_mapper[1282]=1\n",
    "    f_mapper[1283]=1\n",
    "    out = loaded_network_n.forward(f_mapper).reshape(1, -1)\n",
    "    correct += 1 if torch.argmax(out)==dataset[i][1] else 0\n",
    "    loaded_network_n.reset()\n",
    "print(correct/700*100)\n",
    "# print(n.weights)\n",
    "print(losses)\n",
    "# plt.plot(losses)\n",
    "# plt.show()"
   ]
  },
  {
   "cell_type": "code",
   "execution_count": 63,
   "id": "c40a46b0-1d07-4a69-bbc2-6249657714f5",
   "metadata": {},
   "outputs": [
    {
     "data": {
      "text/plain": [
       "4992"
      ]
     },
     "execution_count": 63,
     "metadata": {},
     "output_type": "execute_result"
    }
   ],
   "source": [
    "len(n.weights)"
   ]
  },
  {
   "cell_type": "code",
   "execution_count": 68,
   "id": "884e4bb8-e984-4617-a6af-57145f0c9a2b",
   "metadata": {},
   "outputs": [],
   "source": [
    "save_object(n.weights, \"weights_100_trained_on_600_samples.pkl\")"
   ]
  },
  {
   "cell_type": "code",
   "execution_count": 69,
   "id": "6d9b26ea-5070-427d-9d3c-5c621a003df5",
   "metadata": {},
   "outputs": [],
   "source": [
    "w = load_object(\"weights_100_trained_on_600_samples.pkl\")"
   ]
  },
  {
   "cell_type": "code",
   "execution_count": 70,
   "id": "6763e877-f807-41c0-8de1-20ff296a9cdb",
   "metadata": {},
   "outputs": [],
   "source": [
    "n.weights = w"
   ]
  },
  {
   "cell_type": "code",
   "execution_count": 54,
   "id": "66876e77-4168-4a1c-807f-65ac69c0a7ad",
   "metadata": {},
   "outputs": [],
   "source": [
    "# https://math.stackexchange.com/questions/945871/derivative-of-softmax-loss-function\n",
    "import torch\n",
    "for f in f_mapper_global:\n",
    "    f[1282]=1\n",
    "    f[1283]=1\n",
    "    n.reset()\n",
    "    o = n.forward(f)\n",
    "    if o[0]!=torch.tensor([0.]):\n",
    "        print(o)\n",
    "        break"
   ]
  },
  {
   "cell_type": "code",
   "execution_count": 60,
   "id": "51a51f0d-b1be-4142-8e8a-5b731e051325",
   "metadata": {},
   "outputs": [],
   "source": [
    "m = torch.nn.Sequential(torch.nn.Linear(10, 100))"
   ]
  },
  {
   "cell_type": "code",
   "execution_count": 72,
   "id": "dde0ccb1-4e64-4709-bd07-99e878aa016a",
   "metadata": {},
   "outputs": [
    {
     "data": {
      "text/plain": [
       "Parameter containing:\n",
       "tensor([ 0.2583, -0.2650, -0.1380,  0.2627, -0.0312,  0.1305, -0.2825,  0.2821,\n",
       "        -0.1505, -0.1986,  0.1177, -0.0656, -0.2120,  0.2727,  0.2055,  0.2070,\n",
       "         0.0710,  0.1732,  0.0441,  0.2178,  0.0877,  0.0890, -0.2641,  0.1323,\n",
       "         0.2862,  0.1050, -0.0550,  0.0561,  0.1339,  0.1444, -0.1224,  0.0247,\n",
       "        -0.2285, -0.1712,  0.2991,  0.2760,  0.3068, -0.2236,  0.1844,  0.2605,\n",
       "         0.1401, -0.1417,  0.0496, -0.2446,  0.2426,  0.2560,  0.0176, -0.0214,\n",
       "         0.0734, -0.2629, -0.1454, -0.0164, -0.2263, -0.1252,  0.2839,  0.1112,\n",
       "        -0.1526, -0.2420,  0.1288, -0.2328, -0.1631, -0.2980, -0.2495,  0.0282,\n",
       "         0.2589,  0.1794, -0.2060,  0.0578, -0.1831, -0.0485,  0.1794,  0.1493,\n",
       "        -0.2882, -0.2283,  0.1230, -0.0346,  0.0167, -0.0178,  0.0618,  0.3064,\n",
       "         0.2408, -0.1345,  0.1730,  0.0623,  0.2448,  0.2489,  0.2486, -0.2769,\n",
       "         0.0622, -0.0840, -0.0709,  0.1767, -0.0693,  0.1541,  0.2729,  0.1055,\n",
       "         0.1617, -0.2165, -0.3010, -0.0245], requires_grad=True)"
      ]
     },
     "execution_count": 72,
     "metadata": {},
     "output_type": "execute_result"
    }
   ],
   "source": [
    "list(m.parameters())[1]"
   ]
  },
  {
   "cell_type": "code",
   "execution_count": 78,
   "id": "61b821d8-007a-4a6d-89d6-b598c94fa8ea",
   "metadata": {},
   "outputs": [],
   "source": [
    "input_neurons = []\n",
    "for neuron in n.neurons:\n",
    "    if len(neuron.predeccesor_neurons)==0:\n",
    "        input_neurons.append(neuron.n_id)"
   ]
  },
  {
   "cell_type": "code",
   "execution_count": 92,
   "id": "53de15b5-a045-4c30-b41c-640e68181bb6",
   "metadata": {},
   "outputs": [
    {
     "data": {
      "text/plain": [
       "[0,\n",
       " 1,\n",
       " 2,\n",
       " 3,\n",
       " 4,\n",
       " 5,\n",
       " 6,\n",
       " 7,\n",
       " 8,\n",
       " 9,\n",
       " 10,\n",
       " 11,\n",
       " 12,\n",
       " 13,\n",
       " 14,\n",
       " 15,\n",
       " 16,\n",
       " 17,\n",
       " 18,\n",
       " 19,\n",
       " 20,\n",
       " 21,\n",
       " 22]"
      ]
     },
     "execution_count": 92,
     "metadata": {},
     "output_type": "execute_result"
    }
   ],
   "source": [
    "input_neurons"
   ]
  },
  {
   "cell_type": "code",
   "execution_count": 110,
   "id": "0331c56b-f622-47ac-8d26-28ce34e0909a",
   "metadata": {},
   "outputs": [],
   "source": [
    "class MLP(nn.Module):\n",
    "    def __init__(self, inp_dim, out_dim):\n",
    "        super(MLP, self).__init__()\n",
    "        self.mlp = nn.Sequential(nn.Linear(inp_dim, 64), nn.ReLU(), nn.Linear(64, 32),nn.ReLU(), nn.Linear(32, 2))\n",
    "    def forward(self, x):\n",
    "        return self.mlp(x)"
   ]
  },
  {
   "cell_type": "code",
   "execution_count": 166,
   "id": "cf112802-8124-4684-985f-b89b373430c5",
   "metadata": {},
   "outputs": [],
   "source": [
    "mlp = MLP(23, 2)"
   ]
  },
  {
   "cell_type": "code",
   "execution_count": 167,
   "id": "d020a3aa-c6d6-4d05-a4db-846b20d5bef2",
   "metadata": {},
   "outputs": [],
   "source": [
    "losses = []"
   ]
  },
  {
   "cell_type": "code",
   "execution_count": 168,
   "id": "552d7c03-e469-4497-80d7-606e56c9de18",
   "metadata": {},
   "outputs": [
    {
     "data": {
      "image/png": "[encoded data removed]",
      "text/plain": [
       "<Figure size 432x288 with 1 Axes>"
      ]
     },
     "metadata": {
      "needs_background": "light"
     },
     "output_type": "display_data"
    }
   ],
   "source": [
    "num_epochs = 600\n",
    "optimizer = torch.optim.Adam(mlp.parameters(), lr=0.01)\n",
    "\n",
    "for i in range(num_epochs):\n",
    "    out = mlp(torch_dataset_inputs)\n",
    "    loss = F.cross_entropy(out, torch_dataset_outputs)\n",
    "    losses.append(loss.item())\n",
    "    loss.backward()\n",
    "    optimizer.step()\n",
    "    optimizer.zero_grad()\n",
    "plt.plot(losses)\n",
    "plt.show()"
   ]
  },
  {
   "cell_type": "code",
   "execution_count": 169,
   "id": "33532ceb-ce7e-4c12-8aa2-7f4de084f09c",
   "metadata": {},
   "outputs": [
    {
     "data": {
      "text/plain": [
       "0.21631726622581482"
      ]
     },
     "execution_count": 169,
     "metadata": {},
     "output_type": "execute_result"
    }
   ],
   "source": [
    "losses[-1]"
   ]
  },
  {
   "cell_type": "code",
   "execution_count": 170,
   "id": "f8f8c7a4-837b-4104-8bc8-127eff50f8e8",
   "metadata": {},
   "outputs": [],
   "source": [
    "trained_out = mlp(torch_dataset_inputs)"
   ]
  },
  {
   "cell_type": "code",
   "execution_count": 178,
   "id": "5ec891e2-95fe-484a-90c0-a0370d75a9a2",
   "metadata": {},
   "outputs": [
    {
     "data": {
      "text/plain": [
       "tensor(613)"
      ]
     },
     "execution_count": 178,
     "metadata": {},
     "output_type": "execute_result"
    }
   ],
   "source": [
    "(torch.argmax(trained_out, dim=1) == torch_dataset_outputs).sum()"
   ]
  },
  {
   "cell_type": "code",
   "execution_count": 179,
   "id": "3be3ac9a-aaaf-481e-853e-5c5bd1c12fae",
   "metadata": {},
   "outputs": [
    {
     "data": {
      "text/plain": [
       "0.8757142857142857"
      ]
     },
     "execution_count": 179,
     "metadata": {},
     "output_type": "execute_result"
    }
   ],
   "source": [
    "613/700"
   ]
  },
  {
   "cell_type": "code",
   "execution_count": 181,
   "id": "a81c25ac-bec5-4c1e-9812-7d313da1168c",
   "metadata": {},
   "outputs": [],
   "source": [
    "torch.jit.script(mlp).save(\"torch_model_87_57.pt\")"
   ]
  },
  {
   "cell_type": "code",
   "execution_count": 191,
   "id": "f30ef623-dffc-455e-b5dd-1b65a0816e9d",
   "metadata": {},
   "outputs": [
    {
     "data": {
      "text/plain": [
       "Linear(in_features=23, out_features=64, bias=True)"
      ]
     },
     "execution_count": 191,
     "metadata": {},
     "output_type": "execute_result"
    }
   ],
   "source": [
    "mlp.mlp[0]"
   ]
  },
  {
   "cell_type": "code",
   "execution_count": 198,
   "id": "ec341350-ee34-4ef0-a6b8-7cb03652d9c2",
   "metadata": {},
   "outputs": [
    {
     "ename": "AssertionError",
     "evalue": "Cannot choose target column with output shape torch.Size([2]).",
     "output_type": "error",
     "traceback": [
      "\u001b[0;31m---------------------------------------------------------------------------\u001b[0m",
      "\u001b[0;31mAssertionError\u001b[0m                            Traceback (most recent call last)",
      "\u001b[0;32m<ipython-input-198-1d9b3e234d00>\u001b[0m in \u001b[0;36m<module>\u001b[0;34m\u001b[0m\n\u001b[1;32m      2\u001b[0m \u001b[0mlrp\u001b[0m \u001b[0;34m=\u001b[0m \u001b[0mLayerLRP\u001b[0m\u001b[0;34m(\u001b[0m\u001b[0mmlp\u001b[0m\u001b[0;34m,\u001b[0m \u001b[0mmlp\u001b[0m\u001b[0;34m.\u001b[0m\u001b[0mmlp\u001b[0m\u001b[0;34m[\u001b[0m\u001b[0;36m0\u001b[0m\u001b[0;34m]\u001b[0m\u001b[0;34m)\u001b[0m\u001b[0;34m\u001b[0m\u001b[0;34m\u001b[0m\u001b[0m\n\u001b[1;32m      3\u001b[0m \u001b[0;31m# Attribution size matches input size: 3x3x32x32\u001b[0m\u001b[0;34m\u001b[0m\u001b[0;34m\u001b[0m\u001b[0;34m\u001b[0m\u001b[0m\n\u001b[0;32m----> 4\u001b[0;31m \u001b[0mattribution\u001b[0m \u001b[0;34m=\u001b[0m \u001b[0mlrp\u001b[0m\u001b[0;34m.\u001b[0m\u001b[0mattribute\u001b[0m\u001b[0;34m(\u001b[0m\u001b[0mtorch_dataset_inputs\u001b[0m\u001b[0;34m[\u001b[0m\u001b[0;36m0\u001b[0m\u001b[0;34m]\u001b[0m\u001b[0;34m,\u001b[0m \u001b[0mtarget\u001b[0m\u001b[0;34m=\u001b[0m\u001b[0;36m1\u001b[0m\u001b[0;34m)\u001b[0m\u001b[0;34m\u001b[0m\u001b[0;34m\u001b[0m\u001b[0m\n\u001b[0m",
      "\u001b[0;32m~/.local/lib/python3.6/site-packages/captum/attr/_core/layer/layer_lrp.py\u001b[0m in \u001b[0;36mattribute\u001b[0;34m(self, inputs, target, additional_forward_args, return_convergence_delta, attribute_to_layer_input, verbose)\u001b[0m\n\u001b[1;32m    218\u001b[0m             \u001b[0;31m# 1. Forward pass\u001b[0m\u001b[0;34m\u001b[0m\u001b[0;34m\u001b[0m\u001b[0;34m\u001b[0m\u001b[0m\n\u001b[1;32m    219\u001b[0m             output = self._compute_output_and_change_weights(\n\u001b[0;32m--> 220\u001b[0;31m                 \u001b[0minputs\u001b[0m\u001b[0;34m,\u001b[0m \u001b[0mtarget\u001b[0m\u001b[0;34m,\u001b[0m \u001b[0madditional_forward_args\u001b[0m\u001b[0;34m\u001b[0m\u001b[0;34m\u001b[0m\u001b[0m\n\u001b[0m\u001b[1;32m    221\u001b[0m             )\n\u001b[1;32m    222\u001b[0m             \u001b[0mself\u001b[0m\u001b[0;34m.\u001b[0m\u001b[0m_register_forward_hooks\u001b[0m\u001b[0;34m(\u001b[0m\u001b[0;34m)\u001b[0m\u001b[0;34m\u001b[0m\u001b[0;34m\u001b[0m\u001b[0m\n",
      "\u001b[0;32m~/.local/lib/python3.6/site-packages/captum/attr/_core/lrp.py\u001b[0m in \u001b[0;36m_compute_output_and_change_weights\u001b[0;34m(self, inputs, target, additional_forward_args)\u001b[0m\n\u001b[1;32m    341\u001b[0m         \u001b[0;32mtry\u001b[0m\u001b[0;34m:\u001b[0m\u001b[0;34m\u001b[0m\u001b[0;34m\u001b[0m\u001b[0m\n\u001b[1;32m    342\u001b[0m             \u001b[0mself\u001b[0m\u001b[0;34m.\u001b[0m\u001b[0m_register_weight_hooks\u001b[0m\u001b[0;34m(\u001b[0m\u001b[0;34m)\u001b[0m\u001b[0;34m\u001b[0m\u001b[0;34m\u001b[0m\u001b[0m\n\u001b[0;32m--> 343\u001b[0;31m             \u001b[0moutput\u001b[0m \u001b[0;34m=\u001b[0m \u001b[0m_run_forward\u001b[0m\u001b[0;34m(\u001b[0m\u001b[0mself\u001b[0m\u001b[0;34m.\u001b[0m\u001b[0mmodel\u001b[0m\u001b[0;34m,\u001b[0m \u001b[0minputs\u001b[0m\u001b[0;34m,\u001b[0m \u001b[0mtarget\u001b[0m\u001b[0;34m,\u001b[0m \u001b[0madditional_forward_args\u001b[0m\u001b[0;34m)\u001b[0m\u001b[0;34m\u001b[0m\u001b[0;34m\u001b[0m\u001b[0m\n\u001b[0m\u001b[1;32m    344\u001b[0m         \u001b[0;32mfinally\u001b[0m\u001b[0;34m:\u001b[0m\u001b[0;34m\u001b[0m\u001b[0;34m\u001b[0m\u001b[0m\n\u001b[1;32m    345\u001b[0m             \u001b[0mself\u001b[0m\u001b[0;34m.\u001b[0m\u001b[0m_remove_forward_hooks\u001b[0m\u001b[0;34m(\u001b[0m\u001b[0;34m)\u001b[0m\u001b[0;34m\u001b[0m\u001b[0;34m\u001b[0m\u001b[0m\n",
      "\u001b[0;32m~/.local/lib/python3.6/site-packages/captum/_utils/common.py\u001b[0m in \u001b[0;36m_run_forward\u001b[0;34m(forward_func, inputs, target, additional_forward_args)\u001b[0m\n\u001b[1;32m    453\u001b[0m         \u001b[0;32melse\u001b[0m \u001b[0minputs\u001b[0m\u001b[0;34m\u001b[0m\u001b[0;34m\u001b[0m\u001b[0m\n\u001b[1;32m    454\u001b[0m     )\n\u001b[0;32m--> 455\u001b[0;31m     \u001b[0;32mreturn\u001b[0m \u001b[0m_select_targets\u001b[0m\u001b[0;34m(\u001b[0m\u001b[0moutput\u001b[0m\u001b[0;34m,\u001b[0m \u001b[0mtarget\u001b[0m\u001b[0;34m)\u001b[0m\u001b[0;34m\u001b[0m\u001b[0;34m\u001b[0m\u001b[0m\n\u001b[0m\u001b[1;32m    456\u001b[0m \u001b[0;34m\u001b[0m\u001b[0m\n\u001b[1;32m    457\u001b[0m \u001b[0;34m\u001b[0m\u001b[0m\n",
      "\u001b[0;32m~/.local/lib/python3.6/site-packages/captum/_utils/common.py\u001b[0m in \u001b[0;36m_select_targets\u001b[0;34m(output, target)\u001b[0m\n\u001b[1;32m    464\u001b[0m     \u001b[0mdevice\u001b[0m \u001b[0;34m=\u001b[0m \u001b[0moutput\u001b[0m\u001b[0;34m.\u001b[0m\u001b[0mdevice\u001b[0m\u001b[0;34m\u001b[0m\u001b[0;34m\u001b[0m\u001b[0m\n\u001b[1;32m    465\u001b[0m     \u001b[0;32mif\u001b[0m \u001b[0misinstance\u001b[0m\u001b[0;34m(\u001b[0m\u001b[0mtarget\u001b[0m\u001b[0;34m,\u001b[0m \u001b[0;34m(\u001b[0m\u001b[0mint\u001b[0m\u001b[0;34m,\u001b[0m \u001b[0mtuple\u001b[0m\u001b[0;34m)\u001b[0m\u001b[0;34m)\u001b[0m\u001b[0;34m:\u001b[0m\u001b[0;34m\u001b[0m\u001b[0;34m\u001b[0m\u001b[0m\n\u001b[0;32m--> 466\u001b[0;31m         \u001b[0;32mreturn\u001b[0m \u001b[0m_verify_select_column\u001b[0m\u001b[0;34m(\u001b[0m\u001b[0moutput\u001b[0m\u001b[0;34m,\u001b[0m \u001b[0mtarget\u001b[0m\u001b[0;34m)\u001b[0m\u001b[0;34m\u001b[0m\u001b[0;34m\u001b[0m\u001b[0m\n\u001b[0m\u001b[1;32m    467\u001b[0m     \u001b[0;32melif\u001b[0m \u001b[0misinstance\u001b[0m\u001b[0;34m(\u001b[0m\u001b[0mtarget\u001b[0m\u001b[0;34m,\u001b[0m \u001b[0mtorch\u001b[0m\u001b[0;34m.\u001b[0m\u001b[0mTensor\u001b[0m\u001b[0;34m)\u001b[0m\u001b[0;34m:\u001b[0m\u001b[0;34m\u001b[0m\u001b[0;34m\u001b[0m\u001b[0m\n\u001b[1;32m    468\u001b[0m         \u001b[0;32mif\u001b[0m \u001b[0mtorch\u001b[0m\u001b[0;34m.\u001b[0m\u001b[0mnumel\u001b[0m\u001b[0;34m(\u001b[0m\u001b[0mtarget\u001b[0m\u001b[0;34m)\u001b[0m \u001b[0;34m==\u001b[0m \u001b[0;36m1\u001b[0m \u001b[0;32mand\u001b[0m \u001b[0misinstance\u001b[0m\u001b[0;34m(\u001b[0m\u001b[0mtarget\u001b[0m\u001b[0;34m.\u001b[0m\u001b[0mitem\u001b[0m\u001b[0;34m(\u001b[0m\u001b[0;34m)\u001b[0m\u001b[0;34m,\u001b[0m \u001b[0mint\u001b[0m\u001b[0;34m)\u001b[0m\u001b[0;34m:\u001b[0m\u001b[0;34m\u001b[0m\u001b[0;34m\u001b[0m\u001b[0m\n",
      "\u001b[0;32m~/.local/lib/python3.6/site-packages/captum/_utils/common.py\u001b[0m in \u001b[0;36m_verify_select_column\u001b[0;34m(output, target)\u001b[0m\n\u001b[1;32m    511\u001b[0m     assert (\n\u001b[1;32m    512\u001b[0m         \u001b[0mlen\u001b[0m\u001b[0;34m(\u001b[0m\u001b[0mtarget\u001b[0m\u001b[0;34m)\u001b[0m \u001b[0;34m<=\u001b[0m \u001b[0mlen\u001b[0m\u001b[0;34m(\u001b[0m\u001b[0moutput\u001b[0m\u001b[0;34m.\u001b[0m\u001b[0mshape\u001b[0m\u001b[0;34m)\u001b[0m \u001b[0;34m-\u001b[0m \u001b[0;36m1\u001b[0m\u001b[0;34m\u001b[0m\u001b[0;34m\u001b[0m\u001b[0m\n\u001b[0;32m--> 513\u001b[0;31m     ), \"Cannot choose target column with output shape %r.\" % (output.shape,)\n\u001b[0m\u001b[1;32m    514\u001b[0m     \u001b[0;32mreturn\u001b[0m \u001b[0moutput\u001b[0m\u001b[0;34m[\u001b[0m\u001b[0;34m(\u001b[0m\u001b[0mslice\u001b[0m\u001b[0;34m(\u001b[0m\u001b[0;32mNone\u001b[0m\u001b[0;34m)\u001b[0m\u001b[0;34m,\u001b[0m \u001b[0;34m*\u001b[0m\u001b[0mtarget\u001b[0m\u001b[0;34m)\u001b[0m\u001b[0;34m]\u001b[0m\u001b[0;34m\u001b[0m\u001b[0;34m\u001b[0m\u001b[0m\n\u001b[1;32m    515\u001b[0m \u001b[0;34m\u001b[0m\u001b[0m\n",
      "\u001b[0;31mAssertionError\u001b[0m: Cannot choose target column with output shape torch.Size([2])."
     ]
    }
   ],
   "source": [
    "from captum.attr import LayerLRP\n",
    "lrp = LayerLRP(mlp, mlp.mlp[0])\n",
    "# Attribution size matches input size: 3x3x32x32\n",
    "attribution = lrp.attribute(torch_dataset_inputs[0], target=1)"
   ]
  },
  {
   "cell_type": "code",
   "execution_count": 204,
   "id": "28bfcb9d-c973-409b-b9ea-dd87ab1583b2",
   "metadata": {},
   "outputs": [],
   "source": [
    "def get_nth_key(dictionary, n=0):\n",
    "    if n < 0:\n",
    "        n += len(dictionary)\n",
    "    for i, key in enumerate(dictionary.keys()):\n",
    "        if i == n:\n",
    "            return key\n",
    "    raise IndexError(\"dictionary index out of range\") "
   ]
  },
  {
   "cell_type": "code",
   "execution_count": 208,
   "id": "25d4fbfa-3dc6-4331-9484-ab855b33023e",
   "metadata": {},
   "outputs": [
    {
     "data": {
      "text/plain": [
       "1203"
      ]
     },
     "execution_count": 208,
     "metadata": {},
     "output_type": "execute_result"
    }
   ],
   "source": [
    "a, b = get_nth_key(n.weights, 132)\n",
    "b"
   ]
  },
  {
   "cell_type": "code",
   "execution_count": 52,
   "id": "a5171f3a-2d5a-4f7e-8167-d1a95b5ba9b5",
   "metadata": {},
   "outputs": [],
   "source": [
    "for i in range(len(n.weights)):\n",
    "    a, b = get_nth_key(n.weights, i)\n",
    "    if a in input_neurons:\n",
    "        print((a, b), n.weights[(a, b)])"
   ]
  },
  {
   "cell_type": "code",
   "execution_count": 50,
   "id": "479ea420-46d5-4344-a57b-13dd7d4c9aed",
   "metadata": {},
   "outputs": [
    {
     "data": {
      "text/plain": [
       "[1282, 1283]"
      ]
     },
     "execution_count": 50,
     "metadata": {},
     "output_type": "execute_result"
    }
   ],
   "source": [
    "n.output_neurons"
   ]
  },
  {
   "cell_type": "code",
   "execution_count": 109,
   "id": "a9071067-84b4-4a16-82c8-fe7b28506314",
   "metadata": {},
   "outputs": [
    {
     "data": {
      "text/plain": [
       "tensor([65.8915], grad_fn=<MulBackward0>)"
      ]
     },
     "execution_count": 109,
     "metadata": {},
     "output_type": "execute_result"
    }
   ],
   "source": [
    "n.neurons[1283].value"
   ]
  },
  {
   "cell_type": "code",
   "execution_count": 106,
   "id": "7db7cd87-8e10-44cf-b3e5-bb893ffa5189",
   "metadata": {},
   "outputs": [],
   "source": [
    "n.reset()"
   ]
  },
  {
   "cell_type": "code",
   "execution_count": 107,
   "id": "a3452823-f9a2-498d-a083-3257c1f4fb46",
   "metadata": {},
   "outputs": [],
   "source": [
    "# dataset[2][0]"
   ]
  },
  {
   "cell_type": "code",
   "execution_count": 108,
   "id": "5f7efc35-2d12-48fc-a2ce-8a9947f9dc54",
   "metadata": {},
   "outputs": [
    {
     "data": {
      "text/plain": [
       "tensor([[60.5862],\n",
       "        [65.8915]], grad_fn=<StackBackward0>)"
      ]
     },
     "execution_count": 108,
     "metadata": {},
     "output_type": "execute_result"
    }
   ],
   "source": [
    "n.forward(dataset[24][0])"
   ]
  },
  {
   "cell_type": "code",
   "execution_count": 97,
   "id": "7c65629a-3283-4510-a2bb-e9b740190b45",
   "metadata": {},
   "outputs": [
    {
     "data": {
      "text/plain": [
       "tensor(1)"
      ]
     },
     "execution_count": 97,
     "metadata": {},
     "output_type": "execute_result"
    }
   ],
   "source": [
    "dataset[0][1]"
   ]
  },
  {
   "cell_type": "code",
   "execution_count": 88,
   "id": "3fad90b1-e1b8-4958-bc9f-01d5d8f2f792",
   "metadata": {},
   "outputs": [
    {
     "name": "stdout",
     "output_type": "stream",
     "text": [
      "2\n"
     ]
    }
   ],
   "source": [
    "for i in range(700):\n",
    "    if dataset[i][1]==torch.tensor(0):\n",
    "        print(i)\n",
    "        break"
   ]
  },
  {
   "cell_type": "code",
   "execution_count": null,
   "id": "db3fd844-da97-4c50-b7c5-1bbc8003b991",
   "metadata": {},
   "outputs": [],
   "source": [
    "n.lrp(torch.tensor(100), 1283)"
   ]
  },
  {
   "cell_type": "code",
   "execution_count": 102,
   "id": "3ee91356-804b-4778-8a55-878165519d90",
   "metadata": {},
   "outputs": [
    {
     "data": {
      "text/plain": [
       "(tensor([1.3627], grad_fn=<AddBackward0>),\n",
       " tensor([1.0818], grad_fn=<AddBackward0>))"
      ]
     },
     "execution_count": 102,
     "metadata": {},
     "output_type": "execute_result"
    }
   ],
   "source": [
    "n.neurons[30].relevance, n.neurons[26].relevance"
   ]
  },
  {
   "cell_type": "code",
   "execution_count": 101,
   "id": "cf990be4-5eb8-4a77-9a83-50ee1f8d64ca",
   "metadata": {},
   "outputs": [
    {
     "name": "stdout",
     "output_type": "stream",
     "text": [
      "tensor([13.5326], grad_fn=<AddBackward0>) 25\n"
     ]
    }
   ],
   "source": [
    "val = -1\n",
    "idx= -1 \n",
    "for i in range(len(n.neurons)):\n",
    "    if val < n.neurons[i].relevance and i!=1283 and len(n.neurons[i].predeccesor_neurons)>0:\n",
    "        val = n.neurons[i].relevance\n",
    "        idx=i\n",
    "print(val, idx)"
   ]
  },
  {
   "cell_type": "code",
   "execution_count": 81,
   "id": "3acfb3a9-50b1-48c1-a172-e4aa13380f52",
   "metadata": {},
   "outputs": [
    {
     "name": "stdout",
     "output_type": "stream",
     "text": [
      "0 tensor([2.5776], grad_fn=<AddBackward0>)\n",
      "1 tensor([6.5669], grad_fn=<AddBackward0>)\n",
      "2 tensor([4.8625], grad_fn=<AddBackward0>)\n",
      "3 tensor([7.3552], grad_fn=<AddBackward0>)\n",
      "4 tensor([1.6697], grad_fn=<AddBackward0>)\n",
      "5 tensor([4.3789], grad_fn=<AddBackward0>)\n",
      "6 tensor([2.8425], grad_fn=<AddBackward0>)\n",
      "7 tensor([3.3122], grad_fn=<AddBackward0>)\n",
      "8 tensor([3.0336], grad_fn=<AddBackward0>)\n",
      "9 tensor([2.3799], grad_fn=<AddBackward0>)\n",
      "10 tensor([2.4768], grad_fn=<AddBackward0>)\n",
      "11 tensor([8.8196], grad_fn=<AddBackward0>)\n",
      "12 tensor([5.6021], grad_fn=<AddBackward0>)\n",
      "13 tensor([3.6882], grad_fn=<AddBackward0>)\n",
      "14 tensor([6.9309], grad_fn=<AddBackward0>)\n",
      "15 tensor([4.5565], grad_fn=<AddBackward0>)\n",
      "16 tensor([4.7223], grad_fn=<AddBackward0>)\n",
      "17 tensor([5.4705], grad_fn=<AddBackward0>)\n",
      "18 tensor([5.1625], grad_fn=<AddBackward0>)\n",
      "19 tensor([5.7853], grad_fn=<AddBackward0>)\n",
      "20 tensor([7.8064], grad_fn=<AddBackward0>)\n",
      "21 tensor([0.], grad_fn=<AddBackward0>)\n",
      "22 tensor([0.], grad_fn=<AddBackward0>)\n"
     ]
    }
   ],
   "source": [
    "for neuron in n.neurons:\n",
    "    if len(neuron.predeccesor_neurons)==0:\n",
    "        print(neuron.n_id, neuron.relevance)"
   ]
  },
  {
   "cell_type": "code",
   "execution_count": 50,
   "id": "b8389d39-4ad2-4270-841f-d0b7d5164723",
   "metadata": {},
   "outputs": [
    {
     "data": {
      "text/plain": [
       "[21, 22]"
      ]
     },
     "execution_count": 50,
     "metadata": {},
     "output_type": "execute_result"
    }
   ],
   "source": [
    "n.neurons[23].predeccesor_neurons"
   ]
  },
  {
   "cell_type": "code",
   "execution_count": 105,
   "id": "85a1d36a-ff9d-4bb4-8fb9-df6aeab03857",
   "metadata": {},
   "outputs": [
    {
     "data": {
      "text/plain": [
       "tensor([[60.5862],\n",
       "        [65.8915]], grad_fn=<StackBackward0>)"
      ]
     },
     "execution_count": 105,
     "metadata": {},
     "output_type": "execute_result"
    }
   ],
   "source": [
    "n.reset()\n",
    "n.forward(dataset[24][0])"
   ]
  },
  {
   "cell_type": "code",
   "execution_count": 110,
   "id": "ea131013-e2d7-45d9-8259-28445df3c7c1",
   "metadata": {},
   "outputs": [],
   "source": [
    "n.reset()\n",
    "n.forward(dataset[24][0])\n",
    "n.lrp(torch.tensor(100.), 1283)\n",
    "N_ID = [i for i in range(1284)]\n",
    "REL_VALS = [n.neurons[n_id].relevance for n_id in N_ID]\n",
    "S = [x for _,x in sorted(zip(REL_VALS,N_ID))]\n",
    "S.reverse()"
   ]
  },
  {
   "cell_type": "code",
   "execution_count": 69,
   "id": "1f0a4ad7-317d-4136-887e-8bf10e7a0014",
   "metadata": {},
   "outputs": [],
   "source": [
    "def predict(n, x):\n",
    "    n.reset()\n",
    "    out = n.forward(x)\n",
    "    return torch.argmax(out)"
   ]
  },
  {
   "cell_type": "code",
   "execution_count": 70,
   "id": "f9744726-dbd1-4368-9225-fe6902a4e67d",
   "metadata": {},
   "outputs": [
    {
     "data": {
      "text/plain": [
       "tensor(0)"
      ]
     },
     "execution_count": 70,
     "metadata": {},
     "output_type": "execute_result"
    }
   ],
   "source": [
    "predict(n, dataset[24][0])"
   ]
  },
  {
   "cell_type": "code",
   "execution_count": 85,
   "id": "3c71e975-a61b-4fe6-b87a-5fc570c34759",
   "metadata": {},
   "outputs": [],
   "source": [
    "def greedy_lrp(n, dataset_id):\n",
    "    n.reset()\n",
    "    x = dataset[dataset_id][0]\n",
    "    n.forward(x)\n",
    "    \n",
    "    if dataset[dataset_id][1]:\n",
    "        n.lrp(torch.tensor(100.), 1283)\n",
    "        # print(\"here\")\n",
    "    else:\n",
    "        n.lrp(torch.tensor(100.), 1282)\n",
    "        # print(\"there\")\n",
    "    \n",
    "    N_ID = [i for i in range(23)]\n",
    "    REL_VALS = [n.neurons[n_id].relevance for n_id in N_ID]\n",
    "    S = [x for _,x in sorted(zip(REL_VALS,N_ID))]\n",
    "    \n",
    "    R = []\n",
    "    found = False\n",
    "    \n",
    "    if dataset[dataset_id][1]:\n",
    "        S.append(1283)\n",
    "        # print(\"here\")\n",
    "    else:\n",
    "        S.append(1282)\n",
    "        # n.lrp(torch.tensor(100.), 1282)\n",
    "        # print(\"there\")\n",
    "    \n",
    "    S.reverse()\n",
    "    while (len(S)!=0 and found==False):\n",
    "        R.append(S[0])\n",
    "        x_dash = {i: 1 if i in R else 0 for i in range(1284)}\n",
    "        for n_id in range(1284):\n",
    "            if len(n.neurons[n_id].predeccesor_neurons)==0:\n",
    "                continue\n",
    "            if x_dash[n.neurons[n_id].predeccesor_neurons[0]] and x_dash[n.neurons[n_id].predeccesor_neurons[1]]:\n",
    "                x_dash[n_id]=1\n",
    "        out_dash = predict(n, x_dash)\n",
    "        out = predict(n, x)\n",
    "        # print(out, out_dash)\n",
    "        if out_dash == out:\n",
    "            found = True\n",
    "        else:\n",
    "            found = False\n",
    "        S = S[1:]\n",
    "    \n",
    "    print(R)\n",
    "    # x_real = {i: 1 if i in R else 0 for i in range(1285)}\n",
    "    # print(x_real)\n",
    "    # n.reset()\n",
    "#     out = n.forward(x_real)\n",
    "#     if dataset[dataset_id][1]:\n",
    "#         n.lrp(torch.tensor(100.), 1283)\n",
    "#     else:\n",
    "#         n.lrp(torch.tensor(100.), 1282)\n",
    "    \n",
    "    return R"
   ]
  },
  {
   "cell_type": "code",
   "execution_count": 86,
   "id": "0ba76048-790e-4d9f-b4b1-2c812be8ac43",
   "metadata": {},
   "outputs": [
    {
     "data": {
      "text/plain": [
       "[97, 180]"
      ]
     },
     "execution_count": 86,
     "metadata": {},
     "output_type": "execute_result"
    }
   ],
   "source": [
    "n.neurons[403].predeccesor_neurons"
   ]
  },
  {
   "cell_type": "code",
   "execution_count": 88,
   "id": "f3bba467-6371-43bd-a1fe-5adb91f1ebfc",
   "metadata": {},
   "outputs": [
    {
     "data": {
      "text/plain": [
       "tensor([[55.7140],\n",
       "        [61.7247]], grad_fn=<StackBackward0>)"
      ]
     },
     "execution_count": 88,
     "metadata": {},
     "output_type": "execute_result"
    }
   ],
   "source": [
    "n.reset()\n",
    "n.forward(dataset[458][0])"
   ]
  },
  {
   "cell_type": "code",
   "execution_count": 90,
   "id": "0c9e05e0-005d-4199-ad5d-faa9b6a0b771",
   "metadata": {},
   "outputs": [
    {
     "data": {
      "text/plain": [
       "tensor([61.7247], grad_fn=<MulBackward0>)"
      ]
     },
     "execution_count": 90,
     "metadata": {},
     "output_type": "execute_result"
    }
   ],
   "source": [
    "n.neurons[1283].value"
   ]
  },
  {
   "cell_type": "code",
   "execution_count": null,
   "id": "00c5a7cf-5949-4cab-89d5-c933625b87ce",
   "metadata": {},
   "outputs": [],
   "source": [
    "func(f(35),[type=simple,def=(train(_131143):-has_car(_131143,_131149),open_car(_131149))]).\n",
    "\n",
    "func(f(19),[type=simple,def=(train(_131143):-has_car(_131143,_131149),open_car(_131149))]).\n",
    "func(f(23),[type=simple,def=(train(_131143):-has_car(_131143,_131146))]).\n"
   ]
  },
  {
   "cell_type": "code",
   "execution_count": null,
   "id": "39b13f5c-33ec-45f3-b052-92aac6cac31d",
   "metadata": {},
   "outputs": [],
   "source": [
    "func(f(24),[type=simple,def=(train(_131143):-has_car(_131143,_131149),short(_131149))]).\n",
    "\n",
    "func(f(23),[type=simple,def=(train(_131143):-has_car(_131143,_131146))]).\n",
    "func(f(22),[type=simple,def=(train(_131143):-has_car(_131143,_131149),short(_131149))])."
   ]
  },
  {
   "cell_type": "code",
   "execution_count": 91,
   "id": "e99db9d3-ede7-4b92-8b80-9f7e0b0d4044",
   "metadata": {},
   "outputs": [],
   "source": [
    "n.lrp(torch.tensor(100.), 1283)"
   ]
  },
  {
   "cell_type": "code",
   "execution_count": 92,
   "id": "5160a641-cfa1-4916-bcc3-c9a080b33577",
   "metadata": {},
   "outputs": [
    {
     "name": "stdout",
     "output_type": "stream",
     "text": [
      "0 tensor([0.], grad_fn=<AddBackward0>)\n",
      "1 tensor([0.], grad_fn=<AddBackward0>)\n",
      "2 tensor([0.], grad_fn=<AddBackward0>)\n",
      "3 tensor([0.], grad_fn=<AddBackward0>)\n",
      "4 tensor([0.], grad_fn=<AddBackward0>)\n",
      "5 tensor([0.], grad_fn=<AddBackward0>)\n",
      "6 tensor([0.], grad_fn=<AddBackward0>)\n",
      "7 tensor([0.], grad_fn=<AddBackward0>)\n",
      "8 tensor([0.], grad_fn=<AddBackward0>)\n",
      "9 tensor([0.], grad_fn=<AddBackward0>)\n",
      "10 tensor([0.], grad_fn=<AddBackward0>)\n",
      "11 tensor([0.], grad_fn=<AddBackward0>)\n",
      "12 tensor([0.], grad_fn=<AddBackward0>)\n",
      "13 tensor([0.], grad_fn=<AddBackward0>)\n",
      "14 tensor([0.], grad_fn=<AddBackward0>)\n",
      "15 tensor([6.4179], grad_fn=<AddBackward0>)\n",
      "16 tensor([0.], grad_fn=<AddBackward0>)\n",
      "17 tensor([0.], grad_fn=<AddBackward0>)\n",
      "18 tensor([0.], grad_fn=<AddBackward0>)\n",
      "19 tensor([11.4728], grad_fn=<AddBackward0>)\n",
      "20 tensor([23.7107], grad_fn=<AddBackward0>)\n",
      "21 tensor([18.0010], grad_fn=<AddBackward0>)\n",
      "22 tensor([40.3976], grad_fn=<AddBackward0>)\n"
     ]
    }
   ],
   "source": [
    "for neuron in n.neurons:\n",
    "    if len(neuron.predeccesor_neurons)==0:\n",
    "        print(neuron.n_id, neuron.relevance)"
   ]
  },
  {
   "cell_type": "code",
   "execution_count": 94,
   "id": "d6dc1b8c-12d5-494c-8427-9bef6711b6e6",
   "metadata": {},
   "outputs": [
    {
     "data": {
      "text/plain": [
       "tensor([[169.3681],\n",
       "        [176.5970]], grad_fn=<StackBackward0>)"
      ]
     },
     "execution_count": 94,
     "metadata": {},
     "output_type": "execute_result"
    }
   ],
   "source": [
    "temp_data = {i: 0 for i in range(1284)}\n",
    "for i in range(23):\n",
    "    temp_data[i]=0\n",
    "temp_data[22]=1\n",
    "for n_id in range(1284):\n",
    "    if len(n.neurons[n_id].predeccesor_neurons)==0:\n",
    "        continue\n",
    "    if temp_data[n.neurons[n_id].predeccesor_neurons[0]] or temp_data[n.neurons[n_id].predeccesor_neurons[1]]:\n",
    "        temp_data[n_id]=1\n",
    "n.reset()\n",
    "n.forward(temp_data)"
   ]
  },
  {
   "cell_type": "code",
   "execution_count": 87,
   "id": "584880e9-3b7a-4ba2-81f1-bcee9ae785c2",
   "metadata": {},
   "outputs": [
    {
     "name": "stdout",
     "output_type": "stream",
     "text": [
      "[1283, 22, 20]\n"
     ]
    },
    {
     "data": {
      "text/plain": [
       "[1283, 22, 20]"
      ]
     },
     "execution_count": 87,
     "metadata": {},
     "output_type": "execute_result"
    }
   ],
   "source": [
    "greedy_lrp(n, 458)"
   ]
  },
  {
   "cell_type": "code",
   "execution_count": 84,
   "id": "65808efa-8a55-4f4b-9a13-15d9070a130e",
   "metadata": {},
   "outputs": [
    {
     "data": {
      "text/plain": [
       "tensor(1)"
      ]
     },
     "execution_count": 84,
     "metadata": {},
     "output_type": "execute_result"
    }
   ],
   "source": [
    "dataset[458][1]"
   ]
  },
  {
   "cell_type": "code",
   "execution_count": 74,
   "id": "55987400-2b69-43f7-977b-f373d4dd8668",
   "metadata": {},
   "outputs": [
    {
     "data": {
      "text/plain": [
       "[1282, 1283]"
      ]
     },
     "execution_count": 74,
     "metadata": {},
     "output_type": "execute_result"
    }
   ],
   "source": [
    "n.output_neurons"
   ]
  },
  {
   "cell_type": "code",
   "execution_count": 172,
   "id": "642b1202-fe6a-470d-b62b-b55f4304d211",
   "metadata": {},
   "outputs": [],
   "source": [
    "n.reset()\n",
    "out = n.forward({i: 0 for i in range(1285)})"
   ]
  },
  {
   "cell_type": "code",
   "execution_count": 173,
   "id": "0659aceb-ffe4-4b7b-8881-28f76f4a0963",
   "metadata": {},
   "outputs": [
    {
     "data": {
      "text/plain": [
       "tensor(0)"
      ]
     },
     "execution_count": 173,
     "metadata": {},
     "output_type": "execute_result"
    }
   ],
   "source": [
    "torch.argmax(out)"
   ]
  },
  {
   "cell_type": "code",
   "execution_count": 153,
   "id": "6b88705f-7392-43ea-9835-6fad6256b5c0",
   "metadata": {},
   "outputs": [
    {
     "name": "stdout",
     "output_type": "stream",
     "text": [
      "0 tensor([0.], grad_fn=<AddBackward0>)\n",
      "1 tensor([0.], grad_fn=<AddBackward0>)\n",
      "2 tensor([0.], grad_fn=<AddBackward0>)\n",
      "3 tensor([0.], grad_fn=<AddBackward0>)\n",
      "4 tensor([0.], grad_fn=<AddBackward0>)\n",
      "5 tensor([0.], grad_fn=<AddBackward0>)\n",
      "6 tensor([0.], grad_fn=<AddBackward0>)\n",
      "7 tensor([0.], grad_fn=<AddBackward0>)\n",
      "8 tensor([0.], grad_fn=<AddBackward0>)\n",
      "9 tensor([0.], grad_fn=<AddBackward0>)\n",
      "10 tensor([0.], grad_fn=<AddBackward0>)\n",
      "11 tensor([0.], grad_fn=<AddBackward0>)\n",
      "12 tensor([0.], grad_fn=<AddBackward0>)\n",
      "13 tensor([0.], grad_fn=<AddBackward0>)\n",
      "14 tensor([0.], grad_fn=<AddBackward0>)\n",
      "15 tensor([0.], grad_fn=<AddBackward0>)\n",
      "16 tensor([0.], grad_fn=<AddBackward0>)\n",
      "17 tensor([0.], grad_fn=<AddBackward0>)\n",
      "18 tensor([0.], grad_fn=<AddBackward0>)\n",
      "19 tensor([0.], grad_fn=<AddBackward0>)\n",
      "20 tensor([0.], grad_fn=<AddBackward0>)\n",
      "21 tensor([0.], grad_fn=<AddBackward0>)\n",
      "22 tensor([0.], grad_fn=<AddBackward0>)\n"
     ]
    }
   ],
   "source": [
    "for neuron in n.neurons:\n",
    "    if len(neuron.predeccesor_neurons)==0:\n",
    "        print(neuron.n_id, neuron.relevance)"
   ]
  },
  {
   "cell_type": "code",
   "execution_count": 97,
   "id": "0c1204fe-d997-4b0c-9b4e-22958a3638f7",
   "metadata": {},
   "outputs": [
    {
     "name": "stdout",
     "output_type": "stream",
     "text": [
      "1\n"
     ]
    }
   ],
   "source": [
    "if dataset[42][1]:\n",
    "    print(1)"
   ]
  },
  {
   "cell_type": "code",
   "execution_count": 98,
   "id": "b336c326-7219-4a92-a60f-b8caffe5bb47",
   "metadata": {},
   "outputs": [
    {
     "data": {
      "text/plain": [
       "tensor([[118.6430],\n",
       "        [124.5332]], grad_fn=<StackBackward0>)"
      ]
     },
     "execution_count": 98,
     "metadata": {},
     "output_type": "execute_result"
    }
   ],
   "source": [
    "n.reset()\n",
    "n.forward(dataset[42][0])"
   ]
  },
  {
   "cell_type": "code",
   "execution_count": 99,
   "id": "91273127-32c4-4be8-98b3-51233fc08b42",
   "metadata": {},
   "outputs": [],
   "source": [
    "n.lrp(torch.tensor(100.), 1283)"
   ]
  },
  {
   "cell_type": "code",
   "execution_count": 105,
   "id": "328b081f-294a-4316-8adb-088d01509518",
   "metadata": {},
   "outputs": [
    {
     "name": "stdout",
     "output_type": "stream",
     "text": [
      "tensor([2.2477], grad_fn=<AddBackward0>) 712\n"
     ]
    }
   ],
   "source": [
    "max_rel = -1\n",
    "idx = -1\n",
    "for n_id in range(1284):\n",
    "    if 1283 in n.neurons[n_id].successor_neurons or 1282 in n.neurons[n_id].successor_neurons:\n",
    "        if n.neurons[n_id].relevance > max_rel:\n",
    "            max_rel=n.neurons[n_id].relevance\n",
    "            idx=n_id\n",
    "print(max_rel, idx)"
   ]
  },
  {
   "cell_type": "code",
   "execution_count": null,
   "id": "d2657bc3-173e-41a3-8ecb-97685033fc75",
   "metadata": {},
   "outputs": [],
   "source": []
  }
 ],
 "metadata": {
  "interpreter": {
   "hash": "eb58c41bbb521262f95c6d9ac0a5f393619bf1006f16a13252f81f5c637c534f"
  },
  "kernelspec": {
   "display_name": "Python 3 (ipykernel)",
   "language": "python",
   "name": "python3"
  },
  "language_info": {
   "codemirror_mode": {
    "name": "ipython",
    "version": 3
   },
   "file_extension": ".py",
   "mimetype": "text/x-python",
   "name": "python",
   "nbconvert_exporter": "python",
   "pygments_lexer": "ipython3",
   "version": "3.8.12"
  }
 },
 "nbformat": 4,
 "nbformat_minor": 5
}
