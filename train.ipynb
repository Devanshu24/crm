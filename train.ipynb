{
 "cells": [
  {
   "cell_type": "code",
   "execution_count": 1,
   "id": "40f0520a-a034-4530-adad-780ea6a3a161",
   "metadata": {},
   "outputs": [],
   "source": [
    "from crm import Network"
   ]
  },
  {
   "cell_type": "code",
   "execution_count": 2,
   "id": "d1cdb7b9-5081-47b9-bf71-9b8db78938f5",
   "metadata": {},
   "outputs": [],
   "source": [
    "import re\n",
    "import random\n",
    "import torch\n",
    "import torch.nn as nn\n",
    "import torch.nn.functional as F\n",
    "import matplotlib.pyplot as plt\n",
    "from tqdm.notebook import trange"
   ]
  },
  {
   "cell_type": "code",
   "execution_count": 3,
   "id": "0fc8d8bf-213c-4be2-8b8e-589fc3c1a469",
   "metadata": {},
   "outputs": [],
   "source": [
    "import dill\n",
    "def save_object(obj, filename):\n",
    "    with open(filename, 'wb') as outp:  # Overwrites any existing file.\n",
    "        dill.dump(obj, outp, dill.HIGHEST_PROTOCOL)\n",
    "\n",
    "def load_object(filename):\n",
    "    with open(filename, 'rb') as inp:\n",
    "        return dill.load(inp)"
   ]
  },
  {
   "cell_type": "markdown",
   "id": "2775a557-166f-47db-90b5-65671fb583fa",
   "metadata": {},
   "source": [
    "# Data"
   ]
  },
  {
   "cell_type": "code",
   "execution_count": 4,
   "id": "f224d637-c629-47e3-aea3-dede8aab217a",
   "metadata": {},
   "outputs": [],
   "source": [
    "f = open(\"data/raw/crm_output.pl\")"
   ]
  },
  {
   "cell_type": "code",
   "execution_count": 5,
   "id": "5edb40b9-b5dd-4c63-a5aa-b12dfe07cb6d",
   "metadata": {},
   "outputs": [],
   "source": [
    "edges_raw = []"
   ]
  },
  {
   "cell_type": "code",
   "execution_count": 6,
   "id": "b3a7775a-2054-422b-bc0b-5408e27cff3a",
   "metadata": {},
   "outputs": [],
   "source": [
    "while True:\n",
    "    s = f.readline()\n",
    "    if not s:\n",
    "        break\n",
    "    if \"connected\" in s:\n",
    "        edges_raw.append(s)"
   ]
  },
  {
   "cell_type": "code",
   "execution_count": 7,
   "id": "76caca2c-8316-4bb0-819d-cedfaacf33a4",
   "metadata": {},
   "outputs": [
    {
     "data": {
      "text/plain": [
       "'connected(a(2),[a(0),a(0)],[1,0]).\\n'"
      ]
     },
     "execution_count": 7,
     "metadata": {},
     "output_type": "execute_result"
    }
   ],
   "source": [
    "edges_raw[-2]"
   ]
  },
  {
   "cell_type": "code",
   "execution_count": 8,
   "id": "d23fa25a-f9ce-4e4c-8ef1-06b77fbe1599",
   "metadata": {},
   "outputs": [
    {
     "data": {
      "text/plain": [
       "'1258'"
      ]
     },
     "execution_count": 8,
     "metadata": {},
     "output_type": "execute_result"
    }
   ],
   "source": [
    "edges_raw[24].split(\",\")[0].split(\"(\")[-1].split(\")\")[0]"
   ]
  },
  {
   "cell_type": "code",
   "execution_count": 9,
   "id": "848b8a5c-3cf7-4c3c-b8b4-4d22b3c8de4b",
   "metadata": {},
   "outputs": [],
   "source": [
    "gg = ' '.join(edges_raw[24].split(\",\")[1:3])"
   ]
  },
  {
   "cell_type": "code",
   "execution_count": 10,
   "id": "6e0fb869-f376-476f-86b0-8156d4aad6e4",
   "metadata": {},
   "outputs": [
    {
     "data": {
      "text/plain": [
       "'[a(2) a(26)]'"
      ]
     },
     "execution_count": 10,
     "metadata": {},
     "output_type": "execute_result"
    }
   ],
   "source": [
    "gg"
   ]
  },
  {
   "cell_type": "code",
   "execution_count": 11,
   "id": "88029163-96c2-4ca0-95dc-4f6348b3a276",
   "metadata": {},
   "outputs": [
    {
     "data": {
      "text/plain": [
       "2"
      ]
     },
     "execution_count": 11,
     "metadata": {},
     "output_type": "execute_result"
    }
   ],
   "source": [
    "int(re.findall(r\"a\\([0-9]*\\)\", gg)[0].split(\"(\")[-1].split(\")\")[0])"
   ]
  },
  {
   "cell_type": "code",
   "execution_count": 12,
   "id": "39ed73c2-c332-46ed-9753-fb9a8ad82f65",
   "metadata": {},
   "outputs": [
    {
     "data": {
      "text/plain": [
       "26"
      ]
     },
     "execution_count": 12,
     "metadata": {},
     "output_type": "execute_result"
    }
   ],
   "source": [
    "int(re.findall(r\"a\\([0-9]*\\)\", gg)[1].split(\"(\")[-1].split(\")\")[0])"
   ]
  },
  {
   "cell_type": "code",
   "execution_count": 13,
   "id": "e01e98fc-5d17-42ec-8180-2b569bf821ee",
   "metadata": {},
   "outputs": [],
   "source": [
    "edges = []"
   ]
  },
  {
   "cell_type": "code",
   "execution_count": 14,
   "id": "73a1938e-7a0c-47b5-b8a7-a5b0dbbc1346",
   "metadata": {},
   "outputs": [
    {
     "data": {
      "text/plain": [
       "1281"
      ]
     },
     "execution_count": 14,
     "metadata": {},
     "output_type": "execute_result"
    }
   ],
   "source": [
    "int(edges_raw[0].split(\",\")[0].split(\"(\")[-1].split(\")\")[0])-1"
   ]
  },
  {
   "cell_type": "code",
   "execution_count": 15,
   "id": "798e8979-3044-45bb-80e2-44d367a597a1",
   "metadata": {},
   "outputs": [],
   "source": [
    "for i in range(len(edges_raw)):\n",
    "    end = int(edges_raw[i].split(\",\")[0].split(\"(\")[-1].split(\")\")[0])-1\n",
    "    \n",
    "    gg = ' '.join(edges_raw[i].split(\",\")[1:3])\n",
    "    start_one = int(re.findall(r\"a\\([0-9]*\\)\", gg)[0].split(\"(\")[-1].split(\")\")[0])-1\n",
    "    start_two = int(re.findall(r\"a\\([0-9]*\\)\", gg)[1].split(\"(\")[-1].split(\")\")[0])-1\n",
    "    # start_one --> end\n",
    "    # start_two --> end\n",
    "    if start_one!=-1:\n",
    "        edges.append((start_one, end))\n",
    "    if start_two!=-1:\n",
    "        edges.append((start_two, end))"
   ]
  },
  {
   "cell_type": "code",
   "execution_count": 16,
   "id": "3c3505dc-9b6b-4524-a5f5-b822913ed312",
   "metadata": {},
   "outputs": [],
   "source": [
    "with open(\"data/edges.txt\", \"w\") as fp:\n",
    "    for u, v in edges:\n",
    "        fp.write(f\"{u} {v}\\n\")"
   ]
  },
  {
   "cell_type": "code",
   "execution_count": 17,
   "id": "372ec153-7537-490c-9ab5-d1ccb47c34b6",
   "metadata": {},
   "outputs": [
    {
     "data": {
      "text/plain": [
       "(2518, 2518)"
      ]
     },
     "execution_count": 17,
     "metadata": {},
     "output_type": "execute_result"
    }
   ],
   "source": [
    "len(edges), len(set(edges))"
   ]
  },
  {
   "cell_type": "code",
   "execution_count": 18,
   "id": "87bebdb0-f1c6-4425-9d5f-af194d74c168",
   "metadata": {},
   "outputs": [],
   "source": [
    "inputs = []\n",
    "outputs = []"
   ]
  },
  {
   "cell_type": "code",
   "execution_count": 25,
   "id": "17551e7b-de87-4482-8713-e9f8d6793741",
   "metadata": {},
   "outputs": [],
   "source": [
    "torch_dataset_inputs = torch.rand(700, 23)\n",
    "for i in range(700):\n",
    "    torch_dataset_inputs[i] = torch.tensor(list(inputs[i].values())[:23])"
   ]
  },
  {
   "cell_type": "code",
   "execution_count": 26,
   "id": "3fa8aac9-7aa0-46d7-95cd-04a34e745e6d",
   "metadata": {},
   "outputs": [],
   "source": [
    "torch_dataset_outputs = torch.stack([outputs[i] for i in range(700)], dim=0)"
   ]
  },
  {
   "cell_type": "code",
   "execution_count": 19,
   "id": "3fcd1b9c-d5b1-41bd-893f-3c98d1b489fd",
   "metadata": {},
   "outputs": [],
   "source": [
    "f = open(\"data/raw/train_features_pos\")"
   ]
  },
  {
   "cell_type": "code",
   "execution_count": 20,
   "id": "b8bd2dea-454e-4333-8be3-a95ecd339672",
   "metadata": {},
   "outputs": [],
   "source": [
    "while True:\n",
    "    gg = f.readline().split(\" \")[3:-1]\n",
    "    if not gg:\n",
    "        break\n",
    "    all_pos = [int(e) for e in gg]\n",
    "    dd = {i: 1 if i in all_pos else 0 for i in range(1282)}\n",
    "    inputs.append(dd)\n",
    "    outputs.append(torch.tensor(1))"
   ]
  },
  {
   "cell_type": "code",
   "execution_count": 21,
   "id": "8fdbb662-644c-4ec4-a69b-3a282dd3ad43",
   "metadata": {},
   "outputs": [],
   "source": [
    "f = open(\"data/raw/train_features_neg\")"
   ]
  },
  {
   "cell_type": "code",
   "execution_count": 22,
   "id": "fcc7d6f7-2e93-4e6f-9ab6-101940837acc",
   "metadata": {},
   "outputs": [],
   "source": [
    "while True:\n",
    "    gg = f.readline().split(\" \")[3:-1]\n",
    "    if not gg:\n",
    "        break\n",
    "    all_pos = [int(e) for e in gg]\n",
    "    dd = {i: 1 if i in all_pos else 0 for i in range(1282)}\n",
    "    inputs.append(dd)\n",
    "    outputs.append(torch.tensor(0))"
   ]
  },
  {
   "cell_type": "code",
   "execution_count": 23,
   "id": "293add7e-6576-4eff-9a56-e6ebaaadf741",
   "metadata": {},
   "outputs": [],
   "source": [
    "num_neurons = max([max(u, v) for u, v in edges])+1"
   ]
  },
  {
   "cell_type": "code",
   "execution_count": 27,
   "id": "5251ab1f-fa40-4edf-972a-15dce3eff9db",
   "metadata": {},
   "outputs": [
    {
     "data": {
      "text/plain": [
       "1282"
      ]
     },
     "execution_count": 27,
     "metadata": {},
     "output_type": "execute_result"
    }
   ],
   "source": [
    "num_neurons"
   ]
  },
  {
   "cell_type": "code",
   "execution_count": 28,
   "id": "f4bde3a1-0aa0-4e26-abe1-82c5f42fefd4",
   "metadata": {},
   "outputs": [],
   "source": [
    "adj_list = [[] for i in range(num_neurons)]"
   ]
  },
  {
   "cell_type": "code",
   "execution_count": 29,
   "id": "8edd71b1-5e0e-40ce-a132-ddbc5c57729e",
   "metadata": {},
   "outputs": [
    {
     "data": {
      "text/plain": [
       "1282"
      ]
     },
     "execution_count": 29,
     "metadata": {},
     "output_type": "execute_result"
    }
   ],
   "source": [
    "num_neurons"
   ]
  },
  {
   "cell_type": "code",
   "execution_count": 30,
   "id": "c24699d0-3d97-48b4-8145-b353985942fb",
   "metadata": {},
   "outputs": [
    {
     "data": {
      "text/plain": [
       "1282"
      ]
     },
     "execution_count": 30,
     "metadata": {},
     "output_type": "execute_result"
    }
   ],
   "source": [
    "len(adj_list)"
   ]
  },
  {
   "cell_type": "code",
   "execution_count": 31,
   "id": "7e9e55c9-eba8-495c-a168-e2a7d52d08b4",
   "metadata": {},
   "outputs": [],
   "source": [
    "for u, v in edges:\n",
    "    adj_list[u].append(v)"
   ]
  },
  {
   "cell_type": "code",
   "execution_count": 32,
   "id": "1b1cc8ee-4f59-48a1-8529-def30f7a57e9",
   "metadata": {},
   "outputs": [],
   "source": [
    "n = Network(num_neurons, adj_list)"
   ]
  },
  {
   "cell_type": "code",
   "execution_count": 33,
   "id": "f6d655ca-ab7c-4b22-9dcd-21996a387107",
   "metadata": {},
   "outputs": [],
   "source": [
    "orig_output_neurons = n.output_neurons"
   ]
  },
  {
   "cell_type": "code",
   "execution_count": 34,
   "id": "8d441c15-178e-4b94-9ef9-2673f92e2af3",
   "metadata": {},
   "outputs": [],
   "source": [
    "adj_list.append([])\n",
    "adj_list.append([])"
   ]
  },
  {
   "cell_type": "code",
   "execution_count": 35,
   "id": "d2438b2e-c7ae-4031-8c38-08b73c513d38",
   "metadata": {},
   "outputs": [],
   "source": [
    "num_neurons = len(adj_list)"
   ]
  },
  {
   "cell_type": "code",
   "execution_count": 36,
   "id": "30b4eb2b-dd05-4e78-8584-5193a08b933a",
   "metadata": {},
   "outputs": [
    {
     "data": {
      "text/plain": [
       "1284"
      ]
     },
     "execution_count": 36,
     "metadata": {},
     "output_type": "execute_result"
    }
   ],
   "source": [
    "num_neurons"
   ]
  },
  {
   "cell_type": "code",
   "execution_count": 37,
   "id": "db39b7ed-017e-4498-be34-7b89d33f7229",
   "metadata": {},
   "outputs": [],
   "source": [
    "for i in range(num_neurons):\n",
    "    if i in orig_output_neurons:\n",
    "        adj_list[i].append(num_neurons-2)\n",
    "        adj_list[i].append(num_neurons-1)"
   ]
  },
  {
   "cell_type": "code",
   "execution_count": 38,
   "id": "4e9d25a3-7156-4077-b9cf-ee646462c80f",
   "metadata": {},
   "outputs": [
    {
     "data": {
      "text/plain": [
       "[1282, 1283]"
      ]
     },
     "execution_count": 38,
     "metadata": {},
     "output_type": "execute_result"
    }
   ],
   "source": [
    "adj_list[213]"
   ]
  },
  {
   "cell_type": "code",
   "execution_count": 39,
   "id": "9f6a7119-37cb-4708-851b-cac555bed0a1",
   "metadata": {},
   "outputs": [],
   "source": [
    "n = Network(num_neurons, adj_list)"
   ]
  },
  {
   "cell_type": "code",
   "execution_count": 40,
   "id": "44fe6335-6927-4dde-9cf5-22214a5bc6c2",
   "metadata": {},
   "outputs": [],
   "source": [
    "n.set_neuron_activation(1282, lambda x : x, lambda x : 1)"
   ]
  },
  {
   "cell_type": "code",
   "execution_count": 41,
   "id": "a56c9167-9771-44e3-b045-6e44aed0d0b1",
   "metadata": {},
   "outputs": [],
   "source": [
    "n.set_neuron_activation(1283, lambda x : x, lambda x : 1)"
   ]
  },
  {
   "cell_type": "code",
   "execution_count": 42,
   "id": "1d43800c-e163-4e82-a579-dc9679b32a5f",
   "metadata": {},
   "outputs": [
    {
     "data": {
      "text/plain": [
       "<function torch.nn.functional.cross_entropy(input: torch.Tensor, target: torch.Tensor, weight: Union[torch.Tensor, NoneType] = None, size_average: Union[bool, NoneType] = None, ignore_index: int = -100, reduce: Union[bool, NoneType] = None, reduction: str = 'mean', label_smoothing: float = 0.0) -> torch.Tensor>"
      ]
     },
     "execution_count": 42,
     "metadata": {},
     "output_type": "execute_result"
    }
   ],
   "source": [
    "F.cross_entropy"
   ]
  },
  {
   "cell_type": "code",
   "execution_count": 43,
   "id": "d3fcfaf8-03b2-4b6f-b2f6-7f3f184314d1",
   "metadata": {},
   "outputs": [],
   "source": [
    "dataset = [(inputs[i], outputs[i]) for i in range(len(inputs))]\n",
    "random.shuffle(dataset)"
   ]
  },
  {
   "cell_type": "code",
   "execution_count": 44,
   "id": "15a93055-1611-452e-b975-126f08adc5c7",
   "metadata": {},
   "outputs": [],
   "source": [
    "random.shuffle(dataset)"
   ]
  },
  {
   "cell_type": "code",
   "execution_count": 55,
   "id": "891f8d8a-5c05-4073-9114-2f307cd95cf6",
   "metadata": {},
   "outputs": [
    {
     "data": {
      "application/vnd.jupyter.widget-view+json": {
       "model_id": "da0a6ee313d84deebcc88ffe886d0eb0",
       "version_major": 2,
       "version_minor": 0
      },
      "text/plain": [
       "  0%|          | 0/700 [00:00<?, ?it/s]"
      ]
     },
     "metadata": {},
     "output_type": "display_data"
    },
    {
     "data": {
      "image/png": "[encoded data removed]",
      "text/plain": [
       "<Figure size 432x288 with 1 Axes>"
      ]
     },
     "metadata": {
      "needs_background": "light"
     },
     "output_type": "display_data"
    }
   ],
   "source": [
    "optimizer = torch.optim.Adam(n.parameters(), lr=0.001)\n",
    "losses = []\n",
    "for i in trange(len(dataset)):\n",
    "    f_mapper = dataset[i][0]\n",
    "    f_mapper[1282]=1\n",
    "    f_mapper[1283]=1\n",
    "    out = n.forward(f_mapper).reshape(1, -1)\n",
    "    loss = F.cross_entropy(out, dataset[i][1].reshape(1))\n",
    "    losses.append(loss.item())\n",
    "    loss.backward()\n",
    "    optimizer.step()\n",
    "    optimizer.zero_grad()\n",
    "    n.reset()\n",
    "# print(n.weights)\n",
    "plt.plot(losses)\n",
    "plt.show()"
   ]
  },
  {
   "cell_type": "code",
   "execution_count": 47,
   "id": "9e8fd7c9-3bcd-487d-9ae7-32b64856a8a7",
   "metadata": {},
   "outputs": [],
   "source": [
    "n.reset()"
   ]
  },
  {
   "cell_type": "code",
   "execution_count": 46,
   "id": "d02dd33f-f939-449a-a5b0-d636b0c76a09",
   "metadata": {},
   "outputs": [],
   "source": [
    "dataset = [(inputs[i], outputs[i]) for i in range(len(inputs))]"
   ]
  },
  {
   "cell_type": "code",
   "execution_count": 47,
   "id": "e87f9e03-192f-4608-b95d-fb343ae9230a",
   "metadata": {},
   "outputs": [],
   "source": [
    "random.shuffle(dataset)"
   ]
  },
  {
   "cell_type": "code",
   "execution_count": 48,
   "id": "426fe997-7381-4952-8792-5575848a40b8",
   "metadata": {},
   "outputs": [
    {
     "data": {
      "text/plain": [
       "tensor(1)"
      ]
     },
     "execution_count": 48,
     "metadata": {},
     "output_type": "execute_result"
    }
   ],
   "source": [
    "dataset[21][1]"
   ]
  },
  {
   "cell_type": "code",
   "execution_count": 49,
   "id": "b511c5cc-ead1-4d78-a696-2ffe84c520b9",
   "metadata": {},
   "outputs": [
    {
     "data": {
      "application/vnd.jupyter.widget-view+json": {
       "model_id": "230e681eb241413db5a90456c35a0943",
       "version_major": 2,
       "version_minor": 0
      },
      "text/plain": [
       "  0%|          | 0/700 [00:00<?, ?it/s]"
      ]
     },
     "metadata": {},
     "output_type": "display_data"
    },
    {
     "name": "stdout",
     "output_type": "stream",
     "text": [
      "100.0\n",
      "[]\n"
     ]
    }
   ],
   "source": [
    "optimizer = torch.optim.Adam(n.parameters(), lr=0.001)\n",
    "losses = []\n",
    "correct = 0\n",
    "for i in trange(len(dataset)):\n",
    "    f_mapper = dataset[i][0]\n",
    "    f_mapper[1282]=1\n",
    "    f_mapper[1283]=1\n",
    "    out = n.forward(f_mapper).reshape(1, -1)\n",
    "    correct += 1 if torch.argmax(out)==dataset[i][1] else 0\n",
    "    n.reset()\n",
    "print(correct/700*100)\n",
    "# print(n.weights)\n",
    "print(losses)\n",
    "# plt.plot(losses)\n",
    "# plt.show()"
   ]
  },
  {
   "cell_type": "code",
   "execution_count": 50,
   "id": "4028cb9e-b132-4612-b088-6b319cd4dcf4",
   "metadata": {},
   "outputs": [
    {
     "name": "stdout",
     "output_type": "stream",
     "text": [
      "Collecting ipywidgets\n",
      "  Downloading ipywidgets-7.6.5-py2.py3-none-any.whl (121 kB)\n",
      "\u001b[K     |████████████████████████████████| 121 kB 720 kB/s eta 0:00:01\n",
      "\u001b[?25hRequirement already satisfied: ipython>=4.0.0 in /home/dell7810/anaconda3/envs/crm/lib/python3.8/site-packages (from ipywidgets) (7.27.0)\n",
      "Requirement already satisfied: ipykernel>=4.5.1 in /home/dell7810/anaconda3/envs/crm/lib/python3.8/site-packages (from ipywidgets) (6.4.1)\n",
      "Requirement already satisfied: ipython-genutils~=0.2.0 in /home/dell7810/anaconda3/envs/crm/lib/python3.8/site-packages (from ipywidgets) (0.2.0)\n",
      "Collecting widgetsnbextension~=3.5.0\n",
      "  Downloading widgetsnbextension-3.5.2-py2.py3-none-any.whl (1.6 MB)\n",
      "\u001b[K     |████████████████████████████████| 1.6 MB 3.8 MB/s eta 0:00:01\n",
      "\u001b[?25hRequirement already satisfied: nbformat>=4.2.0 in /home/dell7810/anaconda3/envs/crm/lib/python3.8/site-packages (from ipywidgets) (5.1.3)\n",
      "Requirement already satisfied: traitlets>=4.3.1 in /home/dell7810/anaconda3/envs/crm/lib/python3.8/site-packages (from ipywidgets) (5.1.0)\n",
      "Collecting jupyterlab-widgets>=1.0.0\n",
      "  Downloading jupyterlab_widgets-1.0.2-py3-none-any.whl (243 kB)\n",
      "\u001b[K     |████████████████████████████████| 243 kB 34.9 MB/s eta 0:00:01\n",
      "\u001b[?25hRequirement already satisfied: matplotlib-inline<0.2.0,>=0.1.0 in /home/dell7810/anaconda3/envs/crm/lib/python3.8/site-packages (from ipykernel>=4.5.1->ipywidgets) (0.1.2)\n",
      "Requirement already satisfied: jupyter-client<8.0 in /home/dell7810/anaconda3/envs/crm/lib/python3.8/site-packages (from ipykernel>=4.5.1->ipywidgets) (7.0.1)\n",
      "Requirement already satisfied: debugpy<2.0,>=1.0.0 in /home/dell7810/anaconda3/envs/crm/lib/python3.8/site-packages (from ipykernel>=4.5.1->ipywidgets) (1.4.1)\n",
      "Requirement already satisfied: tornado<7.0,>=4.2 in /home/dell7810/anaconda3/envs/crm/lib/python3.8/site-packages (from ipykernel>=4.5.1->ipywidgets) (6.1)\n",
      "Requirement already satisfied: pexpect>4.3 in /home/dell7810/anaconda3/envs/crm/lib/python3.8/site-packages (from ipython>=4.0.0->ipywidgets) (4.8.0)\n",
      "Requirement already satisfied: prompt-toolkit!=3.0.0,!=3.0.1,<3.1.0,>=2.0.0 in /home/dell7810/anaconda3/envs/crm/lib/python3.8/site-packages (from ipython>=4.0.0->ipywidgets) (3.0.20)\n",
      "Requirement already satisfied: pygments in /home/dell7810/anaconda3/envs/crm/lib/python3.8/site-packages (from ipython>=4.0.0->ipywidgets) (2.10.0)\n",
      "Requirement already satisfied: backcall in /home/dell7810/anaconda3/envs/crm/lib/python3.8/site-packages (from ipython>=4.0.0->ipywidgets) (0.2.0)\n",
      "Requirement already satisfied: jedi>=0.16 in /home/dell7810/anaconda3/envs/crm/lib/python3.8/site-packages (from ipython>=4.0.0->ipywidgets) (0.18.0)\n",
      "Requirement already satisfied: decorator in /home/dell7810/anaconda3/envs/crm/lib/python3.8/site-packages (from ipython>=4.0.0->ipywidgets) (5.1.0)\n",
      "Requirement already satisfied: pickleshare in /home/dell7810/anaconda3/envs/crm/lib/python3.8/site-packages (from ipython>=4.0.0->ipywidgets) (0.7.5)\n",
      "Requirement already satisfied: setuptools>=18.5 in /home/dell7810/anaconda3/envs/crm/lib/python3.8/site-packages (from ipython>=4.0.0->ipywidgets) (58.0.4)\n",
      "Requirement already satisfied: parso<0.9.0,>=0.8.0 in /home/dell7810/anaconda3/envs/crm/lib/python3.8/site-packages (from jedi>=0.16->ipython>=4.0.0->ipywidgets) (0.8.2)\n",
      "Requirement already satisfied: entrypoints in /home/dell7810/anaconda3/envs/crm/lib/python3.8/site-packages (from jupyter-client<8.0->ipykernel>=4.5.1->ipywidgets) (0.3)\n",
      "Requirement already satisfied: jupyter-core>=4.6.0 in /home/dell7810/anaconda3/envs/crm/lib/python3.8/site-packages (from jupyter-client<8.0->ipykernel>=4.5.1->ipywidgets) (4.8.1)\n",
      "Requirement already satisfied: nest-asyncio>=1.5 in /home/dell7810/anaconda3/envs/crm/lib/python3.8/site-packages (from jupyter-client<8.0->ipykernel>=4.5.1->ipywidgets) (1.5.1)\n",
      "Requirement already satisfied: python-dateutil>=2.1 in /home/dell7810/anaconda3/envs/crm/lib/python3.8/site-packages (from jupyter-client<8.0->ipykernel>=4.5.1->ipywidgets) (2.8.2)\n",
      "Requirement already satisfied: pyzmq>=13 in /home/dell7810/anaconda3/envs/crm/lib/python3.8/site-packages (from jupyter-client<8.0->ipykernel>=4.5.1->ipywidgets) (22.2.1)\n",
      "Requirement already satisfied: jsonschema!=2.5.0,>=2.4 in /home/dell7810/anaconda3/envs/crm/lib/python3.8/site-packages (from nbformat>=4.2.0->ipywidgets) (4.1.2)\n",
      "Requirement already satisfied: pyrsistent!=0.17.0,!=0.17.1,!=0.17.2,>=0.14.0 in /home/dell7810/anaconda3/envs/crm/lib/python3.8/site-packages (from jsonschema!=2.5.0,>=2.4->nbformat>=4.2.0->ipywidgets) (0.17.3)\n",
      "Requirement already satisfied: attrs>=17.4.0 in /home/dell7810/anaconda3/envs/crm/lib/python3.8/site-packages (from jsonschema!=2.5.0,>=2.4->nbformat>=4.2.0->ipywidgets) (21.2.0)\n",
      "Requirement already satisfied: ptyprocess>=0.5 in /home/dell7810/anaconda3/envs/crm/lib/python3.8/site-packages (from pexpect>4.3->ipython>=4.0.0->ipywidgets) (0.7.0)\n",
      "Requirement already satisfied: wcwidth in /home/dell7810/anaconda3/envs/crm/lib/python3.8/site-packages (from prompt-toolkit!=3.0.0,!=3.0.1,<3.1.0,>=2.0.0->ipython>=4.0.0->ipywidgets) (0.2.5)\n",
      "Requirement already satisfied: six>=1.5 in /home/dell7810/anaconda3/envs/crm/lib/python3.8/site-packages (from python-dateutil>=2.1->jupyter-client<8.0->ipykernel>=4.5.1->ipywidgets) (1.16.0)\n",
      "Requirement already satisfied: notebook>=4.4.1 in /home/dell7810/anaconda3/envs/crm/lib/python3.8/site-packages (from widgetsnbextension~=3.5.0->ipywidgets) (6.4.5)\n",
      "Requirement already satisfied: argon2-cffi in /home/dell7810/anaconda3/envs/crm/lib/python3.8/site-packages (from notebook>=4.4.1->widgetsnbextension~=3.5.0->ipywidgets) (21.1.0)\n",
      "Requirement already satisfied: nbconvert in /home/dell7810/anaconda3/envs/crm/lib/python3.8/site-packages (from notebook>=4.4.1->widgetsnbextension~=3.5.0->ipywidgets) (6.2.0)\n",
      "Requirement already satisfied: Send2Trash>=1.5.0 in /home/dell7810/anaconda3/envs/crm/lib/python3.8/site-packages (from notebook>=4.4.1->widgetsnbextension~=3.5.0->ipywidgets) (1.8.0)\n",
      "Requirement already satisfied: terminado>=0.8.3 in /home/dell7810/anaconda3/envs/crm/lib/python3.8/site-packages (from notebook>=4.4.1->widgetsnbextension~=3.5.0->ipywidgets) (0.12.1)\n",
      "Requirement already satisfied: jinja2 in /home/dell7810/anaconda3/envs/crm/lib/python3.8/site-packages (from notebook>=4.4.1->widgetsnbextension~=3.5.0->ipywidgets) (3.0.2)\n",
      "Requirement already satisfied: prometheus-client in /home/dell7810/anaconda3/envs/crm/lib/python3.8/site-packages (from notebook>=4.4.1->widgetsnbextension~=3.5.0->ipywidgets) (0.12.0)\n",
      "Requirement already satisfied: cffi>=1.0.0 in /home/dell7810/anaconda3/envs/crm/lib/python3.8/site-packages (from argon2-cffi->notebook>=4.4.1->widgetsnbextension~=3.5.0->ipywidgets) (1.14.6)\n",
      "Requirement already satisfied: pycparser in /home/dell7810/anaconda3/envs/crm/lib/python3.8/site-packages (from cffi>=1.0.0->argon2-cffi->notebook>=4.4.1->widgetsnbextension~=3.5.0->ipywidgets) (2.20)\n",
      "Requirement already satisfied: MarkupSafe>=2.0 in /home/dell7810/anaconda3/envs/crm/lib/python3.8/site-packages (from jinja2->notebook>=4.4.1->widgetsnbextension~=3.5.0->ipywidgets) (2.0.1)\n",
      "Requirement already satisfied: mistune<2,>=0.8.1 in /home/dell7810/anaconda3/envs/crm/lib/python3.8/site-packages (from nbconvert->notebook>=4.4.1->widgetsnbextension~=3.5.0->ipywidgets) (0.8.4)\n",
      "Requirement already satisfied: pandocfilters>=1.4.1 in /home/dell7810/anaconda3/envs/crm/lib/python3.8/site-packages (from nbconvert->notebook>=4.4.1->widgetsnbextension~=3.5.0->ipywidgets) (1.5.0)\n",
      "Requirement already satisfied: defusedxml in /home/dell7810/anaconda3/envs/crm/lib/python3.8/site-packages (from nbconvert->notebook>=4.4.1->widgetsnbextension~=3.5.0->ipywidgets) (0.7.1)\n",
      "Requirement already satisfied: nbclient<0.6.0,>=0.5.0 in /home/dell7810/anaconda3/envs/crm/lib/python3.8/site-packages (from nbconvert->notebook>=4.4.1->widgetsnbextension~=3.5.0->ipywidgets) (0.5.4)\n",
      "Requirement already satisfied: jupyterlab-pygments in /home/dell7810/anaconda3/envs/crm/lib/python3.8/site-packages (from nbconvert->notebook>=4.4.1->widgetsnbextension~=3.5.0->ipywidgets) (0.1.2)\n",
      "Requirement already satisfied: bleach in /home/dell7810/anaconda3/envs/crm/lib/python3.8/site-packages (from nbconvert->notebook>=4.4.1->widgetsnbextension~=3.5.0->ipywidgets) (4.1.0)\n",
      "Requirement already satisfied: testpath in /home/dell7810/anaconda3/envs/crm/lib/python3.8/site-packages (from nbconvert->notebook>=4.4.1->widgetsnbextension~=3.5.0->ipywidgets) (0.5.0)\n",
      "Requirement already satisfied: packaging in /home/dell7810/anaconda3/envs/crm/lib/python3.8/site-packages (from bleach->nbconvert->notebook>=4.4.1->widgetsnbextension~=3.5.0->ipywidgets) (21.2)\n",
      "Requirement already satisfied: webencodings in /home/dell7810/anaconda3/envs/crm/lib/python3.8/site-packages (from bleach->nbconvert->notebook>=4.4.1->widgetsnbextension~=3.5.0->ipywidgets) (0.5.1)\n",
      "Collecting pyparsing<3,>=2.0.2\n",
      "  Using cached pyparsing-2.4.7-py2.py3-none-any.whl (67 kB)\n",
      "Installing collected packages: pyparsing, widgetsnbextension, jupyterlab-widgets, ipywidgets\n",
      "  Attempting uninstall: pyparsing\n",
      "    Found existing installation: pyparsing 3.0.4\n",
      "    Uninstalling pyparsing-3.0.4:\n",
      "      Successfully uninstalled pyparsing-3.0.4\n",
      "Successfully installed ipywidgets-7.6.5 jupyterlab-widgets-1.0.2 pyparsing-2.4.7 widgetsnbextension-3.5.2\n"
     ]
    }
   ],
   "source": [
    "!pip install ipywidgets"
   ]
  },
  {
   "cell_type": "code",
   "execution_count": 184,
   "id": "f3291e10-ce22-45a2-a665-3b8b91911ab9",
   "metadata": {},
   "outputs": [
    {
     "data": {
      "application/vnd.jupyter.widget-view+json": {
       "model_id": "0725861ea8d04a2ea35cb17cf89c2983",
       "version_major": 2,
       "version_minor": 0
      },
      "text/plain": [
       "  0%|          | 0/700 [00:00<?, ?it/s]"
      ]
     },
     "metadata": {},
     "output_type": "display_data"
    },
    {
     "name": "stdout",
     "output_type": "stream",
     "text": [
      "100.0\n",
      "[]\n"
     ]
    }
   ],
   "source": [
    "optimizer = torch.optim.Adam(n.parameters(), lr=0.001)\n",
    "losses = []\n",
    "correct = 0\n",
    "for i in trange(len(dataset)):\n",
    "    f_mapper = dataset[i][0]\n",
    "    f_mapper[1282]=1\n",
    "    f_mapper[1283]=1\n",
    "    out = n.forward(f_mapper).reshape(1, -1)\n",
    "    correct += 1 if torch.argmax(out)==dataset[i][1] else 0\n",
    "    n.reset()\n",
    "print(correct/700*100)\n",
    "# print(n.weights)\n",
    "print(losses)\n",
    "# plt.plot(losses)\n",
    "# plt.show()"
   ]
  },
  {
   "cell_type": "code",
   "execution_count": 49,
   "id": "c38bab02-d0e1-4b26-9ba8-5cfdefd6e398",
   "metadata": {},
   "outputs": [
    {
     "name": "stdout",
     "output_type": "stream",
     "text": [
      "Defaulting to user installation because normal site-packages is not writeable\n",
      "Requirement already satisfied: dill in /home/think__tech/.local/lib/python3.6/site-packages (0.3.3)\n",
      "\u001b[33mWARNING: You are using pip version 21.2.4; however, version 21.3.1 is available.\n",
      "You should consider upgrading via the '/usr/bin/python3 -m pip install --upgrade pip' command.\u001b[0m\n"
     ]
    }
   ],
   "source": [
    "!pip install dill"
   ]
  },
  {
   "cell_type": "code",
   "execution_count": 58,
   "id": "a2e9840a-21d0-4e3c-8fad-7d58f4be8691",
   "metadata": {},
   "outputs": [],
   "source": [
    "import dill"
   ]
  },
  {
   "cell_type": "code",
   "execution_count": 58,
   "id": "50866cde-fd37-43bd-8835-5bec8ea3014e",
   "metadata": {},
   "outputs": [],
   "source": [
    "class Demo:\n",
    "    def __init__(self):\n",
    "        self.wow = 10\n",
    "        self.damn = lambda x: 10*x\n",
    "\n",
    "d = Demo()\n",
    "with open('demo.pkl', 'wb') as f:\n",
    "    dill.dump(d, f)"
   ]
  },
  {
   "cell_type": "code",
   "execution_count": 65,
   "id": "94f81a36-0cf1-47f4-a5d8-e99970303f96",
   "metadata": {},
   "outputs": [],
   "source": [
    "save_object(d, \"demo.pkl\")"
   ]
  },
  {
   "cell_type": "code",
   "execution_count": 66,
   "id": "7d821366-627f-4df0-b2af-66ba6c693a7c",
   "metadata": {},
   "outputs": [],
   "source": [
    "d_dill_new =load_object(\"demo.pkl\")"
   ]
  },
  {
   "cell_type": "code",
   "execution_count": 67,
   "id": "d92604c2-6c11-413b-b858-8aaf6e8fd743",
   "metadata": {},
   "outputs": [
    {
     "data": {
      "text/plain": [
       "1020"
      ]
     },
     "execution_count": 67,
     "metadata": {},
     "output_type": "execute_result"
    }
   ],
   "source": [
    "d_dill_new.damn(102)"
   ]
  },
  {
   "cell_type": "code",
   "execution_count": 59,
   "id": "ed1fd125-980c-40d8-a8fa-ae63af00df97",
   "metadata": {},
   "outputs": [],
   "source": [
    "with open('demo.pkl', 'rb') as f:\n",
    "    d_dill = dill.load(f)"
   ]
  },
  {
   "cell_type": "code",
   "execution_count": 62,
   "id": "19c0896f-2b69-435e-bf4f-54ab74f3ef4d",
   "metadata": {},
   "outputs": [
    {
     "data": {
      "text/plain": [
       "100"
      ]
     },
     "execution_count": 62,
     "metadata": {},
     "output_type": "execute_result"
    }
   ],
   "source": [
    "d_dill.damn(10)"
   ]
  },
  {
   "cell_type": "code",
   "execution_count": null,
   "id": "e111b439-d74b-4117-8d38-7edcf0b82039",
   "metadata": {},
   "outputs": [],
   "source": [
    "dill.dump()"
   ]
  },
  {
   "cell_type": "code",
   "execution_count": 59,
   "id": "d31e7aaa-3228-4109-b196-755cad0062ac",
   "metadata": {},
   "outputs": [],
   "source": [
    "save_object(n, \"network_100.pkl\")"
   ]
  },
  {
   "cell_type": "code",
   "execution_count": 60,
   "id": "7b91bd42-5228-40a6-ac34-6b9e68639f9d",
   "metadata": {},
   "outputs": [],
   "source": [
    "loaded_network_n = load_object(\"network_100.pkl\")"
   ]
  },
  {
   "cell_type": "code",
   "execution_count": 70,
   "id": "4d1168fb-b455-4a5f-a000-e2aeb12103ee",
   "metadata": {},
   "outputs": [],
   "source": [
    "loaded_network_n.reset()"
   ]
  },
  {
   "cell_type": "code",
   "execution_count": 71,
   "id": "adbe0096-07f1-4e06-86d3-684e8af55501",
   "metadata": {},
   "outputs": [
    {
     "data": {
      "application/vnd.jupyter.widget-view+json": {
       "model_id": "a268795de26149149a6f4633f82b23c3",
       "version_major": 2,
       "version_minor": 0
      },
      "text/plain": [
       "  0%|          | 0/700 [00:00<?, ?it/s]"
      ]
     },
     "metadata": {},
     "output_type": "display_data"
    },
    {
     "name": "stdout",
     "output_type": "stream",
     "text": [
      "100.0\n",
      "[]\n"
     ]
    }
   ],
   "source": [
    "optimizer = torch.optim.Adam(n.parameters(), lr=0.001)\n",
    "losses = []\n",
    "correct = 0\n",
    "for i in trange(len(dataset)):\n",
    "    f_mapper = dataset[i][0]\n",
    "    f_mapper[1282]=1\n",
    "    f_mapper[1283]=1\n",
    "    out = loaded_network_n.forward(f_mapper).reshape(1, -1)\n",
    "    correct += 1 if torch.argmax(out)==dataset[i][1] else 0\n",
    "    loaded_network_n.reset()\n",
    "print(correct/700*100)\n",
    "# print(n.weights)\n",
    "print(losses)\n",
    "# plt.plot(losses)\n",
    "# plt.show()"
   ]
  },
  {
   "cell_type": "code",
   "execution_count": 63,
   "id": "c40a46b0-1d07-4a69-bbc2-6249657714f5",
   "metadata": {},
   "outputs": [
    {
     "data": {
      "text/plain": [
       "4992"
      ]
     },
     "execution_count": 63,
     "metadata": {},
     "output_type": "execute_result"
    }
   ],
   "source": [
    "len(n.weights)"
   ]
  },
  {
   "cell_type": "code",
   "execution_count": 64,
   "id": "884e4bb8-e984-4617-a6af-57145f0c9a2b",
   "metadata": {},
   "outputs": [],
   "source": [
    "save_object(n.weights, \"weights_100.pkl\")"
   ]
  },
  {
   "cell_type": "code",
   "execution_count": 45,
   "id": "6d9b26ea-5070-427d-9d3c-5c621a003df5",
   "metadata": {},
   "outputs": [],
   "source": [
    "w = load_object(\"weights_100.pkl\")"
   ]
  },
  {
   "cell_type": "code",
   "execution_count": 46,
   "id": "6763e877-f807-41c0-8de1-20ff296a9cdb",
   "metadata": {},
   "outputs": [],
   "source": [
    "n.weights = w"
   ]
  },
  {
   "cell_type": "code",
   "execution_count": 54,
   "id": "66876e77-4168-4a1c-807f-65ac69c0a7ad",
   "metadata": {},
   "outputs": [],
   "source": [
    "# https://math.stackexchange.com/questions/945871/derivative-of-softmax-loss-function\n",
    "import torch\n",
    "for f in f_mapper_global:\n",
    "    f[1282]=1\n",
    "    f[1283]=1\n",
    "    n.reset()\n",
    "    o = n.forward(f)\n",
    "    if o[0]!=torch.tensor([0.]):\n",
    "        print(o)\n",
    "        break"
   ]
  },
  {
   "cell_type": "code",
   "execution_count": 60,
   "id": "51a51f0d-b1be-4142-8e8a-5b731e051325",
   "metadata": {},
   "outputs": [],
   "source": [
    "m = torch.nn.Sequential(torch.nn.Linear(10, 100))"
   ]
  },
  {
   "cell_type": "code",
   "execution_count": 72,
   "id": "dde0ccb1-4e64-4709-bd07-99e878aa016a",
   "metadata": {},
   "outputs": [
    {
     "data": {
      "text/plain": [
       "Parameter containing:\n",
       "tensor([ 0.2583, -0.2650, -0.1380,  0.2627, -0.0312,  0.1305, -0.2825,  0.2821,\n",
       "        -0.1505, -0.1986,  0.1177, -0.0656, -0.2120,  0.2727,  0.2055,  0.2070,\n",
       "         0.0710,  0.1732,  0.0441,  0.2178,  0.0877,  0.0890, -0.2641,  0.1323,\n",
       "         0.2862,  0.1050, -0.0550,  0.0561,  0.1339,  0.1444, -0.1224,  0.0247,\n",
       "        -0.2285, -0.1712,  0.2991,  0.2760,  0.3068, -0.2236,  0.1844,  0.2605,\n",
       "         0.1401, -0.1417,  0.0496, -0.2446,  0.2426,  0.2560,  0.0176, -0.0214,\n",
       "         0.0734, -0.2629, -0.1454, -0.0164, -0.2263, -0.1252,  0.2839,  0.1112,\n",
       "        -0.1526, -0.2420,  0.1288, -0.2328, -0.1631, -0.2980, -0.2495,  0.0282,\n",
       "         0.2589,  0.1794, -0.2060,  0.0578, -0.1831, -0.0485,  0.1794,  0.1493,\n",
       "        -0.2882, -0.2283,  0.1230, -0.0346,  0.0167, -0.0178,  0.0618,  0.3064,\n",
       "         0.2408, -0.1345,  0.1730,  0.0623,  0.2448,  0.2489,  0.2486, -0.2769,\n",
       "         0.0622, -0.0840, -0.0709,  0.1767, -0.0693,  0.1541,  0.2729,  0.1055,\n",
       "         0.1617, -0.2165, -0.3010, -0.0245], requires_grad=True)"
      ]
     },
     "execution_count": 72,
     "metadata": {},
     "output_type": "execute_result"
    }
   ],
   "source": [
    "list(m.parameters())[1]"
   ]
  },
  {
   "cell_type": "code",
   "execution_count": 78,
   "id": "61b821d8-007a-4a6d-89d6-b598c94fa8ea",
   "metadata": {},
   "outputs": [],
   "source": [
    "input_neurons = []\n",
    "for neuron in n.neurons:\n",
    "    if len(neuron.predeccesor_neurons)==0:\n",
    "        input_neurons.append(neuron.n_id)"
   ]
  },
  {
   "cell_type": "code",
   "execution_count": 92,
   "id": "53de15b5-a045-4c30-b41c-640e68181bb6",
   "metadata": {},
   "outputs": [
    {
     "data": {
      "text/plain": [
       "[0,\n",
       " 1,\n",
       " 2,\n",
       " 3,\n",
       " 4,\n",
       " 5,\n",
       " 6,\n",
       " 7,\n",
       " 8,\n",
       " 9,\n",
       " 10,\n",
       " 11,\n",
       " 12,\n",
       " 13,\n",
       " 14,\n",
       " 15,\n",
       " 16,\n",
       " 17,\n",
       " 18,\n",
       " 19,\n",
       " 20,\n",
       " 21,\n",
       " 22]"
      ]
     },
     "execution_count": 92,
     "metadata": {},
     "output_type": "execute_result"
    }
   ],
   "source": [
    "input_neurons"
   ]
  },
  {
   "cell_type": "code",
   "execution_count": 110,
   "id": "0331c56b-f622-47ac-8d26-28ce34e0909a",
   "metadata": {},
   "outputs": [],
   "source": [
    "class MLP(nn.Module):\n",
    "    def __init__(self, inp_dim, out_dim):\n",
    "        super(MLP, self).__init__()\n",
    "        self.mlp = nn.Sequential(nn.Linear(inp_dim, 64), nn.ReLU(), nn.Linear(64, 32),nn.ReLU(), nn.Linear(32, 2))\n",
    "    def forward(self, x):\n",
    "        return self.mlp(x)"
   ]
  },
  {
   "cell_type": "code",
   "execution_count": 166,
   "id": "cf112802-8124-4684-985f-b89b373430c5",
   "metadata": {},
   "outputs": [],
   "source": [
    "mlp = MLP(23, 2)"
   ]
  },
  {
   "cell_type": "code",
   "execution_count": 167,
   "id": "d020a3aa-c6d6-4d05-a4db-846b20d5bef2",
   "metadata": {},
   "outputs": [],
   "source": [
    "losses = []"
   ]
  },
  {
   "cell_type": "code",
   "execution_count": 168,
   "id": "552d7c03-e469-4497-80d7-606e56c9de18",
   "metadata": {},
   "outputs": [
    {
     "data": {
      "image/png": "[encoded data removed]",
      "text/plain": [
       "<Figure size 432x288 with 1 Axes>"
      ]
     },
     "metadata": {
      "needs_background": "light"
     },
     "output_type": "display_data"
    }
   ],
   "source": [
    "num_epochs = 600\n",
    "optimizer = torch.optim.Adam(mlp.parameters(), lr=0.01)\n",
    "\n",
    "for i in range(num_epochs):\n",
    "    out = mlp(torch_dataset_inputs)\n",
    "    loss = F.cross_entropy(out, torch_dataset_outputs)\n",
    "    losses.append(loss.item())\n",
    "    loss.backward()\n",
    "    optimizer.step()\n",
    "    optimizer.zero_grad()\n",
    "plt.plot(losses)\n",
    "plt.show()"
   ]
  },
  {
   "cell_type": "code",
   "execution_count": 169,
   "id": "33532ceb-ce7e-4c12-8aa2-7f4de084f09c",
   "metadata": {},
   "outputs": [
    {
     "data": {
      "text/plain": [
       "0.21631726622581482"
      ]
     },
     "execution_count": 169,
     "metadata": {},
     "output_type": "execute_result"
    }
   ],
   "source": [
    "losses[-1]"
   ]
  },
  {
   "cell_type": "code",
   "execution_count": 170,
   "id": "f8f8c7a4-837b-4104-8bc8-127eff50f8e8",
   "metadata": {},
   "outputs": [],
   "source": [
    "trained_out = mlp(torch_dataset_inputs)"
   ]
  },
  {
   "cell_type": "code",
   "execution_count": 178,
   "id": "5ec891e2-95fe-484a-90c0-a0370d75a9a2",
   "metadata": {},
   "outputs": [
    {
     "data": {
      "text/plain": [
       "tensor(613)"
      ]
     },
     "execution_count": 178,
     "metadata": {},
     "output_type": "execute_result"
    }
   ],
   "source": [
    "(torch.argmax(trained_out, dim=1) == torch_dataset_outputs).sum()"
   ]
  },
  {
   "cell_type": "code",
   "execution_count": 179,
   "id": "3be3ac9a-aaaf-481e-853e-5c5bd1c12fae",
   "metadata": {},
   "outputs": [
    {
     "data": {
      "text/plain": [
       "0.8757142857142857"
      ]
     },
     "execution_count": 179,
     "metadata": {},
     "output_type": "execute_result"
    }
   ],
   "source": [
    "613/700"
   ]
  },
  {
   "cell_type": "code",
   "execution_count": 181,
   "id": "a81c25ac-bec5-4c1e-9812-7d313da1168c",
   "metadata": {},
   "outputs": [],
   "source": [
    "torch.jit.script(mlp).save(\"torch_model_87_57.pt\")"
   ]
  },
  {
   "cell_type": "code",
   "execution_count": 191,
   "id": "f30ef623-dffc-455e-b5dd-1b65a0816e9d",
   "metadata": {},
   "outputs": [
    {
     "data": {
      "text/plain": [
       "Linear(in_features=23, out_features=64, bias=True)"
      ]
     },
     "execution_count": 191,
     "metadata": {},
     "output_type": "execute_result"
    }
   ],
   "source": [
    "mlp.mlp[0]"
   ]
  },
  {
   "cell_type": "code",
   "execution_count": 198,
   "id": "ec341350-ee34-4ef0-a6b8-7cb03652d9c2",
   "metadata": {},
   "outputs": [
    {
     "ename": "AssertionError",
     "evalue": "Cannot choose target column with output shape torch.Size([2]).",
     "output_type": "error",
     "traceback": [
      "\u001b[0;31m---------------------------------------------------------------------------\u001b[0m",
      "\u001b[0;31mAssertionError\u001b[0m                            Traceback (most recent call last)",
      "\u001b[0;32m<ipython-input-198-1d9b3e234d00>\u001b[0m in \u001b[0;36m<module>\u001b[0;34m\u001b[0m\n\u001b[1;32m      2\u001b[0m \u001b[0mlrp\u001b[0m \u001b[0;34m=\u001b[0m \u001b[0mLayerLRP\u001b[0m\u001b[0;34m(\u001b[0m\u001b[0mmlp\u001b[0m\u001b[0;34m,\u001b[0m \u001b[0mmlp\u001b[0m\u001b[0;34m.\u001b[0m\u001b[0mmlp\u001b[0m\u001b[0;34m[\u001b[0m\u001b[0;36m0\u001b[0m\u001b[0;34m]\u001b[0m\u001b[0;34m)\u001b[0m\u001b[0;34m\u001b[0m\u001b[0;34m\u001b[0m\u001b[0m\n\u001b[1;32m      3\u001b[0m \u001b[0;31m# Attribution size matches input size: 3x3x32x32\u001b[0m\u001b[0;34m\u001b[0m\u001b[0;34m\u001b[0m\u001b[0;34m\u001b[0m\u001b[0m\n\u001b[0;32m----> 4\u001b[0;31m \u001b[0mattribution\u001b[0m \u001b[0;34m=\u001b[0m \u001b[0mlrp\u001b[0m\u001b[0;34m.\u001b[0m\u001b[0mattribute\u001b[0m\u001b[0;34m(\u001b[0m\u001b[0mtorch_dataset_inputs\u001b[0m\u001b[0;34m[\u001b[0m\u001b[0;36m0\u001b[0m\u001b[0;34m]\u001b[0m\u001b[0;34m,\u001b[0m \u001b[0mtarget\u001b[0m\u001b[0;34m=\u001b[0m\u001b[0;36m1\u001b[0m\u001b[0;34m)\u001b[0m\u001b[0;34m\u001b[0m\u001b[0;34m\u001b[0m\u001b[0m\n\u001b[0m",
      "\u001b[0;32m~/.local/lib/python3.6/site-packages/captum/attr/_core/layer/layer_lrp.py\u001b[0m in \u001b[0;36mattribute\u001b[0;34m(self, inputs, target, additional_forward_args, return_convergence_delta, attribute_to_layer_input, verbose)\u001b[0m\n\u001b[1;32m    218\u001b[0m             \u001b[0;31m# 1. Forward pass\u001b[0m\u001b[0;34m\u001b[0m\u001b[0;34m\u001b[0m\u001b[0;34m\u001b[0m\u001b[0m\n\u001b[1;32m    219\u001b[0m             output = self._compute_output_and_change_weights(\n\u001b[0;32m--> 220\u001b[0;31m                 \u001b[0minputs\u001b[0m\u001b[0;34m,\u001b[0m \u001b[0mtarget\u001b[0m\u001b[0;34m,\u001b[0m \u001b[0madditional_forward_args\u001b[0m\u001b[0;34m\u001b[0m\u001b[0;34m\u001b[0m\u001b[0m\n\u001b[0m\u001b[1;32m    221\u001b[0m             )\n\u001b[1;32m    222\u001b[0m             \u001b[0mself\u001b[0m\u001b[0;34m.\u001b[0m\u001b[0m_register_forward_hooks\u001b[0m\u001b[0;34m(\u001b[0m\u001b[0;34m)\u001b[0m\u001b[0;34m\u001b[0m\u001b[0;34m\u001b[0m\u001b[0m\n",
      "\u001b[0;32m~/.local/lib/python3.6/site-packages/captum/attr/_core/lrp.py\u001b[0m in \u001b[0;36m_compute_output_and_change_weights\u001b[0;34m(self, inputs, target, additional_forward_args)\u001b[0m\n\u001b[1;32m    341\u001b[0m         \u001b[0;32mtry\u001b[0m\u001b[0;34m:\u001b[0m\u001b[0;34m\u001b[0m\u001b[0;34m\u001b[0m\u001b[0m\n\u001b[1;32m    342\u001b[0m             \u001b[0mself\u001b[0m\u001b[0;34m.\u001b[0m\u001b[0m_register_weight_hooks\u001b[0m\u001b[0;34m(\u001b[0m\u001b[0;34m)\u001b[0m\u001b[0;34m\u001b[0m\u001b[0;34m\u001b[0m\u001b[0m\n\u001b[0;32m--> 343\u001b[0;31m             \u001b[0moutput\u001b[0m \u001b[0;34m=\u001b[0m \u001b[0m_run_forward\u001b[0m\u001b[0;34m(\u001b[0m\u001b[0mself\u001b[0m\u001b[0;34m.\u001b[0m\u001b[0mmodel\u001b[0m\u001b[0;34m,\u001b[0m \u001b[0minputs\u001b[0m\u001b[0;34m,\u001b[0m \u001b[0mtarget\u001b[0m\u001b[0;34m,\u001b[0m \u001b[0madditional_forward_args\u001b[0m\u001b[0;34m)\u001b[0m\u001b[0;34m\u001b[0m\u001b[0;34m\u001b[0m\u001b[0m\n\u001b[0m\u001b[1;32m    344\u001b[0m         \u001b[0;32mfinally\u001b[0m\u001b[0;34m:\u001b[0m\u001b[0;34m\u001b[0m\u001b[0;34m\u001b[0m\u001b[0m\n\u001b[1;32m    345\u001b[0m             \u001b[0mself\u001b[0m\u001b[0;34m.\u001b[0m\u001b[0m_remove_forward_hooks\u001b[0m\u001b[0;34m(\u001b[0m\u001b[0;34m)\u001b[0m\u001b[0;34m\u001b[0m\u001b[0;34m\u001b[0m\u001b[0m\n",
      "\u001b[0;32m~/.local/lib/python3.6/site-packages/captum/_utils/common.py\u001b[0m in \u001b[0;36m_run_forward\u001b[0;34m(forward_func, inputs, target, additional_forward_args)\u001b[0m\n\u001b[1;32m    453\u001b[0m         \u001b[0;32melse\u001b[0m \u001b[0minputs\u001b[0m\u001b[0;34m\u001b[0m\u001b[0;34m\u001b[0m\u001b[0m\n\u001b[1;32m    454\u001b[0m     )\n\u001b[0;32m--> 455\u001b[0;31m     \u001b[0;32mreturn\u001b[0m \u001b[0m_select_targets\u001b[0m\u001b[0;34m(\u001b[0m\u001b[0moutput\u001b[0m\u001b[0;34m,\u001b[0m \u001b[0mtarget\u001b[0m\u001b[0;34m)\u001b[0m\u001b[0;34m\u001b[0m\u001b[0;34m\u001b[0m\u001b[0m\n\u001b[0m\u001b[1;32m    456\u001b[0m \u001b[0;34m\u001b[0m\u001b[0m\n\u001b[1;32m    457\u001b[0m \u001b[0;34m\u001b[0m\u001b[0m\n",
      "\u001b[0;32m~/.local/lib/python3.6/site-packages/captum/_utils/common.py\u001b[0m in \u001b[0;36m_select_targets\u001b[0;34m(output, target)\u001b[0m\n\u001b[1;32m    464\u001b[0m     \u001b[0mdevice\u001b[0m \u001b[0;34m=\u001b[0m \u001b[0moutput\u001b[0m\u001b[0;34m.\u001b[0m\u001b[0mdevice\u001b[0m\u001b[0;34m\u001b[0m\u001b[0;34m\u001b[0m\u001b[0m\n\u001b[1;32m    465\u001b[0m     \u001b[0;32mif\u001b[0m \u001b[0misinstance\u001b[0m\u001b[0;34m(\u001b[0m\u001b[0mtarget\u001b[0m\u001b[0;34m,\u001b[0m \u001b[0;34m(\u001b[0m\u001b[0mint\u001b[0m\u001b[0;34m,\u001b[0m \u001b[0mtuple\u001b[0m\u001b[0;34m)\u001b[0m\u001b[0;34m)\u001b[0m\u001b[0;34m:\u001b[0m\u001b[0;34m\u001b[0m\u001b[0;34m\u001b[0m\u001b[0m\n\u001b[0;32m--> 466\u001b[0;31m         \u001b[0;32mreturn\u001b[0m \u001b[0m_verify_select_column\u001b[0m\u001b[0;34m(\u001b[0m\u001b[0moutput\u001b[0m\u001b[0;34m,\u001b[0m \u001b[0mtarget\u001b[0m\u001b[0;34m)\u001b[0m\u001b[0;34m\u001b[0m\u001b[0;34m\u001b[0m\u001b[0m\n\u001b[0m\u001b[1;32m    467\u001b[0m     \u001b[0;32melif\u001b[0m \u001b[0misinstance\u001b[0m\u001b[0;34m(\u001b[0m\u001b[0mtarget\u001b[0m\u001b[0;34m,\u001b[0m \u001b[0mtorch\u001b[0m\u001b[0;34m.\u001b[0m\u001b[0mTensor\u001b[0m\u001b[0;34m)\u001b[0m\u001b[0;34m:\u001b[0m\u001b[0;34m\u001b[0m\u001b[0;34m\u001b[0m\u001b[0m\n\u001b[1;32m    468\u001b[0m         \u001b[0;32mif\u001b[0m \u001b[0mtorch\u001b[0m\u001b[0;34m.\u001b[0m\u001b[0mnumel\u001b[0m\u001b[0;34m(\u001b[0m\u001b[0mtarget\u001b[0m\u001b[0;34m)\u001b[0m \u001b[0;34m==\u001b[0m \u001b[0;36m1\u001b[0m \u001b[0;32mand\u001b[0m \u001b[0misinstance\u001b[0m\u001b[0;34m(\u001b[0m\u001b[0mtarget\u001b[0m\u001b[0;34m.\u001b[0m\u001b[0mitem\u001b[0m\u001b[0;34m(\u001b[0m\u001b[0;34m)\u001b[0m\u001b[0;34m,\u001b[0m \u001b[0mint\u001b[0m\u001b[0;34m)\u001b[0m\u001b[0;34m:\u001b[0m\u001b[0;34m\u001b[0m\u001b[0;34m\u001b[0m\u001b[0m\n",
      "\u001b[0;32m~/.local/lib/python3.6/site-packages/captum/_utils/common.py\u001b[0m in \u001b[0;36m_verify_select_column\u001b[0;34m(output, target)\u001b[0m\n\u001b[1;32m    511\u001b[0m     assert (\n\u001b[1;32m    512\u001b[0m         \u001b[0mlen\u001b[0m\u001b[0;34m(\u001b[0m\u001b[0mtarget\u001b[0m\u001b[0;34m)\u001b[0m \u001b[0;34m<=\u001b[0m \u001b[0mlen\u001b[0m\u001b[0;34m(\u001b[0m\u001b[0moutput\u001b[0m\u001b[0;34m.\u001b[0m\u001b[0mshape\u001b[0m\u001b[0;34m)\u001b[0m \u001b[0;34m-\u001b[0m \u001b[0;36m1\u001b[0m\u001b[0;34m\u001b[0m\u001b[0;34m\u001b[0m\u001b[0m\n\u001b[0;32m--> 513\u001b[0;31m     ), \"Cannot choose target column with output shape %r.\" % (output.shape,)\n\u001b[0m\u001b[1;32m    514\u001b[0m     \u001b[0;32mreturn\u001b[0m \u001b[0moutput\u001b[0m\u001b[0;34m[\u001b[0m\u001b[0;34m(\u001b[0m\u001b[0mslice\u001b[0m\u001b[0;34m(\u001b[0m\u001b[0;32mNone\u001b[0m\u001b[0;34m)\u001b[0m\u001b[0;34m,\u001b[0m \u001b[0;34m*\u001b[0m\u001b[0mtarget\u001b[0m\u001b[0;34m)\u001b[0m\u001b[0;34m]\u001b[0m\u001b[0;34m\u001b[0m\u001b[0;34m\u001b[0m\u001b[0m\n\u001b[1;32m    515\u001b[0m \u001b[0;34m\u001b[0m\u001b[0m\n",
      "\u001b[0;31mAssertionError\u001b[0m: Cannot choose target column with output shape torch.Size([2])."
     ]
    }
   ],
   "source": [
    "from captum.attr import LayerLRP\n",
    "lrp = LayerLRP(mlp, mlp.mlp[0])\n",
    "# Attribution size matches input size: 3x3x32x32\n",
    "attribution = lrp.attribute(torch_dataset_inputs[0], target=1)"
   ]
  },
  {
   "cell_type": "code",
   "execution_count": 204,
   "id": "28bfcb9d-c973-409b-b9ea-dd87ab1583b2",
   "metadata": {},
   "outputs": [],
   "source": [
    "def get_nth_key(dictionary, n=0):\n",
    "    if n < 0:\n",
    "        n += len(dictionary)\n",
    "    for i, key in enumerate(dictionary.keys()):\n",
    "        if i == n:\n",
    "            return key\n",
    "    raise IndexError(\"dictionary index out of range\") "
   ]
  },
  {
   "cell_type": "code",
   "execution_count": 208,
   "id": "25d4fbfa-3dc6-4331-9484-ab855b33023e",
   "metadata": {},
   "outputs": [
    {
     "data": {
      "text/plain": [
       "1203"
      ]
     },
     "execution_count": 208,
     "metadata": {},
     "output_type": "execute_result"
    }
   ],
   "source": [
    "a, b = get_nth_key(n.weights, 132)\n",
    "b"
   ]
  },
  {
   "cell_type": "code",
   "execution_count": 52,
   "id": "a5171f3a-2d5a-4f7e-8167-d1a95b5ba9b5",
   "metadata": {},
   "outputs": [],
   "source": [
    "for i in range(len(n.weights)):\n",
    "    a, b = get_nth_key(n.weights, i)\n",
    "    if a in input_neurons:\n",
    "        print((a, b), n.weights[(a, b)])"
   ]
  },
  {
   "cell_type": "code",
   "execution_count": 50,
   "id": "479ea420-46d5-4344-a57b-13dd7d4c9aed",
   "metadata": {},
   "outputs": [
    {
     "data": {
      "text/plain": [
       "[1282, 1283]"
      ]
     },
     "execution_count": 50,
     "metadata": {},
     "output_type": "execute_result"
    }
   ],
   "source": [
    "n.output_neurons"
   ]
  },
  {
   "cell_type": "code",
   "execution_count": 55,
   "id": "a9071067-84b4-4a16-82c8-fe7b28506314",
   "metadata": {},
   "outputs": [
    {
     "data": {
      "text/plain": [
       "tensor([63.4745], grad_fn=<MulBackward0>)"
      ]
     },
     "execution_count": 55,
     "metadata": {},
     "output_type": "execute_result"
    }
   ],
   "source": [
    "n.neurons[1283].value"
   ]
  },
  {
   "cell_type": "code",
   "execution_count": 52,
   "id": "5f7efc35-2d12-48fc-a2ce-8a9947f9dc54",
   "metadata": {},
   "outputs": [
    {
     "data": {
      "text/plain": [
       "tensor([[58.5312],\n",
       "        [63.4745]], grad_fn=<StackBackward0>)"
      ]
     },
     "execution_count": 52,
     "metadata": {},
     "output_type": "execute_result"
    }
   ],
   "source": [
    "n.forward(dataset[0][0])"
   ]
  },
  {
   "cell_type": "code",
   "execution_count": 54,
   "id": "3fad90b1-e1b8-4958-bc9f-01d5d8f2f792",
   "metadata": {},
   "outputs": [
    {
     "data": {
      "text/plain": [
       "tensor(1)"
      ]
     },
     "execution_count": 54,
     "metadata": {},
     "output_type": "execute_result"
    }
   ],
   "source": [
    "dataset[0][1]"
   ]
  },
  {
   "cell_type": "code",
   "execution_count": 56,
   "id": "db3fd844-da97-4c50-b7c5-1bbc8003b991",
   "metadata": {},
   "outputs": [],
   "source": [
    "n.lrp(torch.tensor(10), 1283)"
   ]
  },
  {
   "cell_type": "code",
   "execution_count": 61,
   "id": "3ee91356-804b-4778-8a55-878165519d90",
   "metadata": {},
   "outputs": [
    {
     "data": {
      "text/plain": [
       "tensor([0.], grad_fn=<AddBackward0>)"
      ]
     },
     "execution_count": 61,
     "metadata": {},
     "output_type": "execute_result"
    }
   ],
   "source": [
    "n.neurons[1].relevance"
   ]
  },
  {
   "cell_type": "code",
   "execution_count": 62,
   "id": "cf990be4-5eb8-4a77-9a83-50ee1f8d64ca",
   "metadata": {},
   "outputs": [
    {
     "name": "stdout",
     "output_type": "stream",
     "text": [
      "0 tensor([0.], grad_fn=<AddBackward0>)\n",
      "1 tensor([0.], grad_fn=<AddBackward0>)\n",
      "2 tensor([0.], grad_fn=<AddBackward0>)\n",
      "3 tensor([0.], grad_fn=<AddBackward0>)\n",
      "4 tensor([0.], grad_fn=<AddBackward0>)\n",
      "5 tensor([0.], grad_fn=<AddBackward0>)\n",
      "6 tensor([0.], grad_fn=<AddBackward0>)\n",
      "7 tensor([0.], grad_fn=<AddBackward0>)\n",
      "8 tensor([0.], grad_fn=<AddBackward0>)\n",
      "9 tensor([0.], grad_fn=<AddBackward0>)\n",
      "10 tensor([0.], grad_fn=<AddBackward0>)\n",
      "11 tensor([0.], grad_fn=<AddBackward0>)\n",
      "12 tensor([0.], grad_fn=<AddBackward0>)\n",
      "13 tensor([0.], grad_fn=<AddBackward0>)\n",
      "14 tensor([0.], grad_fn=<AddBackward0>)\n",
      "15 tensor([0.3157], grad_fn=<AddBackward0>)\n",
      "16 tensor([0.], grad_fn=<AddBackward0>)\n",
      "17 tensor([0.7279], grad_fn=<AddBackward0>)\n",
      "18 tensor([0.], grad_fn=<AddBackward0>)\n",
      "19 tensor([1.3498], grad_fn=<AddBackward0>)\n",
      "20 tensor([1.8116], grad_fn=<AddBackward0>)\n",
      "21 tensor([2.3710], grad_fn=<AddBackward0>)\n",
      "22 tensor([3.4239], grad_fn=<AddBackward0>)\n",
      "23 tensor([1.3399], grad_fn=<AddBackward0>)\n"
     ]
    }
   ],
   "source": [
    "for i in range(24):\n",
    "    print(i, n.neurons[i].relevance)"
   ]
  },
  {
   "cell_type": "code",
   "execution_count": null,
   "id": "3acfb3a9-50b1-48c1-a172-e4aa13380f52",
   "metadata": {},
   "outputs": [],
   "source": []
  }
 ],
 "metadata": {
  "kernelspec": {
   "display_name": "Python 3 (ipykernel)",
   "language": "python",
   "name": "python3"
  },
  "language_info": {
   "codemirror_mode": {
    "name": "ipython",
    "version": 3
   },
   "file_extension": ".py",
   "mimetype": "text/x-python",
   "name": "python",
   "nbconvert_exporter": "python",
   "pygments_lexer": "ipython3",
   "version": "3.8.12"
  }
 },
 "nbformat": 4,
 "nbformat_minor": 5
}
