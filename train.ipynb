{
 "cells": [
  {
   "cell_type": "code",
   "execution_count": 1,
   "id": "40f0520a-a034-4530-adad-780ea6a3a161",
   "metadata": {},
   "outputs": [],
   "source": [
    "from crm.core import Network"
   ]
  },
  {
   "cell_type": "code",
   "execution_count": 2,
   "id": "d1cdb7b9-5081-47b9-bf71-9b8db78938f5",
   "metadata": {},
   "outputs": [
    {
     "data": {
      "text/plain": [
       "<torch._C.Generator at 0x7f4c2c033c50>"
      ]
     },
     "execution_count": 2,
     "metadata": {},
     "output_type": "execute_result"
    }
   ],
   "source": [
    "import re\n",
    "import random\n",
    "import torch\n",
    "import torch.nn as nn\n",
    "import torch.nn.functional as F\n",
    "import matplotlib.pyplot as plt\n",
    "from tqdm.notebook import trange\n",
    "from sklearn.model_selection import train_test_split\n",
    "random.seed(20)\n",
    "torch.manual_seed(24)"
   ]
  },
  {
   "cell_type": "code",
   "execution_count": 3,
   "id": "0fc8d8bf-213c-4be2-8b8e-589fc3c1a469",
   "metadata": {},
   "outputs": [],
   "source": [
    "from crm.utils import load_object, save_object, train"
   ]
  },
  {
   "cell_type": "markdown",
   "id": "2775a557-166f-47db-90b5-65671fb583fa",
   "metadata": {
    "tags": []
   },
   "source": [
    "# Data"
   ]
  },
  {
   "cell_type": "code",
   "execution_count": 4,
   "id": "20815390-4f5f-4050-8d3b-6b7089f35327",
   "metadata": {},
   "outputs": [],
   "source": [
    "X_train, y_train  = load_object(\"data/sample5/X_train.dill\"), load_object(\"data/sample5/y_train.dill\")"
   ]
  },
  {
   "cell_type": "code",
   "execution_count": 5,
   "id": "946369cf-0068-4e69-b2d7-08cdef420403",
   "metadata": {},
   "outputs": [],
   "source": [
    "X_test, y_test  = load_object(\"data/sample5/X_test.dill\"), load_object(\"data/sample5/y_test.dill\")"
   ]
  },
  {
   "cell_type": "code",
   "execution_count": 6,
   "id": "a9f4656b-7c7a-4776-a726-0bd5f5079b5c",
   "metadata": {},
   "outputs": [],
   "source": [
    "adj_list = load_object(\"data/sample5/adj_list.dill\")"
   ]
  },
  {
   "cell_type": "code",
   "execution_count": 7,
   "id": "00fc2250-67cf-4ab8-bc0d-e25a9bfc737d",
   "metadata": {},
   "outputs": [],
   "source": [
    "c = list(zip(X_train, y_train))\n",
    "random.shuffle(c)\n",
    "X_train, y_train = zip(*c)"
   ]
  },
  {
   "cell_type": "markdown",
   "id": "92e69f97-99e1-4d62-90d3-30543c1c648d",
   "metadata": {},
   "source": [
    "# Training"
   ]
  },
  {
   "cell_type": "code",
   "execution_count": 8,
   "id": "9f6a7119-37cb-4708-851b-cac555bed0a1",
   "metadata": {},
   "outputs": [],
   "source": [
    "num_neurons = len(adj_list)\n",
    "n = Network(num_neurons, adj_list)"
   ]
  },
  {
   "cell_type": "code",
   "execution_count": 9,
   "id": "44fe6335-6927-4dde-9cf5-22214a5bc6c2",
   "metadata": {},
   "outputs": [],
   "source": [
    "n.set_neuron_activation(num_neurons-2, lambda x : x, lambda x : 1)"
   ]
  },
  {
   "cell_type": "code",
   "execution_count": 10,
   "id": "a56c9167-9771-44e3-b045-6e44aed0d0b1",
   "metadata": {},
   "outputs": [],
   "source": [
    "n.set_neuron_activation(num_neurons-1, lambda x : x, lambda x : 1)"
   ]
  },
  {
   "cell_type": "code",
   "execution_count": 11,
   "id": "76be6068-f4b6-481b-a1f6-f6e3896d4310",
   "metadata": {},
   "outputs": [],
   "source": [
    "n.weights = load_object(\"data/sample5/weights_100.dill\")"
   ]
  },
  {
   "cell_type": "code",
   "execution_count": 11,
   "id": "891f8d8a-5c05-4073-9114-2f307cd95cf6",
   "metadata": {},
   "outputs": [
    {
     "data": {
      "application/vnd.jupyter.widget-view+json": {
       "model_id": "72d7afe7c1e640fc88cd33ca88aca5b6",
       "version_major": 2,
       "version_minor": 0
      },
      "text/plain": [
       "  0%|          | 0/3 [00:00<?, ?it/s]"
      ]
     },
     "metadata": {},
     "output_type": "display_data"
    },
    {
     "data": {
      "application/vnd.jupyter.widget-view+json": {
       "model_id": "6f5266671bc04cc98c63471e26f38095",
       "version_major": 2,
       "version_minor": 0
      },
      "text/plain": [
       "  0%|          | 0/700 [00:00<?, ?it/s]"
      ]
     },
     "metadata": {},
     "output_type": "display_data"
    },
    {
     "data": {
      "application/vnd.jupyter.widget-view+json": {
       "model_id": "8145f21d32e446e4875bd305487a061c",
       "version_major": 2,
       "version_minor": 0
      },
      "text/plain": [
       "  0%|          | 0/700 [00:00<?, ?it/s]"
      ]
     },
     "metadata": {},
     "output_type": "display_data"
    },
    {
     "data": {
      "application/vnd.jupyter.widget-view+json": {
       "model_id": "6862363bb7584cf7a371dddac4e848dc",
       "version_major": 2,
       "version_minor": 0
      },
      "text/plain": [
       "  0%|          | 0/700 [00:00<?, ?it/s]"
      ]
     },
     "metadata": {},
     "output_type": "display_data"
    },
    {
     "data": {
      "text/plain": [
       "[<matplotlib.lines.Line2D at 0x7f4b5eb65460>]"
      ]
     },
     "execution_count": 11,
     "metadata": {},
     "output_type": "execute_result"
    },
    {
     "data": {
      "image/png": "[encoded data removed]",
      "text/plain": [
       "<Figure size 432x288 with 1 Axes>"
      ]
     },
     "metadata": {
      "needs_background": "light"
     },
     "output_type": "display_data"
    }
   ],
   "source": [
    "optimizer = torch.optim.Adam(n.parameters(), lr=0.001)\n",
    "criterion = F.cross_entropy\n",
    "losses = train(n, X_train, y_train, X_test, y_test, 3, optimizer, criterion)\n",
    "plt.plot(losses)"
   ]
  },
  {
   "cell_type": "code",
   "execution_count": 12,
   "id": "2887fe39-6e4b-4daf-9c17-313894f2b7a1",
   "metadata": {},
   "outputs": [
    {
     "data": {
      "application/vnd.jupyter.widget-view+json": {
       "model_id": "3bbaf65b06344457bd0d66e7a0c8b9c8",
       "version_major": 2,
       "version_minor": 0
      },
      "text/plain": [
       "  0%|          | 0/700 [00:00<?, ?it/s]"
      ]
     },
     "metadata": {},
     "output_type": "display_data"
    },
    {
     "name": "stdout",
     "output_type": "stream",
     "text": [
      "Train Accuracy:  100.0\n"
     ]
    }
   ],
   "source": [
    "train_correct = 0\n",
    "for i in trange(len(X_train)):\n",
    "    f_mapper = X_train[i]\n",
    "    out = n.forward(f_mapper).reshape(1, -1)\n",
    "    train_correct += 1 if torch.argmax(out)==y_train[i] else 0\n",
    "    n.reset()\n",
    "print(\"Train Accuracy: \", train_correct/len(X_train)*100)"
   ]
  },
  {
   "cell_type": "code",
   "execution_count": 13,
   "id": "ec221573-b14e-40b3-b67c-03c08151d1df",
   "metadata": {},
   "outputs": [
    {
     "data": {
      "application/vnd.jupyter.widget-view+json": {
       "model_id": "d92b3f1df739451297ec8ef981245661",
       "version_major": 2,
       "version_minor": 0
      },
      "text/plain": [
       "  0%|          | 0/300 [00:00<?, ?it/s]"
      ]
     },
     "metadata": {},
     "output_type": "display_data"
    },
    {
     "name": "stdout",
     "output_type": "stream",
     "text": [
      "Test Accuracy:  99.66666666666667\n"
     ]
    }
   ],
   "source": [
    "test_correct = 0\n",
    "for i in trange(len(X_test)):\n",
    "    f_mapper = X_test[i]\n",
    "    out = n.forward(f_mapper).reshape(1, -1)\n",
    "    test_correct += 1 if torch.argmax(out)==y_test[i] else 0\n",
    "    n.reset()\n",
    "print(\"Test Accuracy: \", test_correct/len(X_test)*100)"
   ]
  },
  {
   "cell_type": "code",
   "execution_count": 14,
   "id": "9ad34423-c797-4504-94fc-fe9f14156594",
   "metadata": {},
   "outputs": [
    {
     "data": {
      "text/plain": [
       "(700, 299)"
      ]
     },
     "execution_count": 14,
     "metadata": {},
     "output_type": "execute_result"
    }
   ],
   "source": [
    "train_correct, test_correct"
   ]
  },
  {
   "cell_type": "code",
   "execution_count": 15,
   "id": "c56f2d97-b7c3-44ac-a038-b5e38f6b0145",
   "metadata": {},
   "outputs": [],
   "source": [
    "save_object(n.weights, \"data/sample5/weights_100.dill\")"
   ]
  },
  {
   "cell_type": "markdown",
   "id": "ebd386a9-1815-4481-a6c7-d29ea8dffaa4",
   "metadata": {},
   "source": [
    "# LRP"
   ]
  },
  {
   "cell_type": "code",
   "execution_count": 127,
   "id": "474ab7d0-7054-4748-8995-e7f2386fa1e6",
   "metadata": {},
   "outputs": [],
   "source": [
    "# https://github.com/dmitrysarov/LRP_decomposition/blob/master/notebooks/LRP_notebook_mnist.ipynb"
   ]
  },
  {
   "cell_type": "code",
   "execution_count": 83,
   "id": "b15bd299-139c-458e-9fd2-ba7b7714f735",
   "metadata": {},
   "outputs": [
    {
     "data": {
      "text/plain": [
       "3"
      ]
     },
     "execution_count": 83,
     "metadata": {},
     "output_type": "execute_result"
    }
   ],
   "source": [
    "max_layer = max([nn.layer for nn in n.neurons])\n",
    "max_layer"
   ]
  },
  {
   "cell_type": "code",
   "execution_count": 126,
   "id": "b2e22b8c-80d4-4e06-9d0a-a14d0258f707",
   "metadata": {},
   "outputs": [
    {
     "data": {
      "application/vnd.jupyter.widget-view+json": {
       "model_id": "ba98fdd2b9b642889f7123f79ba52fa2",
       "version_major": 2,
       "version_minor": 0
      },
      "text/plain": [
       "  0%|          | 0/600 [00:00<?, ?it/s]"
      ]
     },
     "metadata": {},
     "output_type": "display_data"
    }
   ],
   "source": [
    "# Train Set\n",
    "counts = 0\n",
    "total = 0\n",
    "sorted_nids = None\n",
    "with trange(len(y_train)) as t:\n",
    "    for i in t:\n",
    "        if y_train[i]==1:\n",
    "            n.reset()\n",
    "            n.forward(X_train[i])\n",
    "            n.lrp(100., 1283)\n",
    "            inc, sorted_nids=check_presence(network= n, n_ids = [756, 711, 633], percentile=0.01) #(Not including 27)\n",
    "            counts+=inc\n",
    "            total+=1\n",
    "        t.set_postfix({\"Counts\": counts, \"Total\": total, \"Ratio\": counts/total})"
   ]
  },
  {
   "cell_type": "code",
   "execution_count": 128,
   "id": "d64d9829-6167-48de-abec-89e22658b31e",
   "metadata": {},
   "outputs": [],
   "source": [
    "# 100% 600/600 [2:20:47<00:00, 16.50s/it, Counts=302, Total=351, Ratio=0.86] 1%"
   ]
  },
  {
   "cell_type": "code",
   "execution_count": 120,
   "id": "24556ec3-3529-4926-857d-930d5a596a2d",
   "metadata": {},
   "outputs": [
    {
     "data": {
      "application/vnd.jupyter.widget-view+json": {
       "model_id": "99595b6df6d341958d10474bf49d148f",
       "version_major": 2,
       "version_minor": 0
      },
      "text/plain": [
       "  0%|          | 0/100 [00:00<?, ?it/s]"
      ]
     },
     "metadata": {},
     "output_type": "display_data"
    }
   ],
   "source": [
    "# Test Set\n",
    "counts = 0\n",
    "total = 0\n",
    "sorted_nids = None\n",
    "with trange(len(y_test)) as t:\n",
    "    for i in t:\n",
    "        if y_test[i]==1:\n",
    "            n.reset()\n",
    "            n.forward(X_test[i])\n",
    "            n.lrp(100., 1283)\n",
    "            inc, sorted_nids=check_presence(network= n, n_ids = [756, 711, 633], percentile=0.01) #(Not including 27)\n",
    "            counts+=inc\n",
    "            total+=1\n",
    "        t.set_postfix({\"Counts\": counts, \"Total\": total, \"Ratio\": counts/total if total else None})"
   ]
  },
  {
   "cell_type": "code",
   "execution_count": 124,
   "id": "0ebb2542-8f07-4285-878c-5623f5f6c448",
   "metadata": {},
   "outputs": [],
   "source": [
    "# 100% 100/100 [21:56<00:00, 17.30s/it, Counts=46, Total=54, Ratio=0.852] 1%"
   ]
  },
  {
   "cell_type": "code",
   "execution_count": 121,
   "id": "5750690b-ebda-4dad-9750-a8226107e858",
   "metadata": {},
   "outputs": [
    {
     "data": {
      "application/vnd.jupyter.widget-view+json": {
       "model_id": "4409a51615f64609baefb48e6147b23e",
       "version_major": 2,
       "version_minor": 0
      },
      "text/plain": [
       "  0%|          | 0/100 [00:00<?, ?it/s]"
      ]
     },
     "metadata": {},
     "output_type": "display_data"
    }
   ],
   "source": [
    "# Test Set\n",
    "counts = 0\n",
    "total = 0\n",
    "sorted_nids = None\n",
    "with trange(len(y_test)) as t:\n",
    "    for i in t:\n",
    "        if y_test[i]==1:\n",
    "            n.reset()\n",
    "            n.forward(X_test[i])\n",
    "            n.lrp(100., 1283)\n",
    "            inc, sorted_nids=check_presence(network= n, n_ids = [756, 711, 633], percentile=0.03) #(Not including 27)\n",
    "            counts+=inc\n",
    "            total+=1\n",
    "        t.set_postfix({\"Counts\": counts, \"Total\": total, \"Ratio\": counts/total if total else None})"
   ]
  },
  {
   "cell_type": "code",
   "execution_count": 125,
   "id": "375beb68-3ed6-4f2d-8f74-de319656ba17",
   "metadata": {},
   "outputs": [],
   "source": [
    "# 100% 100/100 [21:37<00:00, 17.27s/it, Counts=46, Total=54, Ratio=0.852] 3%"
   ]
  },
  {
   "cell_type": "code",
   "execution_count": 105,
   "id": "549e795b-80b6-4151-aea7-c842d33f9e66",
   "metadata": {},
   "outputs": [
    {
     "data": {
      "text/plain": [
       "[(100.0, 1283, 3),\n",
       " (38.31831359863281, 22, 0),\n",
       " (20.276439666748047, 20, 0),\n",
       " (16.41777801513672, 23, 1),\n",
       " (15.62519645690918, 25, 1),\n",
       " (14.337860107421875, 21, 0),\n",
       " (8.297679901123047, 19, 0),\n",
       " (7.704973220825195, 97, 1),\n",
       " (6.702298641204834, 14, 0),\n",
       " (5.8988213539123535, 34, 1),\n",
       " (5.820578575134277, 15, 0),\n",
       " (5.541997909545898, 12, 0),\n",
       " (2.9191713333129883, 712, 2),\n",
       " (2.3127784729003906, 29, 1),\n",
       " (2.2477352619171143, 756, 2)]"
      ]
     },
     "execution_count": 105,
     "metadata": {},
     "output_type": "execute_result"
    }
   ],
   "source": [
    "max_rel = -1\n",
    "idx = -1\n",
    "rels = []\n",
    "for n_id in range(1284):\n",
    "    if True:#1283 in n.neurons[n_id].successor_neurons or 1282 in n.neurons[n_id].successor_neurons:\n",
    "        try:\n",
    "            rels.append((n.neurons[n_id].relevance.item(), n_id, n.neurons[n_id].layer))\n",
    "        except:\n",
    "            pass\n",
    "rels.sort(reverse=True)\n",
    "rels[:15]"
   ]
  },
  {
   "cell_type": "code",
   "execution_count": 114,
   "id": "567d0244-7c9f-4196-bfe2-662c2eee35c6",
   "metadata": {},
   "outputs": [],
   "source": [
    "# TrainSet: Top1%         Top3%\n",
    "# TestSet: Top1%       Top3%\n",
    "# Want to see: hasCar(X,Y), short(Y), closed(Y)"
   ]
  },
  {
   "cell_type": "code",
   "execution_count": 85,
   "id": "9a778671-583a-45c9-aa68-4e89bfbfe04b",
   "metadata": {},
   "outputs": [
    {
     "data": {
      "text/plain": [
       "[(100.0, 1283, 3),\n",
       " (50.09611511230469, 22, 0),\n",
       " (28.143735885620117, 23, 1),\n",
       " (25.122875213623047, 21, 0),\n",
       " (11.22695541381836, 3, 0),\n",
       " (10.006945610046387, 18, 0),\n",
       " (7.728886127471924, 298, 1),\n",
       " (4.784719467163086, 25, 1),\n",
       " (3.5847561359405518, 712, 2),\n",
       " (3.547109842300415, 19, 0),\n",
       " (3.1040234565734863, 713, 2),\n",
       " (2.742990493774414, 757, 2),\n",
       " (2.4108364582061768, 632, 2),\n",
       " (2.3875539302825928, 859, 2),\n",
       " (2.3309028148651123, 29, 1)]"
      ]
     },
     "execution_count": 85,
     "metadata": {},
     "output_type": "execute_result"
    }
   ],
   "source": [
    "max_rel = -1\n",
    "idx = -1\n",
    "rels = []\n",
    "for n_id in range(1284):\n",
    "    if True:#1283 in n.neurons[n_id].successor_neurons or 1282 in n.neurons[n_id].successor_neurons:\n",
    "        try:\n",
    "            rels.append((n.neurons[n_id].relevance.item(), n_id, n.neurons[n_id].layer))\n",
    "        except:\n",
    "            pass\n",
    "rels.sort(reverse=True)\n",
    "rels[:15]"
   ]
  },
  {
   "cell_type": "code",
   "execution_count": null,
   "id": "d4946adc-432a-4c12-8c0c-876683d73540",
   "metadata": {},
   "outputs": [
    {
     "data": {
      "text/plain": [
       "3"
      ]
     },
     "execution_count": 16,
     "metadata": {},
     "output_type": "execute_result"
    }
   ],
   "source": [
    "max([n.neurons[i].layer for i in range(n.num_neurons)])"
   ]
  },
  {
   "cell_type": "code",
   "execution_count": 17,
   "id": "0d51a075-8998-47cf-9398-1d73dc5d934a",
   "metadata": {},
   "outputs": [],
   "source": [
    "orig_output_neurons = []\n",
    "orig_output_neurons_check= []\n",
    "for gg in n.neurons:\n",
    "    if gg.successor_neurons == [977, 978]:\n",
    "        orig_output_neurons.append(gg.n_id)\n",
    "    if gg.layer == 2:\n",
    "        orig_output_neurons_check.append(gg.n_id)"
   ]
  },
  {
   "cell_type": "code",
   "execution_count": 18,
   "id": "fc9c0f0a-4fc3-43a0-805d-869960bdf4b9",
   "metadata": {},
   "outputs": [
    {
     "data": {
      "text/plain": [
       "tensor(1)"
      ]
     },
     "execution_count": 18,
     "metadata": {},
     "output_type": "execute_result"
    }
   ],
   "source": [
    "y_train[0]"
   ]
  },
  {
   "cell_type": "code",
   "execution_count": 19,
   "id": "f989ba9d-b532-467c-88c1-b73bc9c2e379",
   "metadata": {},
   "outputs": [
    {
     "data": {
      "text/plain": [
       "(750, 979)"
      ]
     },
     "execution_count": 19,
     "metadata": {},
     "output_type": "execute_result"
    }
   ],
   "source": [
    "len(orig_output_neurons), n.num_neurons"
   ]
  },
  {
   "cell_type": "code",
   "execution_count": 20,
   "id": "4eeff464-5390-445d-8a30-d1721c8e3b5a",
   "metadata": {},
   "outputs": [],
   "source": [
    "zero_f_vals = [i for i in range(n.num_neurons) if X_train[0][i]==0]"
   ]
  },
  {
   "cell_type": "code",
   "execution_count": 21,
   "id": "0238046a-2451-44bc-9813-2e1593047fe9",
   "metadata": {},
   "outputs": [
    {
     "data": {
      "text/plain": [
       "707"
      ]
     },
     "execution_count": 21,
     "metadata": {},
     "output_type": "execute_result"
    }
   ],
   "source": [
    "len(zero_f_vals)"
   ]
  },
  {
   "cell_type": "code",
   "execution_count": 22,
   "id": "27355b1a-ea9f-4aeb-a5ba-b102410e834c",
   "metadata": {},
   "outputs": [],
   "source": [
    "oo = 0\n",
    "for i in range(num_neurons):\n",
    "    if i not in zero_f_vals:\n",
    "        oo+=n.neurons[i].relevance"
   ]
  },
  {
   "cell_type": "code",
   "execution_count": 23,
   "id": "11249da4-4bbe-450c-8e01-67bfd1079794",
   "metadata": {},
   "outputs": [
    {
     "data": {
      "text/plain": [
       "(tensor([[90.4348],\n",
       "         [83.1681]], grad_fn=<StackBackward0>),\n",
       " tensor(0))"
      ]
     },
     "execution_count": 23,
     "metadata": {},
     "output_type": "execute_result"
    }
   ],
   "source": [
    "n.reset()\n",
    "n.forward(X_train[1]), y_train[1]"
   ]
  },
  {
   "cell_type": "code",
   "execution_count": 24,
   "id": "55d6560e-bd4b-4655-aa52-7ef96776996c",
   "metadata": {},
   "outputs": [
    {
     "data": {
      "text/plain": [
       "(tensor(1),\n",
       " tensor(0),\n",
       " tensor(0),\n",
       " tensor(1),\n",
       " tensor(1),\n",
       " tensor(1),\n",
       " tensor(0),\n",
       " tensor(1),\n",
       " tensor(0),\n",
       " tensor(0),\n",
       " tensor(1),\n",
       " tensor(0),\n",
       " tensor(1),\n",
       " tensor(1),\n",
       " tensor(0),\n",
       " tensor(0),\n",
       " tensor(0),\n",
       " tensor(0),\n",
       " tensor(1),\n",
       " tensor(1))"
      ]
     },
     "execution_count": 24,
     "metadata": {},
     "output_type": "execute_result"
    }
   ],
   "source": [
    "y_train[:20]"
   ]
  },
  {
   "cell_type": "code",
   "execution_count": 25,
   "id": "a4b45b3f-c482-4d61-89b4-affadbc07106",
   "metadata": {},
   "outputs": [
    {
     "data": {
      "text/plain": [
       "tensor([83.1681], grad_fn=<MulBackward0>)"
      ]
     },
     "execution_count": 25,
     "metadata": {},
     "output_type": "execute_result"
    }
   ],
   "source": [
    "n.neurons[978].value"
   ]
  },
  {
   "cell_type": "code",
   "execution_count": 26,
   "id": "d17081f2-119c-462b-b95d-b063050405e0",
   "metadata": {},
   "outputs": [
    {
     "data": {
      "application/vnd.jupyter.widget-view+json": {
       "model_id": "2c581e06c0494ca4a7019664f55649a6",
       "version_major": 2,
       "version_minor": 0
      },
      "text/plain": [
       "  0%|          | 0/30 [00:00<?, ?it/s]"
      ]
     },
     "metadata": {},
     "output_type": "display_data"
    }
   ],
   "source": [
    "main_l = {i:0 for i in range(n.num_neurons)}\n",
    "for i in trange((30)):\n",
    "    if y_test[i]:\n",
    "        n.reset()\n",
    "        n.forward(X_test[i])\n",
    "        n.lrp(torch.tensor(100.), 978)\n",
    "        l = ([(n.neurons[i].relevance, i) for i in orig_output_neurons])\n",
    "        for rel, idx in l:\n",
    "            main_l[idx]+=rel\n",
    "# main_l.sort(reverse=True)\n",
    "# main_l[:10]"
   ]
  },
  {
   "cell_type": "code",
   "execution_count": 27,
   "id": "539b9adf-aaed-4e84-9c2a-d4f22c57555a",
   "metadata": {},
   "outputs": [],
   "source": [
    "rels = []\n",
    "for k, v in (main_l.items()):\n",
    "    rels.append((v, k+1))\n",
    "rels.sort(reverse=True)"
   ]
  },
  {
   "cell_type": "code",
   "execution_count": 29,
   "id": "0c684c84-851a-4c3d-b0bf-7a64cb8fde0f",
   "metadata": {},
   "outputs": [
    {
     "data": {
      "text/plain": [
       "(165, 165)"
      ]
     },
     "execution_count": 29,
     "metadata": {},
     "output_type": "execute_result"
    }
   ],
   "source": [
    "c = 0\n",
    "real = 0\n",
    "for i in range(len(y_test)):\n",
    "    if y_test[i]:\n",
    "        real+=1\n",
    "        if X_test[i][326]:\n",
    "            c+=1\n",
    "c, real"
   ]
  },
  {
   "cell_type": "code",
   "execution_count": 37,
   "id": "66dd470c-d3e9-4568-8a7a-ae01d0a1bf10",
   "metadata": {},
   "outputs": [
    {
     "data": {
      "text/plain": [
       "[977, 978]"
      ]
     },
     "execution_count": 37,
     "metadata": {},
     "output_type": "execute_result"
    }
   ],
   "source": [
    "n.neurons[326].predeccesor_neurons"
   ]
  },
  {
   "cell_type": "code",
   "execution_count": 28,
   "id": "b07ffc75-89b7-4f09-a26a-25fda182adf1",
   "metadata": {},
   "outputs": [
    {
     "data": {
      "text/plain": [
       "[(tensor([382.3938], grad_fn=<AddBackward0>), 327),\n",
       " (tensor([80.3215], grad_fn=<AddBackward0>), 935),\n",
       " (tensor([72.6319], grad_fn=<AddBackward0>), 510),\n",
       " (tensor([69.2016], grad_fn=<AddBackward0>), 372),\n",
       " (tensor([66.7294], grad_fn=<AddBackward0>), 641),\n",
       " (tensor([50.2880], grad_fn=<AddBackward0>), 703),\n",
       " (tensor([47.1415], grad_fn=<AddBackward0>), 791),\n",
       " (tensor([41.5360], grad_fn=<AddBackward0>), 412),\n",
       " (tensor([41.0481], grad_fn=<AddBackward0>), 879),\n",
       " (tensor([35.8847], grad_fn=<AddBackward0>), 371)]"
      ]
     },
     "execution_count": 28,
     "metadata": {},
     "output_type": "execute_result"
    }
   ],
   "source": [
    "rels[:10]"
   ]
  },
  {
   "cell_type": "code",
   "execution_count": 38,
   "id": "a6cc7f7f-e1dd-4150-8130-41ef00d21c64",
   "metadata": {},
   "outputs": [
    {
     "data": {
      "text/plain": [
       "(1237, 931)"
      ]
     },
     "execution_count": 38,
     "metadata": {},
     "output_type": "execute_result"
    }
   ],
   "source": [
    "len(set(orig_output_neurons)), len(set(orig_output_neurons_check))"
   ]
  },
  {
   "cell_type": "code",
   "execution_count": 41,
   "id": "2c0d3ef4-9f9f-4919-b142-81fd490bedd3",
   "metadata": {},
   "outputs": [
    {
     "data": {
      "text/plain": [
       "([1282, 1283], 1)"
      ]
     },
     "execution_count": 41,
     "metadata": {},
     "output_type": "execute_result"
    }
   ],
   "source": [
    "n.neurons[24].successor_neurons, n.neurons[24].layer"
   ]
  },
  {
   "cell_type": "markdown",
   "id": "4067b839-a47c-4b05-816f-692b719392b3",
   "metadata": {},
   "source": [
    "# MLP"
   ]
  },
  {
   "cell_type": "code",
   "execution_count": null,
   "id": "61b821d8-007a-4a6d-89d6-b598c94fa8ea",
   "metadata": {},
   "outputs": [],
   "source": [
    "input_neurons = []\n",
    "for neuron in n.neurons:\n",
    "    if len(neuron.predeccesor_neurons)==0:\n",
    "        input_neurons.append(neuron.n_id)"
   ]
  },
  {
   "cell_type": "code",
   "execution_count": 92,
   "id": "53de15b5-a045-4c30-b41c-640e68181bb6",
   "metadata": {},
   "outputs": [
    {
     "data": {
      "text/plain": [
       "[0,\n",
       " 1,\n",
       " 2,\n",
       " 3,\n",
       " 4,\n",
       " 5,\n",
       " 6,\n",
       " 7,\n",
       " 8,\n",
       " 9,\n",
       " 10,\n",
       " 11,\n",
       " 12,\n",
       " 13,\n",
       " 14,\n",
       " 15,\n",
       " 16,\n",
       " 17,\n",
       " 18,\n",
       " 19,\n",
       " 20,\n",
       " 21,\n",
       " 22]"
      ]
     },
     "execution_count": 92,
     "metadata": {},
     "output_type": "execute_result"
    }
   ],
   "source": [
    "input_neurons"
   ]
  },
  {
   "cell_type": "code",
   "execution_count": 110,
   "id": "0331c56b-f622-47ac-8d26-28ce34e0909a",
   "metadata": {},
   "outputs": [],
   "source": [
    "class MLP(nn.Module):\n",
    "    def __init__(self, inp_dim, out_dim):\n",
    "        super(MLP, self).__init__()\n",
    "        self.mlp = nn.Sequential(nn.Linear(inp_dim, 64), nn.ReLU(), nn.Linear(64, 32),nn.ReLU(), nn.Linear(32, 2))\n",
    "    def forward(self, x):\n",
    "        return self.mlp(x)"
   ]
  },
  {
   "cell_type": "code",
   "execution_count": 166,
   "id": "cf112802-8124-4684-985f-b89b373430c5",
   "metadata": {},
   "outputs": [],
   "source": [
    "mlp = MLP(23, 2)"
   ]
  },
  {
   "cell_type": "code",
   "execution_count": 167,
   "id": "d020a3aa-c6d6-4d05-a4db-846b20d5bef2",
   "metadata": {},
   "outputs": [],
   "source": [
    "losses = []"
   ]
  },
  {
   "cell_type": "code",
   "execution_count": 168,
   "id": "552d7c03-e469-4497-80d7-606e56c9de18",
   "metadata": {},
   "outputs": [
    {
     "data": {
      "image/png": "[encoded data removed]",
      "text/plain": [
       "<Figure size 432x288 with 1 Axes>"
      ]
     },
     "metadata": {
      "needs_background": "light"
     },
     "output_type": "display_data"
    }
   ],
   "source": [
    "num_epochs = 600\n",
    "optimizer = torch.optim.Adam(mlp.parameters(), lr=0.01)\n",
    "\n",
    "for i in range(num_epochs):\n",
    "    out = mlp(torch_dataset_inputs)\n",
    "    loss = F.cross_entropy(out, torch_dataset_outputs)\n",
    "    losses.append(loss.item())\n",
    "    loss.backward()\n",
    "    optimizer.step()\n",
    "    optimizer.zero_grad()\n",
    "plt.plot(losses)\n",
    "plt.show()"
   ]
  },
  {
   "cell_type": "code",
   "execution_count": 169,
   "id": "33532ceb-ce7e-4c12-8aa2-7f4de084f09c",
   "metadata": {},
   "outputs": [
    {
     "data": {
      "text/plain": [
       "0.21631726622581482"
      ]
     },
     "execution_count": 169,
     "metadata": {},
     "output_type": "execute_result"
    }
   ],
   "source": [
    "losses[-1]"
   ]
  },
  {
   "cell_type": "code",
   "execution_count": 170,
   "id": "f8f8c7a4-837b-4104-8bc8-127eff50f8e8",
   "metadata": {},
   "outputs": [],
   "source": [
    "trained_out = mlp(torch_dataset_inputs)"
   ]
  },
  {
   "cell_type": "code",
   "execution_count": 178,
   "id": "5ec891e2-95fe-484a-90c0-a0370d75a9a2",
   "metadata": {},
   "outputs": [
    {
     "data": {
      "text/plain": [
       "tensor(613)"
      ]
     },
     "execution_count": 178,
     "metadata": {},
     "output_type": "execute_result"
    }
   ],
   "source": [
    "(torch.argmax(trained_out, dim=1) == torch_dataset_outputs).sum()"
   ]
  },
  {
   "cell_type": "code",
   "execution_count": 179,
   "id": "3be3ac9a-aaaf-481e-853e-5c5bd1c12fae",
   "metadata": {},
   "outputs": [
    {
     "data": {
      "text/plain": [
       "0.8757142857142857"
      ]
     },
     "execution_count": 179,
     "metadata": {},
     "output_type": "execute_result"
    }
   ],
   "source": [
    "613/700"
   ]
  },
  {
   "cell_type": "code",
   "execution_count": 181,
   "id": "a81c25ac-bec5-4c1e-9812-7d313da1168c",
   "metadata": {},
   "outputs": [],
   "source": [
    "torch.jit.script(mlp).save(\"torch_model_87_57.pt\")"
   ]
  },
  {
   "cell_type": "code",
   "execution_count": 191,
   "id": "f30ef623-dffc-455e-b5dd-1b65a0816e9d",
   "metadata": {},
   "outputs": [
    {
     "data": {
      "text/plain": [
       "Linear(in_features=23, out_features=64, bias=True)"
      ]
     },
     "execution_count": 191,
     "metadata": {},
     "output_type": "execute_result"
    }
   ],
   "source": [
    "mlp.mlp[0]"
   ]
  }
 ],
 "metadata": {
  "interpreter": {
   "hash": "eb58c41bbb521262f95c6d9ac0a5f393619bf1006f16a13252f81f5c637c534f"
  },
  "kernelspec": {
   "display_name": "Python 3 (ipykernel)",
   "language": "python",
   "name": "python3"
  },
  "language_info": {
   "codemirror_mode": {
    "name": "ipython",
    "version": 3
   },
   "file_extension": ".py",
   "mimetype": "text/x-python",
   "name": "python",
   "nbconvert_exporter": "python",
   "pygments_lexer": "ipython3",
   "version": "3.8.12"
  }
 },
 "nbformat": 4,
 "nbformat_minor": 5
}
